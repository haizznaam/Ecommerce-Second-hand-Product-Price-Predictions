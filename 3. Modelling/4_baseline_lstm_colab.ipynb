{
  "cells": [
    {
      "cell_type": "code",
      "execution_count": null,
      "metadata": {
        "cellView": "form",
        "colab": {
          "base_uri": "https://localhost:8080/"
        },
        "id": "cy6ED66F9-yw",
        "outputId": "124d5112-0503-4180-fd0e-5b8660aa6bee"
      },
      "outputs": [
        {
          "name": "stdout",
          "output_type": "stream",
          "text": [
            "Colab only includes TensorFlow 2.x; %tensorflow_version has no effect.\n",
            "2.15.0\n"
          ]
        }
      ],
      "source": [
        "# @title\n",
        "\n",
        "%tensorflow_version\n",
        "import tensorflow as tf\n",
        "print(tf.__version__)"
      ]
    },
    {
      "cell_type": "code",
      "execution_count": null,
      "metadata": {
        "id": "yBZUJnsRxRi9"
      },
      "outputs": [],
      "source": []
    },
    {
      "cell_type": "code",
      "execution_count": null,
      "metadata": {
        "colab": {
          "base_uri": "https://localhost:8080/"
        },
        "id": "yOyFtpBO-KHx",
        "outputId": "4440bfdb-436d-46b5-a51f-bf32676f685a"
      },
      "outputs": [
        {
          "name": "stdout",
          "output_type": "stream",
          "text": [
            "CWD is  /content\n"
          ]
        },
        {
          "name": "stderr",
          "output_type": "stream",
          "text": [
            "WARNING:root:pydrive is deprecated and no longer maintained. We recommend that you migrate your projects to pydrive2, the maintained fork of pydrive\n"
          ]
        }
      ],
      "source": [
        "#ref - https://stackoverflow.com/questions/14463277/how-to-disable-python-warnings\n",
        "\n",
        "# Basic Libs..\n",
        "import warnings\n",
        "warnings.filterwarnings(\"ignore\")\n",
        "import math\n",
        "import pandas as pd\n",
        "import numpy as np\n",
        "import scipy\n",
        "import scipy.sparse\n",
        "from tqdm import tqdm,tqdm_notebook\n",
        "from prettytable import PrettyTable\n",
        "import pickle\n",
        "from IPython.display import Image\n",
        "import os\n",
        "print('CWD is ',os.getcwd())\n",
        "\n",
        "# Vis Libs..\n",
        "import seaborn as sns\n",
        "import matplotlib.pyplot as plt\n",
        "from wordcloud import WordCloud\n",
        "\n",
        "# Text Libs..\n",
        "import re\n",
        "from gensim import corpora, models\n",
        "import gensim\n",
        "from gensim.utils import simple_preprocess\n",
        "from gensim.parsing.preprocessing import STOPWORDS\n",
        "from nltk.stem import WordNetLemmatizer, SnowballStemmer,PorterStemmer\n",
        "from nltk.stem.porter import *\n",
        "import nltk\n",
        "from nltk.sentiment.vader import SentimentIntensityAnalyzer\n",
        "from sklearn.feature_extraction.text import CountVectorizer,TfidfVectorizer\n",
        "from sklearn.preprocessing import LabelBinarizer\n",
        "\n",
        "# ML Libs...\n",
        "from sklearn.model_selection import train_test_split\n",
        "from sklearn.preprocessing import StandardScaler, MinMaxScaler\n",
        "from sklearn.linear_model import Ridge\n",
        "from sklearn.metrics import mean_squared_error\n",
        "import lightgbm as lgb\n",
        "from sklearn.feature_selection import SelectKBest,f_regression\n",
        "from sklearn.model_selection import GridSearchCV\n",
        "\n",
        "# DL Libs..\n",
        "from tensorflow.keras.preprocessing.text import Tokenizer\n",
        "from tensorflow.keras.preprocessing.sequence import pad_sequences\n",
        "from tensorflow.keras.layers import Dense, Input , Dropout, Flatten,concatenate,LSTM\n",
        "from tensorflow.keras.layers import Embedding\n",
        "import tensorflow.keras\n",
        "from tensorflow.keras.models import Model,load_model\n",
        "from tensorflow.keras.layers import BatchNormalization\n",
        "from tensorflow.keras.utils import plot_model\n",
        "from tensorflow.keras.callbacks import ModelCheckpoint,TensorBoard,ReduceLROnPlateau, EarlyStopping\n",
        "from tensorflow.keras import backend as K\n",
        "\n",
        "# Colab Libs...\n",
        "from pydrive.auth import GoogleAuth\n",
        "from pydrive.drive import GoogleDrive\n",
        "from google.colab import auth\n",
        "from oauth2client.client import GoogleCredentials"
      ]
    },
    {
      "cell_type": "markdown",
      "metadata": {
        "id": "m-J0qc2x_Iai"
      },
      "source": [
        "# 11. Baseline LSTM"
      ]
    },
    {
      "cell_type": "markdown",
      "metadata": {
        "id": "Rl2PmVYt_oo7"
      },
      "source": [
        "**Set up Colab Environment**"
      ]
    },
    {
      "cell_type": "code",
      "execution_count": null,
      "metadata": {
        "id": "HfYlfXlT_MEl"
      },
      "outputs": [],
      "source": [
        "auth.authenticate_user()\n",
        "gauth = GoogleAuth()\n",
        "gauth.credentials = GoogleCredentials.get_application_default()\n",
        "drive = GoogleDrive(gauth)"
      ]
    },
    {
      "cell_type": "code",
      "execution_count": null,
      "metadata": {
        "colab": {
          "base_uri": "https://localhost:8080/"
        },
        "id": "KeKJQu6U_UyX",
        "outputId": "38417c7d-37ea-4a31-fb9d-465f6ee3e62c"
      },
      "outputs": [
        {
          "name": "stdout",
          "output_type": "stream",
          "text": [
            "Mounted at /content/gdrive\n"
          ]
        }
      ],
      "source": [
        "from google.colab import drive\n",
        "drive.mount('/content/gdrive')"
      ]
    },
    {
      "cell_type": "code",
      "execution_count": null,
      "metadata": {
        "colab": {
          "base_uri": "https://localhost:8080/"
        },
        "id": "FClIv806_ktS",
        "outputId": "ef0f7eba-2d17-4803-b9ec-bf72568dbe9e"
      },
      "outputs": [
        {
          "name": "stdout",
          "output_type": "stream",
          "text": [
            "We are currently in the folder of  /content/gdrive/MyDrive/Mercari Price Prediction\n"
          ]
        }
      ],
      "source": [
        "import os\n",
        "os.chdir('/content/gdrive/MyDrive/Mercari Price Prediction')\n",
        "print(\"We are currently in the folder of \", os.getcwd())"
      ]
    },
    {
      "cell_type": "markdown",
      "metadata": {
        "id": "DB9BJrdmACrD"
      },
      "source": [
        "## 11.2. Load Data From GDrive"
      ]
    },
    {
      "cell_type": "code",
      "execution_count": null,
      "metadata": {
        "colab": {
          "base_uri": "https://localhost:8080/"
        },
        "id": "Amaw-ho7AIWB",
        "outputId": "0f62036f-8e75-45f1-b3b2-dbe400b37c13"
      },
      "outputs": [
        {
          "name": "stdout",
          "output_type": "stream",
          "text": [
            "(1111901, 8) \n",
            " (370634, 8)\n"
          ]
        }
      ],
      "source": [
        "# /content/gdrive/MyDrive/Mercari Price Prediction\n",
        "file = open('/content/gdrive/MyDrive/Mercari Price Prediction/2. Processing/storage/df_train_model', 'rb')\n",
        "df_train_model = pickle.load(file)\n",
        "file.close()\n",
        "\n",
        "file = open('/content/gdrive/MyDrive/Mercari Price Prediction/2. Processing/storage/df_test_model', 'rb')\n",
        "df_test_model = pickle.load(file)\n",
        "file.close()\n",
        "\n",
        "print(df_train_model.shape,'\\n',df_test_model.shape)"
      ]
    },
    {
      "cell_type": "markdown",
      "metadata": {
        "id": "mnxoYPKAB-RS"
      },
      "source": [
        "## 11.3. Encoding Text Data - 'Item Name, Item Description'"
      ]
    },
    {
      "cell_type": "code",
      "execution_count": null,
      "metadata": {
        "id": "zoYqgFQXCC3r"
      },
      "outputs": [],
      "source": [
        "'''\n",
        "Code for Text Cleaning & Preprocessing\n",
        "'''\n",
        "\n",
        "def decontracted(phrase):\n",
        "    # specific\n",
        "    phrase = re.sub(r\"won't\", \"will not\", phrase)\n",
        "    phrase = re.sub(r\"can\\'t\", \"can not\", phrase)\n",
        "\n",
        "    # general\n",
        "    phrase = re.sub(r\"n\\'t\", \" not\", phrase)\n",
        "    phrase = re.sub(r\"\\'re\", \" are\", phrase)\n",
        "    phrase = re.sub(r\"\\'s\", \" is\", phrase)\n",
        "    phrase = re.sub(r\"\\'d\", \" would\", phrase)\n",
        "    phrase = re.sub(r\"\\'ll\", \" will\", phrase)\n",
        "    phrase = re.sub(r\"\\'t\", \" not\", phrase)\n",
        "    phrase = re.sub(r\"\\'ve\", \" have\", phrase)\n",
        "    phrase = re.sub(r\"\\'m\", \" am\", phrase)\n",
        "    return phrase\n",
        "\n",
        "# https://gist.github.com/sebleier/554280\n",
        "# we are removing the words from the stop words list: 'no', 'nor', 'not'\n",
        "stopwords= ['i', 'me', 'my', 'myself', 'we', 'our', 'ours', 'ourselves', 'you', \"you're\", \"you've\",\\\n",
        "            \"you'll\", \"you'd\", 'your', 'yours', 'yourself', 'yourselves', 'he', 'him', 'his', 'himself', \\\n",
        "            'she', \"she's\", 'her', 'hers', 'herself', 'it', \"it's\", 'its', 'itself', 'they', 'them', 'their',\\\n",
        "            'theirs', 'themselves', 'what', 'which', 'who', 'whom', 'this', 'that', \"that'll\", 'these', 'those', \\\n",
        "            'am', 'is', 'are', 'was', 'were', 'be', 'been', 'being', 'have', 'has', 'had', 'having', 'do', 'does', \\\n",
        "            'did', 'doing', 'a', 'an', 'the', 'and', 'but', 'if', 'or', 'because', 'as', 'until', 'while', 'of', \\\n",
        "            'at', 'by', 'for', 'with', 'about', 'against', 'between', 'into', 'through', 'during', 'before', 'after',\\\n",
        "            'above', 'below', 'to', 'from', 'up', 'down', 'in', 'out', 'on', 'off', 'over', 'under', 'again', 'further',\\\n",
        "            'then', 'once', 'here', 'there', 'when', 'where', 'why', 'how', 'all', 'any', 'both', 'each', 'few', 'more',\\\n",
        "            'most', 'other', 'some', 'such', 'only', 'own', 'same', 'so', 'than', 'too', 'very', \\\n",
        "            's', 't', 'can', 'will', 'just', 'don', \"don't\", 'should', \"should've\", 'now', 'd', 'll', 'm', 'o', 're', \\\n",
        "            've', 'y', 'ain', 'aren', \"aren't\", 'couldn', \"couldn't\", 'didn', \"didn't\", 'doesn', \"doesn't\", 'hadn',\\\n",
        "            \"hadn't\", 'hasn', \"hasn't\", 'haven', \"haven't\", 'isn', \"isn't\", 'ma', 'mightn', \"mightn't\", 'mustn',\\\n",
        "            \"mustn't\", 'needn', \"needn't\", 'shan', \"shan't\", 'shouldn', \"shouldn't\", 'wasn', \"wasn't\", 'weren', \"weren't\", \\\n",
        "            'won', \"won't\", 'wouldn', \"wouldn't\"]\n",
        "\n",
        "def text_preprocess(data):\n",
        "    preprocessed = []\n",
        "    # tqdm is for printing the status bar\n",
        "    for sentance in tqdm_notebook(data):\n",
        "        sent = decontracted(sentance)\n",
        "        sent = sent.replace('\\\\r', ' ')\n",
        "        sent = sent.replace('\\\\\"', ' ')\n",
        "        sent = sent.replace('\\\\n', ' ')\n",
        "        sent = re.sub('[^A-Za-z0-9]+', ' ', sent)\n",
        "        # https://gist.github.com/sebleier/554280\n",
        "        sent = ' '.join(e for e in sent.split() if e not in stopwords)\n",
        "        preprocessed.append(sent.lower().strip())\n",
        "    return preprocessed"
      ]
    },
    {
      "cell_type": "code",
      "execution_count": null,
      "metadata": {
        "id": "MSri4f7UCbDz"
      },
      "outputs": [],
      "source": [
        "'''This Code uses Keraas Tokeizer to create Word Tokens\n",
        "from the Text Vocabulary, it takes in train, test text data as input,\n",
        "return keras tokenizer and tokeized train, test datasets'''\n",
        "\n",
        "def text_tokenize(train, test):\n",
        "  t = Tokenizer()\n",
        "  t.fit_on_texts(train)\n",
        "\n",
        "  train_tokenized = t.texts_to_sequences(train)\n",
        "  test_tokenized = t.texts_to_sequences(test)\n",
        "  return train_tokenized, test_tokenized, t"
      ]
    },
    {
      "cell_type": "code",
      "execution_count": null,
      "metadata": {
        "id": "PbAyoeskF8tu"
      },
      "outputs": [],
      "source": [
        "'''This Code takes train, test data and performs Pre-padding with (max_length = sl)\n",
        "which can be input as required'''\n",
        "\n",
        "def text_padding(train, test, sl):\n",
        "  padded_train_text = pad_sequences(train, maxlen = sl, padding = 'pre')\n",
        "  padded_test_text = pad_sequences(test, maxlen = sl, padding = 'pre')\n",
        "  return padded_train_text, padded_test_text"
      ]
    },
    {
      "cell_type": "markdown",
      "metadata": {
        "id": "Is1ZpeXvPuR3"
      },
      "source": [
        "**Performing Text Processing Pipeline - Clean > Preprocess > Encoder > Padding**"
      ]
    },
    {
      "cell_type": "code",
      "execution_count": null,
      "metadata": {
        "id": "feJHzZQtP1M-"
      },
      "outputs": [],
      "source": [
        "df_train_model['name'] = df_train_model['name'].replace([np.nan],'')\n",
        "df_test_model['name'] = df_test_model['name'].replace([np.nan],'')\n",
        "\n",
        "df_train_model['item_description'] = df_train_model['item_description'].replace([np.nan,'No description yet'], '')\n",
        "df_test_model['item_description'] = df_test_model['item_description'].replace([np.nan,'No description yet'], '')\n"
      ]
    },
    {
      "cell_type": "code",
      "execution_count": null,
      "metadata": {
        "colab": {
          "base_uri": "https://localhost:8080/",
          "height": 145,
          "referenced_widgets": [
            "ce2ceb7eeed34b5ab39c962738831598",
            "411e68e1af3d43a086da319d5b0e3534",
            "5b377db706694fe0a0a9982a36cc8de8",
            "c37c4dba8f6a4892a8d8a520b5fb36ea",
            "646193ba191348a5976c31f99b364ca8",
            "d54542e82b3f430499900714a9505ee5",
            "935bc97de6e1493a8d335c058261211a",
            "ff7c8f8cdd1b40ae8ad7cb8cf235fae1",
            "1d9560b058f149e6b08694270d2fd189",
            "a2393e820bd449a3a7452bfd6c13275d",
            "fd8c903be21c4adc936c2d582649c4a4",
            "13d2ba8094c143d98bac5f8d1483a6d9",
            "60fbb7e69d2b403b845b96e86d054347",
            "e2b4d071194a4073b646ac895271b8ed",
            "6a4451d289304553b5db3f76042c9980",
            "ec942a7c7a22413684adf7412a9045d7",
            "8ef6079491aa40d1a26597c2e6053d6c",
            "83e07cc0d7d942f296d958236e023d06",
            "0f80d571afec47219d4fc999176d416c",
            "31d6c64bdf724fce9a80b6fe9ee1eb1a",
            "73149b13299043a4bc59643fe9d3a132",
            "8339a75e31a641589a9edc46135e42b9",
            "09a182de368640ac907d3bf82d49de3e",
            "d08e156c9a1543d9a345494180d3b6d5",
            "ccd31706aeb44865ade2075d937f5b1d",
            "185706777fb5492e93fc7d1e0b319603",
            "da46bc8d5ff74167af62526cd0c7b7ed",
            "7c22cf0d4592460d96a506bee9ea46c2",
            "73ef71f4bdc8487b9aebcaf1652fd91a",
            "28a3d6839da94261a60c76ae6e1e1c6d",
            "37dbb3f66e4e44b8a65c2198791c3380",
            "f31f6a12cb674e4d9b0b33394856b14a",
            "ab6f5e905f8b4a6fb8510f0a9934503f",
            "1f1fa4fbcf084e58bd5457f711b31413",
            "fe8f83e103f54bbfac376c0f4c664119",
            "998effb06b2949118f6c20695e3733cf",
            "2094695f20224215825a6e1df9481080",
            "434021f653884bf293e5c06d83f70809",
            "4b3489c9575d4f32a359ffccc68d73c9",
            "5637d65501c642afb1932a95196033d5",
            "70b6ea37f1bf433e904a6e510a7254c2",
            "b97b683681864449a39f5c7423d7eb40",
            "2eab49018dd34b5e8d6191fae577be80",
            "cb41af9b32ba4e6bae3811b3cbe67bf1"
          ]
        },
        "id": "WAFS2pIfPYb6",
        "outputId": "4d0581d7-354f-4f09-f677-a0d2094dc8ac"
      },
      "outputs": [
        {
          "data": {
            "application/vnd.jupyter.widget-view+json": {
              "model_id": "ce2ceb7eeed34b5ab39c962738831598",
              "version_major": 2,
              "version_minor": 0
            },
            "text/plain": [
              "  0%|          | 0/1111901 [00:00<?, ?it/s]"
            ]
          },
          "metadata": {},
          "output_type": "display_data"
        },
        {
          "data": {
            "application/vnd.jupyter.widget-view+json": {
              "model_id": "13d2ba8094c143d98bac5f8d1483a6d9",
              "version_major": 2,
              "version_minor": 0
            },
            "text/plain": [
              "  0%|          | 0/370634 [00:00<?, ?it/s]"
            ]
          },
          "metadata": {},
          "output_type": "display_data"
        },
        {
          "data": {
            "application/vnd.jupyter.widget-view+json": {
              "model_id": "09a182de368640ac907d3bf82d49de3e",
              "version_major": 2,
              "version_minor": 0
            },
            "text/plain": [
              "  0%|          | 0/1111901 [00:00<?, ?it/s]"
            ]
          },
          "metadata": {},
          "output_type": "display_data"
        },
        {
          "data": {
            "application/vnd.jupyter.widget-view+json": {
              "model_id": "1f1fa4fbcf084e58bd5457f711b31413",
              "version_major": 2,
              "version_minor": 0
            },
            "text/plain": [
              "  0%|          | 0/370634 [00:00<?, ?it/s]"
            ]
          },
          "metadata": {},
          "output_type": "display_data"
        }
      ],
      "source": [
        "train_name = text_preprocess(df_train_model['name'])\n",
        "test_name = text_preprocess(df_test_model['name'])\n",
        "\n",
        "train_desc = text_preprocess(df_train_model['item_description'])\n",
        "test_desc = text_preprocess(df_test_model['item_description'])"
      ]
    },
    {
      "cell_type": "code",
      "execution_count": null,
      "metadata": {
        "id": "v6XI43FhTx3h"
      },
      "outputs": [],
      "source": [
        "train_name,test_name,tokenizer_name = text_tokenize(train_name,test_name)\n",
        "train_desc,test_desc,tokenizer_desc = text_tokenize(train_desc,test_desc)"
      ]
    },
    {
      "cell_type": "code",
      "execution_count": null,
      "metadata": {
        "id": "JTMa0LxTZ3nZ"
      },
      "outputs": [],
      "source": [
        "'''\n",
        "This code selects the optimum padding length based on\n",
        "most commonly occuring sentence lenght by anlyzing sentence lengths\n",
        "distribution across sentences\n",
        "'''\n",
        "\n",
        "def select_padding(train, t, col, sen_len):\n",
        "  len_texts = [len(x) for x in train]\n",
        "  print('Total number of words in the document are ',len(t.word_index) + 1)\n",
        "  print((len(list(filter(lambda x : x > sen_len,len_texts)))/len(len_texts))*100,\n",
        "      \" % of rows have sentence length > \",sen_len,'\\n')\n",
        "  sns.distplot(len_texts, kde=False).set_title(\"Padding Length Selection of \"+ str(col))\n",
        "  plt.show()"
      ]
    },
    {
      "cell_type": "code",
      "execution_count": null,
      "metadata": {
        "colab": {
          "base_uri": "https://localhost:8080/",
          "height": 506
        },
        "id": "yyIvGgBjcwCk",
        "outputId": "acb46be7-020a-4557-e22e-1412e8c1adc1"
      },
      "outputs": [
        {
          "name": "stdout",
          "output_type": "stream",
          "text": [
            "Total number of words in the document are  89566\n",
            "0.009892967089695935  % of rows have sentence length >  10 \n",
            "\n"
          ]
        },
        {
          "data": {
            "image/png": "[encoded data removed]",
            "text/plain": [
              "<Figure size 640x480 with 1 Axes>"
            ]
          },
          "metadata": {},
          "output_type": "display_data"
        }
      ],
      "source": [
        "select_padding(train_name, tokenizer_name, 'Item Names', 10)"
      ]
    },
    {
      "cell_type": "code",
      "execution_count": null,
      "metadata": {
        "colab": {
          "base_uri": "https://localhost:8080/",
          "height": 506
        },
        "id": "6s6ZyKh_bUKE",
        "outputId": "2199335b-46c4-4475-e38f-3ab1fb5c87e0"
      },
      "outputs": [
        {
          "name": "stdout",
          "output_type": "stream",
          "text": [
            "Total number of words in the document are  138020\n",
            "0.5882717975791011  % of rows have sentence length >  125 \n",
            "\n"
          ]
        },
        {
          "data": {
            "image/png": "[encoded data removed]",
            "text/plain": [
              "<Figure size 640x480 with 1 Axes>"
            ]
          },
          "metadata": {},
          "output_type": "display_data"
        }
      ],
      "source": [
        "select_padding(train_desc, tokenizer_desc, 'Item Description', 125)"
      ]
    },
    {
      "cell_type": "code",
      "execution_count": null,
      "metadata": {
        "id": "l3bj4gx_eWU1"
      },
      "outputs": [],
      "source": [
        "# selecting these values from the graph above\n",
        "NAME_LENGTH = 10\n",
        "DESC_LENGTH = 125"
      ]
    },
    {
      "cell_type": "code",
      "execution_count": null,
      "metadata": {
        "id": "NgZr5HIue1jb"
      },
      "outputs": [],
      "source": [
        "train_name_pad,test_name_pad = text_padding(train_name,test_name,NAME_LENGTH)\n",
        "train_desc_pad,test_desc_pad = text_padding(train_desc,test_desc,DESC_LENGTH)"
      ]
    },
    {
      "cell_type": "markdown",
      "metadata": {
        "id": "s_VX23Wje7vy"
      },
      "source": [
        "## 11.4. Encoding Categorical Features - Cat, Brand, Ship, Item - Cond"
      ]
    },
    {
      "cell_type": "code",
      "execution_count": null,
      "metadata": {
        "id": "ijXtalcbfCn4"
      },
      "outputs": [],
      "source": [
        "'''\n",
        "This Code performs Categorical Feature to Numeric\n",
        "Encodings based on Ranks by Word Frequency in the Vocabulary,\n",
        "takes train, test as input and returns encoded train, test data\n",
        "and the vocab size as output\n",
        "'''\n",
        "\n",
        "def self_token(column):\n",
        "  unique = list(set(column))\n",
        "  total = list(column)\n",
        "  size = len(unique)\n",
        "  count = []\n",
        "\n",
        "  for category in unique:\n",
        "    count.append([total.count(category), category])\n",
        "  count.sort()\n",
        "\n",
        "  rank = {}\n",
        "  for i in range(1, len(count) + 1):\n",
        "    rank.update({count[i-1][1] : i})\n",
        "  return (rank, unique, size)\n",
        "\n",
        "def category_encoder(train, test):\n",
        "  cat_rank, unique, size = self_token(train)\n",
        "  encoded_train = []\n",
        "  encoded_test = []\n",
        "\n",
        "  for category in train:\n",
        "    encoded_train.append(cat_rank[category])\n",
        "\n",
        "  for category in test:\n",
        "    if category in unique:\n",
        "      encoded_test.append(cat_rank[category])\n",
        "    else:\n",
        "      encoded_test.append(0)\n",
        "\n",
        "  encoded_train = np.asarray(encoded_train)\n",
        "  encoded_test = np.asarray(encoded_test)\n",
        "  return encoded_train, encoded_test, size\n"
      ]
    },
    {
      "cell_type": "code",
      "execution_count": null,
      "metadata": {
        "id": "MqvydVP9isuO"
      },
      "outputs": [],
      "source": [
        "train_ship,test_ship,ship_size = category_encoder(df_train_model['shipping'].astype('category'),\n",
        "                                                  df_test_model['shipping'].astype('category'))\n",
        "\n",
        "train_ici,test_ici,ici_size = category_encoder(df_train_model['item_condition_id'].astype('category'),\n",
        "                                                  df_test_model['item_condition_id'].astype('category'))\n",
        "\n",
        "train_brand,test_brand,brand_size = category_encoder(df_train_model['brand_name'].fillna('missing').astype('category'),\n",
        "                                                  df_test_model['brand_name'].fillna('missing').astype('category'))\n",
        "\n",
        "train_cat,test_cat,cat_size = category_encoder(df_train_model['category_name'].fillna('missing').astype('category'),\n",
        "                                                  df_test_model['category_name'].fillna('missing').astype('category'))"
      ]
    },
    {
      "cell_type": "markdown",
      "metadata": {
        "id": "DmSDaDSCk17e"
      },
      "source": [
        "## 11.5. Creating Embedding Layers"
      ]
    },
    {
      "cell_type": "code",
      "execution_count": null,
      "metadata": {
        "id": "BOAX2fVFHuPB"
      },
      "outputs": [],
      "source": [
        "'''\n",
        "This Code creates an embedding matrix using Glove 300-D\n",
        "vector representation of words.\n",
        "It Creates an Embedding Matrix of\n",
        "shape (vocab_size,300)\n",
        "'''\n",
        "\n",
        "import pickle\n",
        "\n",
        "def generate_embedding_matrix(token):\n",
        "    with open('/content/gdrive/MyDrive/Mercari Price Prediction/3. Modelling/final_processing/glove_vectors.pkl', 'rb') as f:\n",
        "        model = pickle.load(f)  # Load the KeyedVectors model\n",
        "\n",
        "    # Get word vocabulary using model.index_to_key (instead of keys())\n",
        "    glove_words = set(model.index_to_key)\n",
        "\n",
        "    embedding_matrix_text = np.zeros((len(token.word_index) + 1, 300))\n",
        "    for word, i in tqdm_notebook(token.word_index.items()):\n",
        "        if word in glove_words:\n",
        "            embedding_vector = model[word]  # Access vectors using model[word]\n",
        "            embedding_matrix_text[i] = embedding_vector\n",
        "\n",
        "    return embedding_matrix_text"
      ]
    },
    {
      "cell_type": "code",
      "execution_count": null,
      "metadata": {
        "colab": {
          "base_uri": "https://localhost:8080/",
          "height": 99,
          "referenced_widgets": [
            "79f6e52d2a2d482faf9f7014a0ee54fc",
            "72d2fa2bcebf444aace76dabcff974e9",
            "fb7efacf85b24058975b9cd93fbb02f2",
            "8f8ba500a0c841a0938610e6a13f2272",
            "55bde5765e514c8588d395f4bc791d72",
            "f9d5d16f5d094149a4f4c34f7ce219e5",
            "db097bc868104a96bfe147b38bd6f7b3",
            "d2539d26e5a14b99af4326b95c119550",
            "e76e102414784e1a9d55985f9bc1f576",
            "30eca7b392304689bed6940023a07a2e",
            "e194f1de0201477ea5c4c260cf03200a",
            "dca4c21c309d421ba613ec4df45230ee",
            "3bcdf6cf94e24e719243bb80d778323d",
            "af09a74b7bb34c51a09377769fc094c2",
            "079297e7bcfb4f3bb08af60ece0e987b",
            "20078cb4dd434a6a89abdb5fe676d759",
            "b1724918b7ea4ca39514d36d0fd485e4",
            "2c56121759624af7a14dad452e3dd225",
            "d7a728a2d1b04372b05e60ec06346f6d",
            "a812a74d3d7f4066ad6a573969f164f1",
            "8f50c45b906c4554abf72eb9a09a7412",
            "4411aa5c007b4ef792be3c1416d7419c"
          ]
        },
        "id": "5s-jjmCKHBL7",
        "outputId": "2bac628d-b44a-4b11-f592-0a1749ee3241"
      },
      "outputs": [
        {
          "data": {
            "application/vnd.jupyter.widget-view+json": {
              "model_id": "79f6e52d2a2d482faf9f7014a0ee54fc",
              "version_major": 2,
              "version_minor": 0
            },
            "text/plain": [
              "  0%|          | 0/89565 [00:00<?, ?it/s]"
            ]
          },
          "metadata": {},
          "output_type": "display_data"
        },
        {
          "data": {
            "application/vnd.jupyter.widget-view+json": {
              "model_id": "dca4c21c309d421ba613ec4df45230ee",
              "version_major": 2,
              "version_minor": 0
            },
            "text/plain": [
              "  0%|          | 0/138019 [00:00<?, ?it/s]"
            ]
          },
          "metadata": {},
          "output_type": "display_data"
        },
        {
          "name": "stdout",
          "output_type": "stream",
          "text": [
            "(89566, 300) (138020, 300)\n"
          ]
        }
      ],
      "source": [
        "embedding_name = generate_embedding_matrix(tokenizer_name)\n",
        "embedding_desc = generate_embedding_matrix(tokenizer_desc)\n",
        "print(embedding_name.shape,embedding_desc.shape)"
      ]
    },
    {
      "cell_type": "markdown",
      "metadata": {
        "id": "c16m9Dw-3TVM"
      },
      "source": [
        "## 11.6. Numeric Features - 17 new Features generated"
      ]
    },
    {
      "cell_type": "code",
      "execution_count": null,
      "metadata": {
        "id": "ApsqxnOm3Xcd"
      },
      "outputs": [],
      "source": [
        "'''\n",
        "Loading the 17 features generated in the Feature Engineering section\n",
        "'''\n",
        "\n",
        "file = open('/content/gdrive/MyDrive/Mercari Price Prediction/2. Processing/storage/train_desc_feats', 'rb')\n",
        "train_desc_feats = pickle.load(file)\n",
        "file.close()\n",
        "\n",
        "file = open('/content/gdrive/MyDrive/Mercari Price Prediction/2. Processing/storage/test_desc_feats', 'rb')\n",
        "test_desc_feats = pickle.load(file)\n",
        "file.close()\n",
        "\n",
        "file = open('/content/gdrive/MyDrive/Mercari Price Prediction/2. Processing/storage/train_senti_names', 'rb')\n",
        "train_senti_names = pickle.load(file)\n",
        "file.close()\n",
        "file = open('/content/gdrive/MyDrive/Mercari Price Prediction/2. Processing/storage/test_senti_names', 'rb')\n",
        "test_senti_names = pickle.load(file)\n",
        "file.close()\n",
        "\n",
        "file = open('/content/gdrive/MyDrive/Mercari Price Prediction/2. Processing/storage/train_senti_desc', 'rb')\n",
        "train_senti_desc = pickle.load(file)\n",
        "file.close()\n",
        "\n",
        "file = open('/content/gdrive/MyDrive/Mercari Price Prediction/2. Processing/storage/test_senti_desc', 'rb')\n",
        "test_senti_desc = pickle.load(file)\n",
        "file.close()\n",
        "#####################################################################\n",
        "file = open('/content/gdrive/MyDrive/Mercari Price Prediction/2. Processing/storage/train_cbs_feats', 'rb')\n",
        "train_cbs_feats = pickle.load(file)\n",
        "file.close()\n",
        "\n",
        "file = open('/content/gdrive/MyDrive/Mercari Price Prediction/2. Processing/storage/test_cbs_feats', 'rb')\n",
        "test_cbs_feats = pickle.load(file)\n",
        "file.close()\n"
      ]
    },
    {
      "cell_type": "code",
      "execution_count": null,
      "metadata": {
        "colab": {
          "base_uri": "https://localhost:8080/"
        },
        "id": "e2kJ7GfY4bW4",
        "outputId": "da1d2a93-6f2f-4c0e-cb6c-bccc3294325b"
      },
      "outputs": [
        {
          "name": "stdout",
          "output_type": "stream",
          "text": [
            "(1111901, 17) \n",
            " (370634, 17)\n"
          ]
        }
      ],
      "source": [
        "'''Creating Feature stack using np.hstack to pass into LSTM model'''\n",
        "\n",
        "X_train_numerics = np.hstack((train_desc_feats,\n",
        "                              np.array(train_senti_names).reshape(-1,1),\n",
        "                              np.array(train_senti_desc).reshape(-1,1),\n",
        "                              train_cbs_feats))\n",
        "X_test_numerics = np.hstack((test_desc_feats,\n",
        "                              np.array(test_senti_names).reshape(-1,1),\n",
        "                              np.array(test_senti_desc).reshape(-1,1),\n",
        "                              test_cbs_feats))\n",
        "\n",
        "print(X_train_numerics.shape,'\\n',X_test_numerics.shape)"
      ]
    },
    {
      "cell_type": "code",
      "execution_count": null,
      "metadata": {
        "id": "N-xaFkXp5CqS"
      },
      "outputs": [],
      "source": [
        "'''Creating the Train,Test Input to pass into LSTM Input Layers as list'''\n",
        "\n",
        "X_train = [train_name_pad,train_desc_pad,\n",
        "         np.array(train_ship),np.array(train_ici),np.array(train_brand),np.array(train_cat),\n",
        "         X_train_numerics]\n",
        "X_test =  [test_name_pad,test_desc_pad,\n",
        "         np.array(test_ship),np.array(test_ici),np.array(test_brand),np.array(test_cat),\n",
        "         X_test_numerics]\n",
        "\n",
        "y_train = np.log1p(df_train_model['price'])\n",
        "y_test = np.log1p(df_test_model['price'])"
      ]
    },
    {
      "cell_type": "code",
      "execution_count": null,
      "metadata": {
        "id": "51JLKxFi74ui"
      },
      "outputs": [],
      "source": [
        "file = open('/content/gdrive/MyDrive/Mercari Price Prediction/3. Modelling/final_processing/lstm features/X_train', 'wb')\n",
        "pickle.dump(X_train, file)\n",
        "file.close()\n",
        "file = open('/content/gdrive/MyDrive/Mercari Price Prediction/3. Modelling/final_processing/lstm features/X_test', 'wb')\n",
        "pickle.dump(X_test, file)\n",
        "file.close()\n",
        "\n",
        "file = open('/content/gdrive/MyDrive/Mercari Price Prediction/3. Modelling/final_processing/lstm features/y_train', 'wb')\n",
        "pickle.dump(y_train, file)\n",
        "file.close()\n",
        "file = open('/content/gdrive/MyDrive/Mercari Price Prediction/3. Modelling/final_processing/lstm features/y_test', 'wb')\n",
        "pickle.dump(y_test, file)\n",
        "file.close()\n",
        "\n",
        "file = open('/content/gdrive/MyDrive/Mercari Price Prediction/3. Modelling/final_processing/lstm features/tokenizer_name', 'wb')\n",
        "pickle.dump(tokenizer_name, file)\n",
        "file.close()\n",
        "file = open('/content/gdrive/MyDrive/Mercari Price Prediction/3. Modelling/final_processing/lstm features/tokenizer_desc', 'wb')\n",
        "pickle.dump(y_test, file)\n",
        "file.close()\n",
        "\n",
        "file = open('/content/gdrive/MyDrive/Mercari Price Prediction/3. Modelling/final_processing/lstm features/embedding_name', 'wb')\n",
        "pickle.dump(embedding_name, file)\n",
        "file.close()\n",
        "file = open('/content/gdrive/MyDrive/Mercari Price Prediction/3. Modelling/final_processing/lstm features/embedding_desc', 'wb')\n",
        "pickle.dump(embedding_desc, file)\n",
        "file.close()\n"
      ]
    },
    {
      "cell_type": "markdown",
      "metadata": {
        "id": "p5218u8w9rla"
      },
      "source": [
        "## 11.7. Create LSTM Model"
      ]
    },
    {
      "cell_type": "code",
      "execution_count": null,
      "metadata": {
        "id": "kMsnyJlS9veF"
      },
      "outputs": [],
      "source": [
        "'''\n",
        "This Code builds the LSTM Model Architecture based on Input Data size, parameters passed\n",
        "'''\n",
        "\n",
        "def build_lstm_model(NAME_LENGTH,tokenizer_name,embedding_name,DESC_LENGTH,tokenizer_desc,embedding_desc,ship_size,ici_size,brand_size,cat_size,NUMERIC_LENGTH):\n",
        "\n",
        "    text_input_name = Input(shape=(NAME_LENGTH,), name='TEXT_ITEM_NAME')\n",
        "    x = Embedding(len(tokenizer_name.word_index) + 1, 300, weights=[embedding_name], input_length=NAME_LENGTH)(text_input_name)\n",
        "    lstm_out = LSTM(100,recurrent_dropout=0.25,return_sequences=True)(x)\n",
        "    flatten_1 = Flatten()(lstm_out)\n",
        "\n",
        "    text_input_desc = Input(shape=(DESC_LENGTH,), name='TEXT_DESC_NAME')\n",
        "    x = Embedding(len(tokenizer_desc.word_index) + 1, 300, weights=[embedding_desc], input_length=DESC_LENGTH)(text_input_desc)\n",
        "    lstm_out = LSTM(100,recurrent_dropout=0.25,return_sequences=True)(x)\n",
        "    flatten_2 = Flatten()(lstm_out)\n",
        "\n",
        "    shipping_feat = Input(shape=(1,), name='SHIPPING')\n",
        "    x = Embedding(ship_size + 1, 10, input_length=1)(shipping_feat)\n",
        "    flatten_3 = Flatten()(x)\n",
        "\n",
        "    item_cond_feat = Input(shape=(1,), name='ITEM_CONDITION')\n",
        "    x = Embedding(ici_size + 1, 10, input_length=1)(item_cond_feat)\n",
        "    flatten_4 = Flatten()(x)\n",
        "\n",
        "    brand_feat = Input(shape=(1,), name='BRAND')\n",
        "    x = Embedding(brand_size + 1, 10, input_length=1)(brand_feat)\n",
        "    flatten_5 = Flatten()(x)\n",
        "\n",
        "    cat_feat = Input(shape=(1,), name='CATEGORY')\n",
        "    x = Embedding(cat_size + 1, 10, input_length=1)(cat_feat)\n",
        "    flatten_6 = Flatten()(x)\n",
        "\n",
        "    numeric_feat = Input(shape=(NUMERIC_LENGTH,), name='NUMERIC_FEATURES')\n",
        "    dense_1 = Dense(1, activation='relu',kernel_initializer=\"he_normal\",kernel_regularizer=tensorflow.keras.regularizers.l2(0.001))(numeric_feat)\n",
        "\n",
        "    x = concatenate([flatten_1,flatten_2,flatten_3,flatten_4,flatten_5,flatten_6,dense_1])\n",
        "\n",
        "    x = Dense(100, activation='relu',kernel_initializer=\"he_normal\",kernel_regularizer=tensorflow.keras.regularizers.l2(0.001))(x)\n",
        "    x = Dropout(0.2)(x)\n",
        "    x = BatchNormalization()(x)\n",
        "    x = Dense(50, activation='relu',kernel_initializer=\"he_normal\",kernel_regularizer=tensorflow.keras.regularizers.l2(0.001))(x)\n",
        "    x = Dropout(0.3)(x)\n",
        "    x = BatchNormalization()(x)\n",
        "\n",
        "    x = Dense(10, activation='relu',kernel_initializer=\"he_normal\",kernel_regularizer=tensorflow.keras.regularizers.l2(0.001))(x)\n",
        "    final_output = Dense(1, activation='linear')(x)\n",
        "\n",
        "    model = Model(inputs=[text_input_name,text_input_desc,\n",
        "                          shipping_feat,item_cond_feat,brand_feat,cat_feat,\n",
        "                          numeric_feat],\n",
        "                  outputs=[final_output])\n",
        "    return model"
      ]
    },
    {
      "cell_type": "code",
      "execution_count": null,
      "metadata": {
        "colab": {
          "base_uri": "https://localhost:8080/"
        },
        "id": "mfuI2b_n-t9D",
        "outputId": "e4d230dd-f662-4642-eabf-fe420708e068"
      },
      "outputs": [
        {
          "name": "stdout",
          "output_type": "stream",
          "text": [
            "Model: \"model\"\n",
            "__________________________________________________________________________________________________\n",
            " Layer (type)                Output Shape                 Param #   Connected to                  \n",
            "==================================================================================================\n",
            " TEXT_ITEM_NAME (InputLayer  [(None, 10)]                 0         []                            \n",
            " )                                                                                                \n",
            "                                                                                                  \n",
            " TEXT_DESC_NAME (InputLayer  [(None, 125)]                0         []                            \n",
            " )                                                                                                \n",
            "                                                                                                  \n",
            " embedding (Embedding)       (None, 10, 300)              2686980   ['TEXT_ITEM_NAME[0][0]']      \n",
            "                                                          0                                       \n",
            "                                                                                                  \n",
            " embedding_1 (Embedding)     (None, 125, 300)             4140600   ['TEXT_DESC_NAME[0][0]']      \n",
            "                                                          0                                       \n",
            "                                                                                                  \n",
            " SHIPPING (InputLayer)       [(None, 1)]                  0         []                            \n",
            "                                                                                                  \n",
            " ITEM_CONDITION (InputLayer  [(None, 1)]                  0         []                            \n",
            " )                                                                                                \n",
            "                                                                                                  \n",
            " BRAND (InputLayer)          [(None, 1)]                  0         []                            \n",
            "                                                                                                  \n",
            " CATEGORY (InputLayer)       [(None, 1)]                  0         []                            \n",
            "                                                                                                  \n",
            " lstm (LSTM)                 (None, 10, 100)              160400    ['embedding[0][0]']           \n",
            "                                                                                                  \n",
            " lstm_1 (LSTM)               (None, 125, 100)             160400    ['embedding_1[0][0]']         \n",
            "                                                                                                  \n",
            " embedding_2 (Embedding)     (None, 1, 10)                30        ['SHIPPING[0][0]']            \n",
            "                                                                                                  \n",
            " embedding_3 (Embedding)     (None, 1, 10)                60        ['ITEM_CONDITION[0][0]']      \n",
            "                                                                                                  \n",
            " embedding_4 (Embedding)     (None, 1, 10)                44640     ['BRAND[0][0]']               \n",
            "                                                                                                  \n",
            " embedding_5 (Embedding)     (None, 1, 10)                12620     ['CATEGORY[0][0]']            \n",
            "                                                                                                  \n",
            " NUMERIC_FEATURES (InputLay  [(None, 17)]                 0         []                            \n",
            " er)                                                                                              \n",
            "                                                                                                  \n",
            " flatten (Flatten)           (None, 1000)                 0         ['lstm[0][0]']                \n",
            "                                                                                                  \n",
            " flatten_1 (Flatten)         (None, 12500)                0         ['lstm_1[0][0]']              \n",
            "                                                                                                  \n",
            " flatten_2 (Flatten)         (None, 10)                   0         ['embedding_2[0][0]']         \n",
            "                                                                                                  \n",
            " flatten_3 (Flatten)         (None, 10)                   0         ['embedding_3[0][0]']         \n",
            "                                                                                                  \n",
            " flatten_4 (Flatten)         (None, 10)                   0         ['embedding_4[0][0]']         \n",
            "                                                                                                  \n",
            " flatten_5 (Flatten)         (None, 10)                   0         ['embedding_5[0][0]']         \n",
            "                                                                                                  \n",
            " dense (Dense)               (None, 1)                    18        ['NUMERIC_FEATURES[0][0]']    \n",
            "                                                                                                  \n",
            " concatenate (Concatenate)   (None, 13541)                0         ['flatten[0][0]',             \n",
            "                                                                     'flatten_1[0][0]',           \n",
            "                                                                     'flatten_2[0][0]',           \n",
            "                                                                     'flatten_3[0][0]',           \n",
            "                                                                     'flatten_4[0][0]',           \n",
            "                                                                     'flatten_5[0][0]',           \n",
            "                                                                     'dense[0][0]']               \n",
            "                                                                                                  \n",
            " dense_1 (Dense)             (None, 100)                  1354200   ['concatenate[0][0]']         \n",
            "                                                                                                  \n",
            " dropout (Dropout)           (None, 100)                  0         ['dense_1[0][0]']             \n",
            "                                                                                                  \n",
            " batch_normalization (Batch  (None, 100)                  400       ['dropout[0][0]']             \n",
            " Normalization)                                                                                   \n",
            "                                                                                                  \n",
            " dense_2 (Dense)             (None, 50)                   5050      ['batch_normalization[0][0]'] \n",
            "                                                                                                  \n",
            " dropout_1 (Dropout)         (None, 50)                   0         ['dense_2[0][0]']             \n",
            "                                                                                                  \n",
            " batch_normalization_1 (Bat  (None, 50)                   200       ['dropout_1[0][0]']           \n",
            " chNormalization)                                                                                 \n",
            "                                                                                                  \n",
            " dense_3 (Dense)             (None, 10)                   510       ['batch_normalization_1[0][0]'\n",
            "                                                                    ]                             \n",
            "                                                                                                  \n",
            " dense_4 (Dense)             (None, 1)                    11        ['dense_3[0][0]']             \n",
            "                                                                                                  \n",
            "==================================================================================================\n",
            "Total params: 70014339 (267.08 MB)\n",
            "Trainable params: 70014039 (267.08 MB)\n",
            "Non-trainable params: 300 (1.17 KB)\n",
            "__________________________________________________________________________________________________\n"
          ]
        }
      ],
      "source": [
        "\n",
        "'''Summarizing the Model Built'''\n",
        "\n",
        "baseline_lstm_model = build_lstm_model(NAME_LENGTH,tokenizer_name,embedding_name,\n",
        "                                       DESC_LENGTH,tokenizer_desc,embedding_desc,\n",
        "                                       ship_size,ici_size,brand_size,cat_size,X_train_numerics.shape[1])\n",
        "baseline_lstm_model.summary()"
      ]
    },
    {
      "cell_type": "code",
      "execution_count": null,
      "metadata": {
        "colab": {
          "base_uri": "https://localhost:8080/",
          "height": 806
        },
        "id": "sLSXkemj-wYW",
        "outputId": "d2e8b321-4b22-48ed-b861-070e7fba5421"
      },
      "outputs": [
        {
          "data": {
            "image/png": "[encoded data removed]",
            "text/plain": [
              "<IPython.core.display.Image object>"
            ]
          },
          "execution_count": 28,
          "metadata": {},
          "output_type": "execute_result"
        }
      ],
      "source": [
        "'''Graphical Visualization of LSTM Model'''\n",
        "\n",
        "plot_model(baseline_lstm_model, to_file='baseline_lstm_model.png', show_shapes=True, show_layer_names=True)\n",
        "Image(filename='baseline_lstm_model.png')"
      ]
    },
    {
      "cell_type": "markdown",
      "metadata": {
        "id": "g6jcwvoE_LWO"
      },
      "source": [
        "## 11.8. Train Model"
      ]
    },
    {
      "cell_type": "code",
      "execution_count": null,
      "metadata": {
        "id": "0aVAYHJA_NFT"
      },
      "outputs": [],
      "source": [
        "# Load the TensorBoard notebook extension\n",
        "%load_ext tensorboard"
      ]
    },
    {
      "cell_type": "code",
      "execution_count": 30,
      "metadata": {
        "colab": {
          "base_uri": "https://localhost:8080/"
        },
        "id": "_B1uUdjJ_P5T",
        "outputId": "cdf14f2c-88e0-4f66-8a9a-464f497e8486"
      },
      "outputs": [
        {
          "output_type": "stream",
          "name": "stdout",
          "text": [
            "Epoch 1/15\n",
            "272/272 [==============================] - ETA: 0s - loss: 2.3831\n",
            "Epoch 1: val_loss improved from inf to 0.70982, saving model to lstm_model/baseline_lstm_model_epochs:001-val_loss:0.710.hdf5\n",
            "272/272 [==============================] - 1862s 7s/step - loss: 2.3831 - val_loss: 0.7098\n",
            "Epoch 2/15\n",
            "272/272 [==============================] - ETA: 0s - loss: 0.5469\n",
            "Epoch 2: val_loss improved from 0.70982 to 0.45911, saving model to lstm_model/baseline_lstm_model_epochs:002-val_loss:0.459.hdf5\n",
            "272/272 [==============================] - 1759s 6s/step - loss: 0.5469 - val_loss: 0.4591\n",
            "Epoch 3/15\n",
            "272/272 [==============================] - ETA: 0s - loss: 0.4041\n",
            "Epoch 3: val_loss improved from 0.45911 to 0.36832, saving model to lstm_model/baseline_lstm_model_epochs:003-val_loss:0.368.hdf5\n",
            "272/272 [==============================] - 1744s 6s/step - loss: 0.4041 - val_loss: 0.3683\n",
            "Epoch 4/15\n",
            "272/272 [==============================] - ETA: 0s - loss: 0.3328\n",
            "Epoch 4: val_loss improved from 0.36832 to 0.33335, saving model to lstm_model/baseline_lstm_model_epochs:004-val_loss:0.333.hdf5\n",
            "272/272 [==============================] - 1759s 6s/step - loss: 0.3328 - val_loss: 0.3333\n",
            "Epoch 5/15\n",
            "272/272 [==============================] - ETA: 0s - loss: 0.2845\n",
            "Epoch 5: val_loss improved from 0.33335 to 0.30685, saving model to lstm_model/baseline_lstm_model_epochs:005-val_loss:0.307.hdf5\n",
            "272/272 [==============================] - 1883s 7s/step - loss: 0.2845 - val_loss: 0.3068\n",
            "Epoch 6/15\n",
            "272/272 [==============================] - ETA: 0s - loss: 0.2525\n",
            "Epoch 6: val_loss improved from 0.30685 to 0.28448, saving model to lstm_model/baseline_lstm_model_epochs:006-val_loss:0.284.hdf5\n",
            "272/272 [==============================] - 1808s 7s/step - loss: 0.2525 - val_loss: 0.2845\n",
            "Epoch 7/15\n",
            "272/272 [==============================] - ETA: 0s - loss: 0.2283\n",
            "Epoch 7: val_loss improved from 0.28448 to 0.27405, saving model to lstm_model/baseline_lstm_model_epochs:007-val_loss:0.274.hdf5\n",
            "272/272 [==============================] - 1811s 7s/step - loss: 0.2283 - val_loss: 0.2741\n",
            "Epoch 8/15\n",
            "272/272 [==============================] - ETA: 0s - loss: 0.2099\n",
            "Epoch 8: val_loss improved from 0.27405 to 0.26601, saving model to lstm_model/baseline_lstm_model_epochs:008-val_loss:0.266.hdf5\n",
            "272/272 [==============================] - 1668s 6s/step - loss: 0.2099 - val_loss: 0.2660\n",
            "Epoch 9/15\n",
            "272/272 [==============================] - ETA: 0s - loss: 0.1951\n",
            "Epoch 9: val_loss improved from 0.26601 to 0.26225, saving model to lstm_model/baseline_lstm_model_epochs:009-val_loss:0.262.hdf5\n",
            "272/272 [==============================] - 1720s 6s/step - loss: 0.1951 - val_loss: 0.2622\n",
            "Epoch 10/15\n",
            "272/272 [==============================] - ETA: 0s - loss: 0.1827\n",
            "Epoch 10: val_loss did not improve from 0.26225\n",
            "272/272 [==============================] - 1797s 7s/step - loss: 0.1827 - val_loss: 0.2701\n",
            "Epoch 11/15\n",
            "272/272 [==============================] - ETA: 0s - loss: 0.1735\n",
            "Epoch 11: val_loss improved from 0.26225 to 0.25645, saving model to lstm_model/baseline_lstm_model_epochs:011-val_loss:0.256.hdf5\n",
            "272/272 [==============================] - 1745s 6s/step - loss: 0.1735 - val_loss: 0.2565\n",
            "Epoch 12/15\n",
            "272/272 [==============================] - ETA: 0s - loss: 0.1653\n",
            "Epoch 12: val_loss did not improve from 0.25645\n",
            "272/272 [==============================] - 1769s 7s/step - loss: 0.1653 - val_loss: 0.2672\n",
            "Epoch 13/15\n",
            "272/272 [==============================] - ETA: 0s - loss: 0.1576\n",
            "Epoch 13: val_loss did not improve from 0.25645\n",
            "272/272 [==============================] - 1662s 6s/step - loss: 0.1576 - val_loss: 0.2664\n",
            "Epoch 14/15\n",
            "272/272 [==============================] - ETA: 0s - loss: 0.1513\n",
            "Epoch 14: val_loss did not improve from 0.25645\n",
            "272/272 [==============================] - 1661s 6s/step - loss: 0.1513 - val_loss: 0.2603\n",
            "Epoch 15/15\n",
            "272/272 [==============================] - ETA: 0s - loss: 0.1455\n",
            "Epoch 15: val_loss did not improve from 0.25645\n",
            "272/272 [==============================] - 1657s 6s/step - loss: 0.1455 - val_loss: 0.2616\n"
          ]
        }
      ],
      "source": [
        "\n",
        "'''Training LSTM Model for 100 epochs using Adam Optimizer with Batch Size = 4096'''\n",
        "\n",
        "baseline_lstm_model.compile(optimizer='adam', loss='mean_squared_error')\n",
        "filepath = \"lstm_model/baseline_lstm_model_epochs:{epoch:03d}-val_loss:{val_loss:.3f}.hdf5\"\n",
        "\n",
        "checkpoint = ModelCheckpoint(filepath,monitor=\"val_loss\",mode=\"min\",save_best_only = True,verbose = 1)\n",
        "tensorboard = tf.keras.callbacks.TensorBoard(log_dir='/content/gdrive/My Drive/Mercari2/log_baseline_lstm_model')\n",
        "callbacks_list = [checkpoint,tensorboard]\n",
        "\n",
        "history_baseline_lstm_model = baseline_lstm_model.fit(X_train,y_train,\n",
        "                                                      batch_size=4096,\n",
        "                                                      epochs=15,\n",
        "                                                      verbose=1,\n",
        "                                                      validation_data=(X_test, y_test),\n",
        "                                                      callbacks = callbacks_list)"
      ]
    },
    {
      "cell_type": "markdown",
      "metadata": {
        "id": "biX9ChF579Tq"
      },
      "source": [
        "## 11.9 Test Model"
      ]
    },
    {
      "cell_type": "code",
      "execution_count": 31,
      "metadata": {
        "id": "hdM146UE8IwN"
      },
      "outputs": [],
      "source": [
        "def rmsle_score(y, y_pred):\n",
        "    assert len(y) == len(y_pred)\n",
        "    to_sum = [(math.log(y_pred[i] + 1) - math.log(y[i] + 1)) ** 2.0 for i,pred in enumerate(y_pred)]\n",
        "    return (sum(to_sum) * (1.0/len(y))) ** 0.5\n",
        "\n",
        "def rmsle_K(y, y0):\n",
        "    return K.sqrt(K.mean(K.square(tf.log1p(y) - tf.log1p(y0))))"
      ]
    },
    {
      "cell_type": "code",
      "execution_count": 33,
      "metadata": {
        "id": "GC8NlH2L8O0r",
        "colab": {
          "base_uri": "https://localhost:8080/"
        },
        "outputId": "ff4c3c51-8a69-484d-e985-04cbda8cd49a"
      },
      "outputs": [
        {
          "output_type": "stream",
          "name": "stdout",
          "text": [
            "91/91 [==============================] - 153s 2s/step\n",
            "RMSLE of Test set is  0.4799348605343345\n"
          ]
        }
      ],
      "source": [
        "best_model = load_model('/content/gdrive/MyDrive/Mercari Price Prediction/lstm_model/baseline_lstm_model_epochs:011-val_loss:0.256.hdf5',custom_objects={\"rmsle_K\":rmsle_K})\n",
        "\n",
        "preds = np.expm1(best_model.predict(X_test,batch_size = 4096,verbose = 1))\n",
        "print('RMSLE of Test set is ',rmsle_score(np.expm1(y_test).values , preds))"
      ]
    },
    {
      "cell_type": "code",
      "execution_count": 34,
      "metadata": {
        "id": "bqOAOqRD8Rl8",
        "colab": {
          "base_uri": "https://localhost:8080/",
          "height": 472
        },
        "outputId": "a6c2df2d-50c2-42a4-e7a6-0fd00953d3cd"
      },
      "outputs": [
        {
          "output_type": "display_data",
          "data": {
            "text/plain": [
              "<Figure size 640x480 with 1 Axes>"
            ],
            "image/png": "[encoded data removed]"
          },
          "metadata": {}
        }
      ],
      "source": [
        "plt.plot(history_baseline_lstm_model.history['loss'])\n",
        "plt.plot(history_baseline_lstm_model.history['val_loss'])\n",
        "plt.title('Model Loss')\n",
        "plt.ylabel('Loss')\n",
        "plt.xlabel('Epoch')\n",
        "plt.legend(['Train', 'Test'], loc='upper left')\n",
        "plt.show()"
      ]
    }
  ],
  "metadata": {
    "colab": {
      "machine_shape": "hm",
      "provenance": []
    },
    "kernelspec": {
      "display_name": "Python 3",
      "name": "python3"
    },
    "language_info": {
      "name": "python"
    },
    "widgets": {
      "application/vnd.jupyter.widget-state+json": {
        "079297e7bcfb4f3bb08af60ece0e987b": {
          "model_module": "@jupyter-widgets/controls",
          "model_module_version": "1.5.0",
          "model_name": "HTMLModel",
          "state": {
            "_dom_classes": [],
            "_model_module": "@jupyter-widgets/controls",
            "_model_module_version": "1.5.0",
            "_model_name": "HTMLModel",
            "_view_count": null,
            "_view_module": "@jupyter-widgets/controls",
            "_view_module_version": "1.5.0",
            "_view_name": "HTMLView",
            "description": "",
            "description_tooltip": null,
            "layout": "IPY_MODEL_8f50c45b906c4554abf72eb9a09a7412",
            "placeholder": "​",
            "style": "IPY_MODEL_4411aa5c007b4ef792be3c1416d7419c",
            "value": " 138019/138019 [00:00&lt;00:00, 215474.21it/s]"
          }
        },
        "09a182de368640ac907d3bf82d49de3e": {
          "model_module": "@jupyter-widgets/controls",
          "model_module_version": "1.5.0",
          "model_name": "HBoxModel",
          "state": {
            "_dom_classes": [],
            "_model_module": "@jupyter-widgets/controls",
            "_model_module_version": "1.5.0",
            "_model_name": "HBoxModel",
            "_view_count": null,
            "_view_module": "@jupyter-widgets/controls",
            "_view_module_version": "1.5.0",
            "_view_name": "HBoxView",
            "box_style": "",
            "children": [
              "IPY_MODEL_d08e156c9a1543d9a345494180d3b6d5",
              "IPY_MODEL_ccd31706aeb44865ade2075d937f5b1d",
              "IPY_MODEL_185706777fb5492e93fc7d1e0b319603"
            ],
            "layout": "IPY_MODEL_da46bc8d5ff74167af62526cd0c7b7ed"
          }
        },
        "0f80d571afec47219d4fc999176d416c": {
          "model_module": "@jupyter-widgets/base",
          "model_module_version": "1.2.0",
          "model_name": "LayoutModel",
          "state": {
            "_model_module": "@jupyter-widgets/base",
            "_model_module_version": "1.2.0",
            "_model_name": "LayoutModel",
            "_view_count": null,
            "_view_module": "@jupyter-widgets/base",
            "_view_module_version": "1.2.0",
            "_view_name": "LayoutView",
            "align_content": null,
            "align_items": null,
            "align_self": null,
            "border": null,
            "bottom": null,
            "display": null,
            "flex": null,
            "flex_flow": null,
            "grid_area": null,
            "grid_auto_columns": null,
            "grid_auto_flow": null,
            "grid_auto_rows": null,
            "grid_column": null,
            "grid_gap": null,
            "grid_row": null,
            "grid_template_areas": null,
            "grid_template_columns": null,
            "grid_template_rows": null,
            "height": null,
            "justify_content": null,
            "justify_items": null,
            "left": null,
            "margin": null,
            "max_height": null,
            "max_width": null,
            "min_height": null,
            "min_width": null,
            "object_fit": null,
            "object_position": null,
            "order": null,
            "overflow": null,
            "overflow_x": null,
            "overflow_y": null,
            "padding": null,
            "right": null,
            "top": null,
            "visibility": null,
            "width": null
          }
        },
        "13d2ba8094c143d98bac5f8d1483a6d9": {
          "model_module": "@jupyter-widgets/controls",
          "model_module_version": "1.5.0",
          "model_name": "HBoxModel",
          "state": {
            "_dom_classes": [],
            "_model_module": "@jupyter-widgets/controls",
            "_model_module_version": "1.5.0",
            "_model_name": "HBoxModel",
            "_view_count": null,
            "_view_module": "@jupyter-widgets/controls",
            "_view_module_version": "1.5.0",
            "_view_name": "HBoxView",
            "box_style": "",
            "children": [
              "IPY_MODEL_60fbb7e69d2b403b845b96e86d054347",
              "IPY_MODEL_e2b4d071194a4073b646ac895271b8ed",
              "IPY_MODEL_6a4451d289304553b5db3f76042c9980"
            ],
            "layout": "IPY_MODEL_ec942a7c7a22413684adf7412a9045d7"
          }
        },
        "185706777fb5492e93fc7d1e0b319603": {
          "model_module": "@jupyter-widgets/controls",
          "model_module_version": "1.5.0",
          "model_name": "HTMLModel",
          "state": {
            "_dom_classes": [],
            "_model_module": "@jupyter-widgets/controls",
            "_model_module_version": "1.5.0",
            "_model_name": "HTMLModel",
            "_view_count": null,
            "_view_module": "@jupyter-widgets/controls",
            "_view_module_version": "1.5.0",
            "_view_name": "HTMLView",
            "description": "",
            "description_tooltip": null,
            "layout": "IPY_MODEL_f31f6a12cb674e4d9b0b33394856b14a",
            "placeholder": "​",
            "style": "IPY_MODEL_ab6f5e905f8b4a6fb8510f0a9934503f",
            "value": " 1111901/1111901 [01:34&lt;00:00, 11766.30it/s]"
          }
        },
        "1d9560b058f149e6b08694270d2fd189": {
          "model_module": "@jupyter-widgets/controls",
          "model_module_version": "1.5.0",
          "model_name": "ProgressStyleModel",
          "state": {
            "_model_module": "@jupyter-widgets/controls",
            "_model_module_version": "1.5.0",
            "_model_name": "ProgressStyleModel",
            "_view_count": null,
            "_view_module": "@jupyter-widgets/base",
            "_view_module_version": "1.2.0",
            "_view_name": "StyleView",
            "bar_color": null,
            "description_width": ""
          }
        },
        "1f1fa4fbcf084e58bd5457f711b31413": {
          "model_module": "@jupyter-widgets/controls",
          "model_module_version": "1.5.0",
          "model_name": "HBoxModel",
          "state": {
            "_dom_classes": [],
            "_model_module": "@jupyter-widgets/controls",
            "_model_module_version": "1.5.0",
            "_model_name": "HBoxModel",
            "_view_count": null,
            "_view_module": "@jupyter-widgets/controls",
            "_view_module_version": "1.5.0",
            "_view_name": "HBoxView",
            "box_style": "",
            "children": [
              "IPY_MODEL_fe8f83e103f54bbfac376c0f4c664119",
              "IPY_MODEL_998effb06b2949118f6c20695e3733cf",
              "IPY_MODEL_2094695f20224215825a6e1df9481080"
            ],
            "layout": "IPY_MODEL_434021f653884bf293e5c06d83f70809"
          }
        },
        "20078cb4dd434a6a89abdb5fe676d759": {
          "model_module": "@jupyter-widgets/base",
          "model_module_version": "1.2.0",
          "model_name": "LayoutModel",
          "state": {
            "_model_module": "@jupyter-widgets/base",
            "_model_module_version": "1.2.0",
            "_model_name": "LayoutModel",
            "_view_count": null,
            "_view_module": "@jupyter-widgets/base",
            "_view_module_version": "1.2.0",
            "_view_name": "LayoutView",
            "align_content": null,
            "align_items": null,
            "align_self": null,
            "border": null,
            "bottom": null,
            "display": null,
            "flex": null,
            "flex_flow": null,
            "grid_area": null,
            "grid_auto_columns": null,
            "grid_auto_flow": null,
            "grid_auto_rows": null,
            "grid_column": null,
            "grid_gap": null,
            "grid_row": null,
            "grid_template_areas": null,
            "grid_template_columns": null,
            "grid_template_rows": null,
            "height": null,
            "justify_content": null,
            "justify_items": null,
            "left": null,
            "margin": null,
            "max_height": null,
            "max_width": null,
            "min_height": null,
            "min_width": null,
            "object_fit": null,
            "object_position": null,
            "order": null,
            "overflow": null,
            "overflow_x": null,
            "overflow_y": null,
            "padding": null,
            "right": null,
            "top": null,
            "visibility": null,
            "width": null
          }
        },
        "2094695f20224215825a6e1df9481080": {
          "model_module": "@jupyter-widgets/controls",
          "model_module_version": "1.5.0",
          "model_name": "HTMLModel",
          "state": {
            "_dom_classes": [],
            "_model_module": "@jupyter-widgets/controls",
            "_model_module_version": "1.5.0",
            "_model_name": "HTMLModel",
            "_view_count": null,
            "_view_module": "@jupyter-widgets/controls",
            "_view_module_version": "1.5.0",
            "_view_name": "HTMLView",
            "description": "",
            "description_tooltip": null,
            "layout": "IPY_MODEL_2eab49018dd34b5e8d6191fae577be80",
            "placeholder": "​",
            "style": "IPY_MODEL_cb41af9b32ba4e6bae3811b3cbe67bf1",
            "value": " 370634/370634 [00:31&lt;00:00, 12003.99it/s]"
          }
        },
        "28a3d6839da94261a60c76ae6e1e1c6d": {
          "model_module": "@jupyter-widgets/base",
          "model_module_version": "1.2.0",
          "model_name": "LayoutModel",
          "state": {
            "_model_module": "@jupyter-widgets/base",
            "_model_module_version": "1.2.0",
            "_model_name": "LayoutModel",
            "_view_count": null,
            "_view_module": "@jupyter-widgets/base",
            "_view_module_version": "1.2.0",
            "_view_name": "LayoutView",
            "align_content": null,
            "align_items": null,
            "align_self": null,
            "border": null,
            "bottom": null,
            "display": null,
            "flex": null,
            "flex_flow": null,
            "grid_area": null,
            "grid_auto_columns": null,
            "grid_auto_flow": null,
            "grid_auto_rows": null,
            "grid_column": null,
            "grid_gap": null,
            "grid_row": null,
            "grid_template_areas": null,
            "grid_template_columns": null,
            "grid_template_rows": null,
            "height": null,
            "justify_content": null,
            "justify_items": null,
            "left": null,
            "margin": null,
            "max_height": null,
            "max_width": null,
            "min_height": null,
            "min_width": null,
            "object_fit": null,
            "object_position": null,
            "order": null,
            "overflow": null,
            "overflow_x": null,
            "overflow_y": null,
            "padding": null,
            "right": null,
            "top": null,
            "visibility": null,
            "width": null
          }
        },
        "2c56121759624af7a14dad452e3dd225": {
          "model_module": "@jupyter-widgets/controls",
          "model_module_version": "1.5.0",
          "model_name": "DescriptionStyleModel",
          "state": {
            "_model_module": "@jupyter-widgets/controls",
            "_model_module_version": "1.5.0",
            "_model_name": "DescriptionStyleModel",
            "_view_count": null,
            "_view_module": "@jupyter-widgets/base",
            "_view_module_version": "1.2.0",
            "_view_name": "StyleView",
            "description_width": ""
          }
        },
        "2eab49018dd34b5e8d6191fae577be80": {
          "model_module": "@jupyter-widgets/base",
          "model_module_version": "1.2.0",
          "model_name": "LayoutModel",
          "state": {
            "_model_module": "@jupyter-widgets/base",
            "_model_module_version": "1.2.0",
            "_model_name": "LayoutModel",
            "_view_count": null,
            "_view_module": "@jupyter-widgets/base",
            "_view_module_version": "1.2.0",
            "_view_name": "LayoutView",
            "align_content": null,
            "align_items": null,
            "align_self": null,
            "border": null,
            "bottom": null,
            "display": null,
            "flex": null,
            "flex_flow": null,
            "grid_area": null,
            "grid_auto_columns": null,
            "grid_auto_flow": null,
            "grid_auto_rows": null,
            "grid_column": null,
            "grid_gap": null,
            "grid_row": null,
            "grid_template_areas": null,
            "grid_template_columns": null,
            "grid_template_rows": null,
            "height": null,
            "justify_content": null,
            "justify_items": null,
            "left": null,
            "margin": null,
            "max_height": null,
            "max_width": null,
            "min_height": null,
            "min_width": null,
            "object_fit": null,
            "object_position": null,
            "order": null,
            "overflow": null,
            "overflow_x": null,
            "overflow_y": null,
            "padding": null,
            "right": null,
            "top": null,
            "visibility": null,
            "width": null
          }
        },
        "30eca7b392304689bed6940023a07a2e": {
          "model_module": "@jupyter-widgets/base",
          "model_module_version": "1.2.0",
          "model_name": "LayoutModel",
          "state": {
            "_model_module": "@jupyter-widgets/base",
            "_model_module_version": "1.2.0",
            "_model_name": "LayoutModel",
            "_view_count": null,
            "_view_module": "@jupyter-widgets/base",
            "_view_module_version": "1.2.0",
            "_view_name": "LayoutView",
            "align_content": null,
            "align_items": null,
            "align_self": null,
            "border": null,
            "bottom": null,
            "display": null,
            "flex": null,
            "flex_flow": null,
            "grid_area": null,
            "grid_auto_columns": null,
            "grid_auto_flow": null,
            "grid_auto_rows": null,
            "grid_column": null,
            "grid_gap": null,
            "grid_row": null,
            "grid_template_areas": null,
            "grid_template_columns": null,
            "grid_template_rows": null,
            "height": null,
            "justify_content": null,
            "justify_items": null,
            "left": null,
            "margin": null,
            "max_height": null,
            "max_width": null,
            "min_height": null,
            "min_width": null,
            "object_fit": null,
            "object_position": null,
            "order": null,
            "overflow": null,
            "overflow_x": null,
            "overflow_y": null,
            "padding": null,
            "right": null,
            "top": null,
            "visibility": null,
            "width": null
          }
        },
        "31d6c64bdf724fce9a80b6fe9ee1eb1a": {
          "model_module": "@jupyter-widgets/controls",
          "model_module_version": "1.5.0",
          "model_name": "ProgressStyleModel",
          "state": {
            "_model_module": "@jupyter-widgets/controls",
            "_model_module_version": "1.5.0",
            "_model_name": "ProgressStyleModel",
            "_view_count": null,
            "_view_module": "@jupyter-widgets/base",
            "_view_module_version": "1.2.0",
            "_view_name": "StyleView",
            "bar_color": null,
            "description_width": ""
          }
        },
        "37dbb3f66e4e44b8a65c2198791c3380": {
          "model_module": "@jupyter-widgets/controls",
          "model_module_version": "1.5.0",
          "model_name": "ProgressStyleModel",
          "state": {
            "_model_module": "@jupyter-widgets/controls",
            "_model_module_version": "1.5.0",
            "_model_name": "ProgressStyleModel",
            "_view_count": null,
            "_view_module": "@jupyter-widgets/base",
            "_view_module_version": "1.2.0",
            "_view_name": "StyleView",
            "bar_color": null,
            "description_width": ""
          }
        },
        "3bcdf6cf94e24e719243bb80d778323d": {
          "model_module": "@jupyter-widgets/controls",
          "model_module_version": "1.5.0",
          "model_name": "HTMLModel",
          "state": {
            "_dom_classes": [],
            "_model_module": "@jupyter-widgets/controls",
            "_model_module_version": "1.5.0",
            "_model_name": "HTMLModel",
            "_view_count": null,
            "_view_module": "@jupyter-widgets/controls",
            "_view_module_version": "1.5.0",
            "_view_name": "HTMLView",
            "description": "",
            "description_tooltip": null,
            "layout": "IPY_MODEL_b1724918b7ea4ca39514d36d0fd485e4",
            "placeholder": "​",
            "style": "IPY_MODEL_2c56121759624af7a14dad452e3dd225",
            "value": "100%"
          }
        },
        "411e68e1af3d43a086da319d5b0e3534": {
          "model_module": "@jupyter-widgets/controls",
          "model_module_version": "1.5.0",
          "model_name": "HTMLModel",
          "state": {
            "_dom_classes": [],
            "_model_module": "@jupyter-widgets/controls",
            "_model_module_version": "1.5.0",
            "_model_name": "HTMLModel",
            "_view_count": null,
            "_view_module": "@jupyter-widgets/controls",
            "_view_module_version": "1.5.0",
            "_view_name": "HTMLView",
            "description": "",
            "description_tooltip": null,
            "layout": "IPY_MODEL_d54542e82b3f430499900714a9505ee5",
            "placeholder": "​",
            "style": "IPY_MODEL_935bc97de6e1493a8d335c058261211a",
            "value": "100%"
          }
        },
        "434021f653884bf293e5c06d83f70809": {
          "model_module": "@jupyter-widgets/base",
          "model_module_version": "1.2.0",
          "model_name": "LayoutModel",
          "state": {
            "_model_module": "@jupyter-widgets/base",
            "_model_module_version": "1.2.0",
            "_model_name": "LayoutModel",
            "_view_count": null,
            "_view_module": "@jupyter-widgets/base",
            "_view_module_version": "1.2.0",
            "_view_name": "LayoutView",
            "align_content": null,
            "align_items": null,
            "align_self": null,
            "border": null,
            "bottom": null,
            "display": null,
            "flex": null,
            "flex_flow": null,
            "grid_area": null,
            "grid_auto_columns": null,
            "grid_auto_flow": null,
            "grid_auto_rows": null,
            "grid_column": null,
            "grid_gap": null,
            "grid_row": null,
            "grid_template_areas": null,
            "grid_template_columns": null,
            "grid_template_rows": null,
            "height": null,
            "justify_content": null,
            "justify_items": null,
            "left": null,
            "margin": null,
            "max_height": null,
            "max_width": null,
            "min_height": null,
            "min_width": null,
            "object_fit": null,
            "object_position": null,
            "order": null,
            "overflow": null,
            "overflow_x": null,
            "overflow_y": null,
            "padding": null,
            "right": null,
            "top": null,
            "visibility": null,
            "width": null
          }
        },
        "4411aa5c007b4ef792be3c1416d7419c": {
          "model_module": "@jupyter-widgets/controls",
          "model_module_version": "1.5.0",
          "model_name": "DescriptionStyleModel",
          "state": {
            "_model_module": "@jupyter-widgets/controls",
            "_model_module_version": "1.5.0",
            "_model_name": "DescriptionStyleModel",
            "_view_count": null,
            "_view_module": "@jupyter-widgets/base",
            "_view_module_version": "1.2.0",
            "_view_name": "StyleView",
            "description_width": ""
          }
        },
        "4b3489c9575d4f32a359ffccc68d73c9": {
          "model_module": "@jupyter-widgets/base",
          "model_module_version": "1.2.0",
          "model_name": "LayoutModel",
          "state": {
            "_model_module": "@jupyter-widgets/base",
            "_model_module_version": "1.2.0",
            "_model_name": "LayoutModel",
            "_view_count": null,
            "_view_module": "@jupyter-widgets/base",
            "_view_module_version": "1.2.0",
            "_view_name": "LayoutView",
            "align_content": null,
            "align_items": null,
            "align_self": null,
            "border": null,
            "bottom": null,
            "display": null,
            "flex": null,
            "flex_flow": null,
            "grid_area": null,
            "grid_auto_columns": null,
            "grid_auto_flow": null,
            "grid_auto_rows": null,
            "grid_column": null,
            "grid_gap": null,
            "grid_row": null,
            "grid_template_areas": null,
            "grid_template_columns": null,
            "grid_template_rows": null,
            "height": null,
            "justify_content": null,
            "justify_items": null,
            "left": null,
            "margin": null,
            "max_height": null,
            "max_width": null,
            "min_height": null,
            "min_width": null,
            "object_fit": null,
            "object_position": null,
            "order": null,
            "overflow": null,
            "overflow_x": null,
            "overflow_y": null,
            "padding": null,
            "right": null,
            "top": null,
            "visibility": null,
            "width": null
          }
        },
        "55bde5765e514c8588d395f4bc791d72": {
          "model_module": "@jupyter-widgets/base",
          "model_module_version": "1.2.0",
          "model_name": "LayoutModel",
          "state": {
            "_model_module": "@jupyter-widgets/base",
            "_model_module_version": "1.2.0",
            "_model_name": "LayoutModel",
            "_view_count": null,
            "_view_module": "@jupyter-widgets/base",
            "_view_module_version": "1.2.0",
            "_view_name": "LayoutView",
            "align_content": null,
            "align_items": null,
            "align_self": null,
            "border": null,
            "bottom": null,
            "display": null,
            "flex": null,
            "flex_flow": null,
            "grid_area": null,
            "grid_auto_columns": null,
            "grid_auto_flow": null,
            "grid_auto_rows": null,
            "grid_column": null,
            "grid_gap": null,
            "grid_row": null,
            "grid_template_areas": null,
            "grid_template_columns": null,
            "grid_template_rows": null,
            "height": null,
            "justify_content": null,
            "justify_items": null,
            "left": null,
            "margin": null,
            "max_height": null,
            "max_width": null,
            "min_height": null,
            "min_width": null,
            "object_fit": null,
            "object_position": null,
            "order": null,
            "overflow": null,
            "overflow_x": null,
            "overflow_y": null,
            "padding": null,
            "right": null,
            "top": null,
            "visibility": null,
            "width": null
          }
        },
        "5637d65501c642afb1932a95196033d5": {
          "model_module": "@jupyter-widgets/controls",
          "model_module_version": "1.5.0",
          "model_name": "DescriptionStyleModel",
          "state": {
            "_model_module": "@jupyter-widgets/controls",
            "_model_module_version": "1.5.0",
            "_model_name": "DescriptionStyleModel",
            "_view_count": null,
            "_view_module": "@jupyter-widgets/base",
            "_view_module_version": "1.2.0",
            "_view_name": "StyleView",
            "description_width": ""
          }
        },
        "5b377db706694fe0a0a9982a36cc8de8": {
          "model_module": "@jupyter-widgets/controls",
          "model_module_version": "1.5.0",
          "model_name": "FloatProgressModel",
          "state": {
            "_dom_classes": [],
            "_model_module": "@jupyter-widgets/controls",
            "_model_module_version": "1.5.0",
            "_model_name": "FloatProgressModel",
            "_view_count": null,
            "_view_module": "@jupyter-widgets/controls",
            "_view_module_version": "1.5.0",
            "_view_name": "ProgressView",
            "bar_style": "success",
            "description": "",
            "description_tooltip": null,
            "layout": "IPY_MODEL_ff7c8f8cdd1b40ae8ad7cb8cf235fae1",
            "max": 1111901,
            "min": 0,
            "orientation": "horizontal",
            "style": "IPY_MODEL_1d9560b058f149e6b08694270d2fd189",
            "value": 1111901
          }
        },
        "60fbb7e69d2b403b845b96e86d054347": {
          "model_module": "@jupyter-widgets/controls",
          "model_module_version": "1.5.0",
          "model_name": "HTMLModel",
          "state": {
            "_dom_classes": [],
            "_model_module": "@jupyter-widgets/controls",
            "_model_module_version": "1.5.0",
            "_model_name": "HTMLModel",
            "_view_count": null,
            "_view_module": "@jupyter-widgets/controls",
            "_view_module_version": "1.5.0",
            "_view_name": "HTMLView",
            "description": "",
            "description_tooltip": null,
            "layout": "IPY_MODEL_8ef6079491aa40d1a26597c2e6053d6c",
            "placeholder": "​",
            "style": "IPY_MODEL_83e07cc0d7d942f296d958236e023d06",
            "value": "100%"
          }
        },
        "646193ba191348a5976c31f99b364ca8": {
          "model_module": "@jupyter-widgets/base",
          "model_module_version": "1.2.0",
          "model_name": "LayoutModel",
          "state": {
            "_model_module": "@jupyter-widgets/base",
            "_model_module_version": "1.2.0",
            "_model_name": "LayoutModel",
            "_view_count": null,
            "_view_module": "@jupyter-widgets/base",
            "_view_module_version": "1.2.0",
            "_view_name": "LayoutView",
            "align_content": null,
            "align_items": null,
            "align_self": null,
            "border": null,
            "bottom": null,
            "display": null,
            "flex": null,
            "flex_flow": null,
            "grid_area": null,
            "grid_auto_columns": null,
            "grid_auto_flow": null,
            "grid_auto_rows": null,
            "grid_column": null,
            "grid_gap": null,
            "grid_row": null,
            "grid_template_areas": null,
            "grid_template_columns": null,
            "grid_template_rows": null,
            "height": null,
            "justify_content": null,
            "justify_items": null,
            "left": null,
            "margin": null,
            "max_height": null,
            "max_width": null,
            "min_height": null,
            "min_width": null,
            "object_fit": null,
            "object_position": null,
            "order": null,
            "overflow": null,
            "overflow_x": null,
            "overflow_y": null,
            "padding": null,
            "right": null,
            "top": null,
            "visibility": null,
            "width": null
          }
        },
        "6a4451d289304553b5db3f76042c9980": {
          "model_module": "@jupyter-widgets/controls",
          "model_module_version": "1.5.0",
          "model_name": "HTMLModel",
          "state": {
            "_dom_classes": [],
            "_model_module": "@jupyter-widgets/controls",
            "_model_module_version": "1.5.0",
            "_model_name": "HTMLModel",
            "_view_count": null,
            "_view_module": "@jupyter-widgets/controls",
            "_view_module_version": "1.5.0",
            "_view_name": "HTMLView",
            "description": "",
            "description_tooltip": null,
            "layout": "IPY_MODEL_73149b13299043a4bc59643fe9d3a132",
            "placeholder": "​",
            "style": "IPY_MODEL_8339a75e31a641589a9edc46135e42b9",
            "value": " 370634/370634 [00:09&lt;00:00, 39942.73it/s]"
          }
        },
        "70b6ea37f1bf433e904a6e510a7254c2": {
          "model_module": "@jupyter-widgets/base",
          "model_module_version": "1.2.0",
          "model_name": "LayoutModel",
          "state": {
            "_model_module": "@jupyter-widgets/base",
            "_model_module_version": "1.2.0",
            "_model_name": "LayoutModel",
            "_view_count": null,
            "_view_module": "@jupyter-widgets/base",
            "_view_module_version": "1.2.0",
            "_view_name": "LayoutView",
            "align_content": null,
            "align_items": null,
            "align_self": null,
            "border": null,
            "bottom": null,
            "display": null,
            "flex": null,
            "flex_flow": null,
            "grid_area": null,
            "grid_auto_columns": null,
            "grid_auto_flow": null,
            "grid_auto_rows": null,
            "grid_column": null,
            "grid_gap": null,
            "grid_row": null,
            "grid_template_areas": null,
            "grid_template_columns": null,
            "grid_template_rows": null,
            "height": null,
            "justify_content": null,
            "justify_items": null,
            "left": null,
            "margin": null,
            "max_height": null,
            "max_width": null,
            "min_height": null,
            "min_width": null,
            "object_fit": null,
            "object_position": null,
            "order": null,
            "overflow": null,
            "overflow_x": null,
            "overflow_y": null,
            "padding": null,
            "right": null,
            "top": null,
            "visibility": null,
            "width": null
          }
        },
        "72d2fa2bcebf444aace76dabcff974e9": {
          "model_module": "@jupyter-widgets/controls",
          "model_module_version": "1.5.0",
          "model_name": "HTMLModel",
          "state": {
            "_dom_classes": [],
            "_model_module": "@jupyter-widgets/controls",
            "_model_module_version": "1.5.0",
            "_model_name": "HTMLModel",
            "_view_count": null,
            "_view_module": "@jupyter-widgets/controls",
            "_view_module_version": "1.5.0",
            "_view_name": "HTMLView",
            "description": "",
            "description_tooltip": null,
            "layout": "IPY_MODEL_f9d5d16f5d094149a4f4c34f7ce219e5",
            "placeholder": "​",
            "style": "IPY_MODEL_db097bc868104a96bfe147b38bd6f7b3",
            "value": "100%"
          }
        },
        "73149b13299043a4bc59643fe9d3a132": {
          "model_module": "@jupyter-widgets/base",
          "model_module_version": "1.2.0",
          "model_name": "LayoutModel",
          "state": {
            "_model_module": "@jupyter-widgets/base",
            "_model_module_version": "1.2.0",
            "_model_name": "LayoutModel",
            "_view_count": null,
            "_view_module": "@jupyter-widgets/base",
            "_view_module_version": "1.2.0",
            "_view_name": "LayoutView",
            "align_content": null,
            "align_items": null,
            "align_self": null,
            "border": null,
            "bottom": null,
            "display": null,
            "flex": null,
            "flex_flow": null,
            "grid_area": null,
            "grid_auto_columns": null,
            "grid_auto_flow": null,
            "grid_auto_rows": null,
            "grid_column": null,
            "grid_gap": null,
            "grid_row": null,
            "grid_template_areas": null,
            "grid_template_columns": null,
            "grid_template_rows": null,
            "height": null,
            "justify_content": null,
            "justify_items": null,
            "left": null,
            "margin": null,
            "max_height": null,
            "max_width": null,
            "min_height": null,
            "min_width": null,
            "object_fit": null,
            "object_position": null,
            "order": null,
            "overflow": null,
            "overflow_x": null,
            "overflow_y": null,
            "padding": null,
            "right": null,
            "top": null,
            "visibility": null,
            "width": null
          }
        },
        "73ef71f4bdc8487b9aebcaf1652fd91a": {
          "model_module": "@jupyter-widgets/controls",
          "model_module_version": "1.5.0",
          "model_name": "DescriptionStyleModel",
          "state": {
            "_model_module": "@jupyter-widgets/controls",
            "_model_module_version": "1.5.0",
            "_model_name": "DescriptionStyleModel",
            "_view_count": null,
            "_view_module": "@jupyter-widgets/base",
            "_view_module_version": "1.2.0",
            "_view_name": "StyleView",
            "description_width": ""
          }
        },
        "79f6e52d2a2d482faf9f7014a0ee54fc": {
          "model_module": "@jupyter-widgets/controls",
          "model_module_version": "1.5.0",
          "model_name": "HBoxModel",
          "state": {
            "_dom_classes": [],
            "_model_module": "@jupyter-widgets/controls",
            "_model_module_version": "1.5.0",
            "_model_name": "HBoxModel",
            "_view_count": null,
            "_view_module": "@jupyter-widgets/controls",
            "_view_module_version": "1.5.0",
            "_view_name": "HBoxView",
            "box_style": "",
            "children": [
              "IPY_MODEL_72d2fa2bcebf444aace76dabcff974e9",
              "IPY_MODEL_fb7efacf85b24058975b9cd93fbb02f2",
              "IPY_MODEL_8f8ba500a0c841a0938610e6a13f2272"
            ],
            "layout": "IPY_MODEL_55bde5765e514c8588d395f4bc791d72"
          }
        },
        "7c22cf0d4592460d96a506bee9ea46c2": {
          "model_module": "@jupyter-widgets/base",
          "model_module_version": "1.2.0",
          "model_name": "LayoutModel",
          "state": {
            "_model_module": "@jupyter-widgets/base",
            "_model_module_version": "1.2.0",
            "_model_name": "LayoutModel",
            "_view_count": null,
            "_view_module": "@jupyter-widgets/base",
            "_view_module_version": "1.2.0",
            "_view_name": "LayoutView",
            "align_content": null,
            "align_items": null,
            "align_self": null,
            "border": null,
            "bottom": null,
            "display": null,
            "flex": null,
            "flex_flow": null,
            "grid_area": null,
            "grid_auto_columns": null,
            "grid_auto_flow": null,
            "grid_auto_rows": null,
            "grid_column": null,
            "grid_gap": null,
            "grid_row": null,
            "grid_template_areas": null,
            "grid_template_columns": null,
            "grid_template_rows": null,
            "height": null,
            "justify_content": null,
            "justify_items": null,
            "left": null,
            "margin": null,
            "max_height": null,
            "max_width": null,
            "min_height": null,
            "min_width": null,
            "object_fit": null,
            "object_position": null,
            "order": null,
            "overflow": null,
            "overflow_x": null,
            "overflow_y": null,
            "padding": null,
            "right": null,
            "top": null,
            "visibility": null,
            "width": null
          }
        },
        "8339a75e31a641589a9edc46135e42b9": {
          "model_module": "@jupyter-widgets/controls",
          "model_module_version": "1.5.0",
          "model_name": "DescriptionStyleModel",
          "state": {
            "_model_module": "@jupyter-widgets/controls",
            "_model_module_version": "1.5.0",
            "_model_name": "DescriptionStyleModel",
            "_view_count": null,
            "_view_module": "@jupyter-widgets/base",
            "_view_module_version": "1.2.0",
            "_view_name": "StyleView",
            "description_width": ""
          }
        },
        "83e07cc0d7d942f296d958236e023d06": {
          "model_module": "@jupyter-widgets/controls",
          "model_module_version": "1.5.0",
          "model_name": "DescriptionStyleModel",
          "state": {
            "_model_module": "@jupyter-widgets/controls",
            "_model_module_version": "1.5.0",
            "_model_name": "DescriptionStyleModel",
            "_view_count": null,
            "_view_module": "@jupyter-widgets/base",
            "_view_module_version": "1.2.0",
            "_view_name": "StyleView",
            "description_width": ""
          }
        },
        "8ef6079491aa40d1a26597c2e6053d6c": {
          "model_module": "@jupyter-widgets/base",
          "model_module_version": "1.2.0",
          "model_name": "LayoutModel",
          "state": {
            "_model_module": "@jupyter-widgets/base",
            "_model_module_version": "1.2.0",
            "_model_name": "LayoutModel",
            "_view_count": null,
            "_view_module": "@jupyter-widgets/base",
            "_view_module_version": "1.2.0",
            "_view_name": "LayoutView",
            "align_content": null,
            "align_items": null,
            "align_self": null,
            "border": null,
            "bottom": null,
            "display": null,
            "flex": null,
            "flex_flow": null,
            "grid_area": null,
            "grid_auto_columns": null,
            "grid_auto_flow": null,
            "grid_auto_rows": null,
            "grid_column": null,
            "grid_gap": null,
            "grid_row": null,
            "grid_template_areas": null,
            "grid_template_columns": null,
            "grid_template_rows": null,
            "height": null,
            "justify_content": null,
            "justify_items": null,
            "left": null,
            "margin": null,
            "max_height": null,
            "max_width": null,
            "min_height": null,
            "min_width": null,
            "object_fit": null,
            "object_position": null,
            "order": null,
            "overflow": null,
            "overflow_x": null,
            "overflow_y": null,
            "padding": null,
            "right": null,
            "top": null,
            "visibility": null,
            "width": null
          }
        },
        "8f50c45b906c4554abf72eb9a09a7412": {
          "model_module": "@jupyter-widgets/base",
          "model_module_version": "1.2.0",
          "model_name": "LayoutModel",
          "state": {
            "_model_module": "@jupyter-widgets/base",
            "_model_module_version": "1.2.0",
            "_model_name": "LayoutModel",
            "_view_count": null,
            "_view_module": "@jupyter-widgets/base",
            "_view_module_version": "1.2.0",
            "_view_name": "LayoutView",
            "align_content": null,
            "align_items": null,
            "align_self": null,
            "border": null,
            "bottom": null,
            "display": null,
            "flex": null,
            "flex_flow": null,
            "grid_area": null,
            "grid_auto_columns": null,
            "grid_auto_flow": null,
            "grid_auto_rows": null,
            "grid_column": null,
            "grid_gap": null,
            "grid_row": null,
            "grid_template_areas": null,
            "grid_template_columns": null,
            "grid_template_rows": null,
            "height": null,
            "justify_content": null,
            "justify_items": null,
            "left": null,
            "margin": null,
            "max_height": null,
            "max_width": null,
            "min_height": null,
            "min_width": null,
            "object_fit": null,
            "object_position": null,
            "order": null,
            "overflow": null,
            "overflow_x": null,
            "overflow_y": null,
            "padding": null,
            "right": null,
            "top": null,
            "visibility": null,
            "width": null
          }
        },
        "8f8ba500a0c841a0938610e6a13f2272": {
          "model_module": "@jupyter-widgets/controls",
          "model_module_version": "1.5.0",
          "model_name": "HTMLModel",
          "state": {
            "_dom_classes": [],
            "_model_module": "@jupyter-widgets/controls",
            "_model_module_version": "1.5.0",
            "_model_name": "HTMLModel",
            "_view_count": null,
            "_view_module": "@jupyter-widgets/controls",
            "_view_module_version": "1.5.0",
            "_view_name": "HTMLView",
            "description": "",
            "description_tooltip": null,
            "layout": "IPY_MODEL_30eca7b392304689bed6940023a07a2e",
            "placeholder": "​",
            "style": "IPY_MODEL_e194f1de0201477ea5c4c260cf03200a",
            "value": " 89565/89565 [00:00&lt;00:00, 225493.66it/s]"
          }
        },
        "935bc97de6e1493a8d335c058261211a": {
          "model_module": "@jupyter-widgets/controls",
          "model_module_version": "1.5.0",
          "model_name": "DescriptionStyleModel",
          "state": {
            "_model_module": "@jupyter-widgets/controls",
            "_model_module_version": "1.5.0",
            "_model_name": "DescriptionStyleModel",
            "_view_count": null,
            "_view_module": "@jupyter-widgets/base",
            "_view_module_version": "1.2.0",
            "_view_name": "StyleView",
            "description_width": ""
          }
        },
        "998effb06b2949118f6c20695e3733cf": {
          "model_module": "@jupyter-widgets/controls",
          "model_module_version": "1.5.0",
          "model_name": "FloatProgressModel",
          "state": {
            "_dom_classes": [],
            "_model_module": "@jupyter-widgets/controls",
            "_model_module_version": "1.5.0",
            "_model_name": "FloatProgressModel",
            "_view_count": null,
            "_view_module": "@jupyter-widgets/controls",
            "_view_module_version": "1.5.0",
            "_view_name": "ProgressView",
            "bar_style": "success",
            "description": "",
            "description_tooltip": null,
            "layout": "IPY_MODEL_70b6ea37f1bf433e904a6e510a7254c2",
            "max": 370634,
            "min": 0,
            "orientation": "horizontal",
            "style": "IPY_MODEL_b97b683681864449a39f5c7423d7eb40",
            "value": 370634
          }
        },
        "a2393e820bd449a3a7452bfd6c13275d": {
          "model_module": "@jupyter-widgets/base",
          "model_module_version": "1.2.0",
          "model_name": "LayoutModel",
          "state": {
            "_model_module": "@jupyter-widgets/base",
            "_model_module_version": "1.2.0",
            "_model_name": "LayoutModel",
            "_view_count": null,
            "_view_module": "@jupyter-widgets/base",
            "_view_module_version": "1.2.0",
            "_view_name": "LayoutView",
            "align_content": null,
            "align_items": null,
            "align_self": null,
            "border": null,
            "bottom": null,
            "display": null,
            "flex": null,
            "flex_flow": null,
            "grid_area": null,
            "grid_auto_columns": null,
            "grid_auto_flow": null,
            "grid_auto_rows": null,
            "grid_column": null,
            "grid_gap": null,
            "grid_row": null,
            "grid_template_areas": null,
            "grid_template_columns": null,
            "grid_template_rows": null,
            "height": null,
            "justify_content": null,
            "justify_items": null,
            "left": null,
            "margin": null,
            "max_height": null,
            "max_width": null,
            "min_height": null,
            "min_width": null,
            "object_fit": null,
            "object_position": null,
            "order": null,
            "overflow": null,
            "overflow_x": null,
            "overflow_y": null,
            "padding": null,
            "right": null,
            "top": null,
            "visibility": null,
            "width": null
          }
        },
        "a812a74d3d7f4066ad6a573969f164f1": {
          "model_module": "@jupyter-widgets/controls",
          "model_module_version": "1.5.0",
          "model_name": "ProgressStyleModel",
          "state": {
            "_model_module": "@jupyter-widgets/controls",
            "_model_module_version": "1.5.0",
            "_model_name": "ProgressStyleModel",
            "_view_count": null,
            "_view_module": "@jupyter-widgets/base",
            "_view_module_version": "1.2.0",
            "_view_name": "StyleView",
            "bar_color": null,
            "description_width": ""
          }
        },
        "ab6f5e905f8b4a6fb8510f0a9934503f": {
          "model_module": "@jupyter-widgets/controls",
          "model_module_version": "1.5.0",
          "model_name": "DescriptionStyleModel",
          "state": {
            "_model_module": "@jupyter-widgets/controls",
            "_model_module_version": "1.5.0",
            "_model_name": "DescriptionStyleModel",
            "_view_count": null,
            "_view_module": "@jupyter-widgets/base",
            "_view_module_version": "1.2.0",
            "_view_name": "StyleView",
            "description_width": ""
          }
        },
        "af09a74b7bb34c51a09377769fc094c2": {
          "model_module": "@jupyter-widgets/controls",
          "model_module_version": "1.5.0",
          "model_name": "FloatProgressModel",
          "state": {
            "_dom_classes": [],
            "_model_module": "@jupyter-widgets/controls",
            "_model_module_version": "1.5.0",
            "_model_name": "FloatProgressModel",
            "_view_count": null,
            "_view_module": "@jupyter-widgets/controls",
            "_view_module_version": "1.5.0",
            "_view_name": "ProgressView",
            "bar_style": "success",
            "description": "",
            "description_tooltip": null,
            "layout": "IPY_MODEL_d7a728a2d1b04372b05e60ec06346f6d",
            "max": 138019,
            "min": 0,
            "orientation": "horizontal",
            "style": "IPY_MODEL_a812a74d3d7f4066ad6a573969f164f1",
            "value": 138019
          }
        },
        "b1724918b7ea4ca39514d36d0fd485e4": {
          "model_module": "@jupyter-widgets/base",
          "model_module_version": "1.2.0",
          "model_name": "LayoutModel",
          "state": {
            "_model_module": "@jupyter-widgets/base",
            "_model_module_version": "1.2.0",
            "_model_name": "LayoutModel",
            "_view_count": null,
            "_view_module": "@jupyter-widgets/base",
            "_view_module_version": "1.2.0",
            "_view_name": "LayoutView",
            "align_content": null,
            "align_items": null,
            "align_self": null,
            "border": null,
            "bottom": null,
            "display": null,
            "flex": null,
            "flex_flow": null,
            "grid_area": null,
            "grid_auto_columns": null,
            "grid_auto_flow": null,
            "grid_auto_rows": null,
            "grid_column": null,
            "grid_gap": null,
            "grid_row": null,
            "grid_template_areas": null,
            "grid_template_columns": null,
            "grid_template_rows": null,
            "height": null,
            "justify_content": null,
            "justify_items": null,
            "left": null,
            "margin": null,
            "max_height": null,
            "max_width": null,
            "min_height": null,
            "min_width": null,
            "object_fit": null,
            "object_position": null,
            "order": null,
            "overflow": null,
            "overflow_x": null,
            "overflow_y": null,
            "padding": null,
            "right": null,
            "top": null,
            "visibility": null,
            "width": null
          }
        },
        "b97b683681864449a39f5c7423d7eb40": {
          "model_module": "@jupyter-widgets/controls",
          "model_module_version": "1.5.0",
          "model_name": "ProgressStyleModel",
          "state": {
            "_model_module": "@jupyter-widgets/controls",
            "_model_module_version": "1.5.0",
            "_model_name": "ProgressStyleModel",
            "_view_count": null,
            "_view_module": "@jupyter-widgets/base",
            "_view_module_version": "1.2.0",
            "_view_name": "StyleView",
            "bar_color": null,
            "description_width": ""
          }
        },
        "c37c4dba8f6a4892a8d8a520b5fb36ea": {
          "model_module": "@jupyter-widgets/controls",
          "model_module_version": "1.5.0",
          "model_name": "HTMLModel",
          "state": {
            "_dom_classes": [],
            "_model_module": "@jupyter-widgets/controls",
            "_model_module_version": "1.5.0",
            "_model_name": "HTMLModel",
            "_view_count": null,
            "_view_module": "@jupyter-widgets/controls",
            "_view_module_version": "1.5.0",
            "_view_name": "HTMLView",
            "description": "",
            "description_tooltip": null,
            "layout": "IPY_MODEL_a2393e820bd449a3a7452bfd6c13275d",
            "placeholder": "​",
            "style": "IPY_MODEL_fd8c903be21c4adc936c2d582649c4a4",
            "value": " 1111901/1111901 [00:27&lt;00:00, 40772.93it/s]"
          }
        },
        "cb41af9b32ba4e6bae3811b3cbe67bf1": {
          "model_module": "@jupyter-widgets/controls",
          "model_module_version": "1.5.0",
          "model_name": "DescriptionStyleModel",
          "state": {
            "_model_module": "@jupyter-widgets/controls",
            "_model_module_version": "1.5.0",
            "_model_name": "DescriptionStyleModel",
            "_view_count": null,
            "_view_module": "@jupyter-widgets/base",
            "_view_module_version": "1.2.0",
            "_view_name": "StyleView",
            "description_width": ""
          }
        },
        "ccd31706aeb44865ade2075d937f5b1d": {
          "model_module": "@jupyter-widgets/controls",
          "model_module_version": "1.5.0",
          "model_name": "FloatProgressModel",
          "state": {
            "_dom_classes": [],
            "_model_module": "@jupyter-widgets/controls",
            "_model_module_version": "1.5.0",
            "_model_name": "FloatProgressModel",
            "_view_count": null,
            "_view_module": "@jupyter-widgets/controls",
            "_view_module_version": "1.5.0",
            "_view_name": "ProgressView",
            "bar_style": "success",
            "description": "",
            "description_tooltip": null,
            "layout": "IPY_MODEL_28a3d6839da94261a60c76ae6e1e1c6d",
            "max": 1111901,
            "min": 0,
            "orientation": "horizontal",
            "style": "IPY_MODEL_37dbb3f66e4e44b8a65c2198791c3380",
            "value": 1111901
          }
        },
        "ce2ceb7eeed34b5ab39c962738831598": {
          "model_module": "@jupyter-widgets/controls",
          "model_module_version": "1.5.0",
          "model_name": "HBoxModel",
          "state": {
            "_dom_classes": [],
            "_model_module": "@jupyter-widgets/controls",
            "_model_module_version": "1.5.0",
            "_model_name": "HBoxModel",
            "_view_count": null,
            "_view_module": "@jupyter-widgets/controls",
            "_view_module_version": "1.5.0",
            "_view_name": "HBoxView",
            "box_style": "",
            "children": [
              "IPY_MODEL_411e68e1af3d43a086da319d5b0e3534",
              "IPY_MODEL_5b377db706694fe0a0a9982a36cc8de8",
              "IPY_MODEL_c37c4dba8f6a4892a8d8a520b5fb36ea"
            ],
            "layout": "IPY_MODEL_646193ba191348a5976c31f99b364ca8"
          }
        },
        "d08e156c9a1543d9a345494180d3b6d5": {
          "model_module": "@jupyter-widgets/controls",
          "model_module_version": "1.5.0",
          "model_name": "HTMLModel",
          "state": {
            "_dom_classes": [],
            "_model_module": "@jupyter-widgets/controls",
            "_model_module_version": "1.5.0",
            "_model_name": "HTMLModel",
            "_view_count": null,
            "_view_module": "@jupyter-widgets/controls",
            "_view_module_version": "1.5.0",
            "_view_name": "HTMLView",
            "description": "",
            "description_tooltip": null,
            "layout": "IPY_MODEL_7c22cf0d4592460d96a506bee9ea46c2",
            "placeholder": "​",
            "style": "IPY_MODEL_73ef71f4bdc8487b9aebcaf1652fd91a",
            "value": "100%"
          }
        },
        "d2539d26e5a14b99af4326b95c119550": {
          "model_module": "@jupyter-widgets/base",
          "model_module_version": "1.2.0",
          "model_name": "LayoutModel",
          "state": {
            "_model_module": "@jupyter-widgets/base",
            "_model_module_version": "1.2.0",
            "_model_name": "LayoutModel",
            "_view_count": null,
            "_view_module": "@jupyter-widgets/base",
            "_view_module_version": "1.2.0",
            "_view_name": "LayoutView",
            "align_content": null,
            "align_items": null,
            "align_self": null,
            "border": null,
            "bottom": null,
            "display": null,
            "flex": null,
            "flex_flow": null,
            "grid_area": null,
            "grid_auto_columns": null,
            "grid_auto_flow": null,
            "grid_auto_rows": null,
            "grid_column": null,
            "grid_gap": null,
            "grid_row": null,
            "grid_template_areas": null,
            "grid_template_columns": null,
            "grid_template_rows": null,
            "height": null,
            "justify_content": null,
            "justify_items": null,
            "left": null,
            "margin": null,
            "max_height": null,
            "max_width": null,
            "min_height": null,
            "min_width": null,
            "object_fit": null,
            "object_position": null,
            "order": null,
            "overflow": null,
            "overflow_x": null,
            "overflow_y": null,
            "padding": null,
            "right": null,
            "top": null,
            "visibility": null,
            "width": null
          }
        },
        "d54542e82b3f430499900714a9505ee5": {
          "model_module": "@jupyter-widgets/base",
          "model_module_version": "1.2.0",
          "model_name": "LayoutModel",
          "state": {
            "_model_module": "@jupyter-widgets/base",
            "_model_module_version": "1.2.0",
            "_model_name": "LayoutModel",
            "_view_count": null,
            "_view_module": "@jupyter-widgets/base",
            "_view_module_version": "1.2.0",
            "_view_name": "LayoutView",
            "align_content": null,
            "align_items": null,
            "align_self": null,
            "border": null,
            "bottom": null,
            "display": null,
            "flex": null,
            "flex_flow": null,
            "grid_area": null,
            "grid_auto_columns": null,
            "grid_auto_flow": null,
            "grid_auto_rows": null,
            "grid_column": null,
            "grid_gap": null,
            "grid_row": null,
            "grid_template_areas": null,
            "grid_template_columns": null,
            "grid_template_rows": null,
            "height": null,
            "justify_content": null,
            "justify_items": null,
            "left": null,
            "margin": null,
            "max_height": null,
            "max_width": null,
            "min_height": null,
            "min_width": null,
            "object_fit": null,
            "object_position": null,
            "order": null,
            "overflow": null,
            "overflow_x": null,
            "overflow_y": null,
            "padding": null,
            "right": null,
            "top": null,
            "visibility": null,
            "width": null
          }
        },
        "d7a728a2d1b04372b05e60ec06346f6d": {
          "model_module": "@jupyter-widgets/base",
          "model_module_version": "1.2.0",
          "model_name": "LayoutModel",
          "state": {
            "_model_module": "@jupyter-widgets/base",
            "_model_module_version": "1.2.0",
            "_model_name": "LayoutModel",
            "_view_count": null,
            "_view_module": "@jupyter-widgets/base",
            "_view_module_version": "1.2.0",
            "_view_name": "LayoutView",
            "align_content": null,
            "align_items": null,
            "align_self": null,
            "border": null,
            "bottom": null,
            "display": null,
            "flex": null,
            "flex_flow": null,
            "grid_area": null,
            "grid_auto_columns": null,
            "grid_auto_flow": null,
            "grid_auto_rows": null,
            "grid_column": null,
            "grid_gap": null,
            "grid_row": null,
            "grid_template_areas": null,
            "grid_template_columns": null,
            "grid_template_rows": null,
            "height": null,
            "justify_content": null,
            "justify_items": null,
            "left": null,
            "margin": null,
            "max_height": null,
            "max_width": null,
            "min_height": null,
            "min_width": null,
            "object_fit": null,
            "object_position": null,
            "order": null,
            "overflow": null,
            "overflow_x": null,
            "overflow_y": null,
            "padding": null,
            "right": null,
            "top": null,
            "visibility": null,
            "width": null
          }
        },
        "da46bc8d5ff74167af62526cd0c7b7ed": {
          "model_module": "@jupyter-widgets/base",
          "model_module_version": "1.2.0",
          "model_name": "LayoutModel",
          "state": {
            "_model_module": "@jupyter-widgets/base",
            "_model_module_version": "1.2.0",
            "_model_name": "LayoutModel",
            "_view_count": null,
            "_view_module": "@jupyter-widgets/base",
            "_view_module_version": "1.2.0",
            "_view_name": "LayoutView",
            "align_content": null,
            "align_items": null,
            "align_self": null,
            "border": null,
            "bottom": null,
            "display": null,
            "flex": null,
            "flex_flow": null,
            "grid_area": null,
            "grid_auto_columns": null,
            "grid_auto_flow": null,
            "grid_auto_rows": null,
            "grid_column": null,
            "grid_gap": null,
            "grid_row": null,
            "grid_template_areas": null,
            "grid_template_columns": null,
            "grid_template_rows": null,
            "height": null,
            "justify_content": null,
            "justify_items": null,
            "left": null,
            "margin": null,
            "max_height": null,
            "max_width": null,
            "min_height": null,
            "min_width": null,
            "object_fit": null,
            "object_position": null,
            "order": null,
            "overflow": null,
            "overflow_x": null,
            "overflow_y": null,
            "padding": null,
            "right": null,
            "top": null,
            "visibility": null,
            "width": null
          }
        },
        "db097bc868104a96bfe147b38bd6f7b3": {
          "model_module": "@jupyter-widgets/controls",
          "model_module_version": "1.5.0",
          "model_name": "DescriptionStyleModel",
          "state": {
            "_model_module": "@jupyter-widgets/controls",
            "_model_module_version": "1.5.0",
            "_model_name": "DescriptionStyleModel",
            "_view_count": null,
            "_view_module": "@jupyter-widgets/base",
            "_view_module_version": "1.2.0",
            "_view_name": "StyleView",
            "description_width": ""
          }
        },
        "dca4c21c309d421ba613ec4df45230ee": {
          "model_module": "@jupyter-widgets/controls",
          "model_module_version": "1.5.0",
          "model_name": "HBoxModel",
          "state": {
            "_dom_classes": [],
            "_model_module": "@jupyter-widgets/controls",
            "_model_module_version": "1.5.0",
            "_model_name": "HBoxModel",
            "_view_count": null,
            "_view_module": "@jupyter-widgets/controls",
            "_view_module_version": "1.5.0",
            "_view_name": "HBoxView",
            "box_style": "",
            "children": [
              "IPY_MODEL_3bcdf6cf94e24e719243bb80d778323d",
              "IPY_MODEL_af09a74b7bb34c51a09377769fc094c2",
              "IPY_MODEL_079297e7bcfb4f3bb08af60ece0e987b"
            ],
            "layout": "IPY_MODEL_20078cb4dd434a6a89abdb5fe676d759"
          }
        },
        "e194f1de0201477ea5c4c260cf03200a": {
          "model_module": "@jupyter-widgets/controls",
          "model_module_version": "1.5.0",
          "model_name": "DescriptionStyleModel",
          "state": {
            "_model_module": "@jupyter-widgets/controls",
            "_model_module_version": "1.5.0",
            "_model_name": "DescriptionStyleModel",
            "_view_count": null,
            "_view_module": "@jupyter-widgets/base",
            "_view_module_version": "1.2.0",
            "_view_name": "StyleView",
            "description_width": ""
          }
        },
        "e2b4d071194a4073b646ac895271b8ed": {
          "model_module": "@jupyter-widgets/controls",
          "model_module_version": "1.5.0",
          "model_name": "FloatProgressModel",
          "state": {
            "_dom_classes": [],
            "_model_module": "@jupyter-widgets/controls",
            "_model_module_version": "1.5.0",
            "_model_name": "FloatProgressModel",
            "_view_count": null,
            "_view_module": "@jupyter-widgets/controls",
            "_view_module_version": "1.5.0",
            "_view_name": "ProgressView",
            "bar_style": "success",
            "description": "",
            "description_tooltip": null,
            "layout": "IPY_MODEL_0f80d571afec47219d4fc999176d416c",
            "max": 370634,
            "min": 0,
            "orientation": "horizontal",
            "style": "IPY_MODEL_31d6c64bdf724fce9a80b6fe9ee1eb1a",
            "value": 370634
          }
        },
        "e76e102414784e1a9d55985f9bc1f576": {
          "model_module": "@jupyter-widgets/controls",
          "model_module_version": "1.5.0",
          "model_name": "ProgressStyleModel",
          "state": {
            "_model_module": "@jupyter-widgets/controls",
            "_model_module_version": "1.5.0",
            "_model_name": "ProgressStyleModel",
            "_view_count": null,
            "_view_module": "@jupyter-widgets/base",
            "_view_module_version": "1.2.0",
            "_view_name": "StyleView",
            "bar_color": null,
            "description_width": ""
          }
        },
        "ec942a7c7a22413684adf7412a9045d7": {
          "model_module": "@jupyter-widgets/base",
          "model_module_version": "1.2.0",
          "model_name": "LayoutModel",
          "state": {
            "_model_module": "@jupyter-widgets/base",
            "_model_module_version": "1.2.0",
            "_model_name": "LayoutModel",
            "_view_count": null,
            "_view_module": "@jupyter-widgets/base",
            "_view_module_version": "1.2.0",
            "_view_name": "LayoutView",
            "align_content": null,
            "align_items": null,
            "align_self": null,
            "border": null,
            "bottom": null,
            "display": null,
            "flex": null,
            "flex_flow": null,
            "grid_area": null,
            "grid_auto_columns": null,
            "grid_auto_flow": null,
            "grid_auto_rows": null,
            "grid_column": null,
            "grid_gap": null,
            "grid_row": null,
            "grid_template_areas": null,
            "grid_template_columns": null,
            "grid_template_rows": null,
            "height": null,
            "justify_content": null,
            "justify_items": null,
            "left": null,
            "margin": null,
            "max_height": null,
            "max_width": null,
            "min_height": null,
            "min_width": null,
            "object_fit": null,
            "object_position": null,
            "order": null,
            "overflow": null,
            "overflow_x": null,
            "overflow_y": null,
            "padding": null,
            "right": null,
            "top": null,
            "visibility": null,
            "width": null
          }
        },
        "f31f6a12cb674e4d9b0b33394856b14a": {
          "model_module": "@jupyter-widgets/base",
          "model_module_version": "1.2.0",
          "model_name": "LayoutModel",
          "state": {
            "_model_module": "@jupyter-widgets/base",
            "_model_module_version": "1.2.0",
            "_model_name": "LayoutModel",
            "_view_count": null,
            "_view_module": "@jupyter-widgets/base",
            "_view_module_version": "1.2.0",
            "_view_name": "LayoutView",
            "align_content": null,
            "align_items": null,
            "align_self": null,
            "border": null,
            "bottom": null,
            "display": null,
            "flex": null,
            "flex_flow": null,
            "grid_area": null,
            "grid_auto_columns": null,
            "grid_auto_flow": null,
            "grid_auto_rows": null,
            "grid_column": null,
            "grid_gap": null,
            "grid_row": null,
            "grid_template_areas": null,
            "grid_template_columns": null,
            "grid_template_rows": null,
            "height": null,
            "justify_content": null,
            "justify_items": null,
            "left": null,
            "margin": null,
            "max_height": null,
            "max_width": null,
            "min_height": null,
            "min_width": null,
            "object_fit": null,
            "object_position": null,
            "order": null,
            "overflow": null,
            "overflow_x": null,
            "overflow_y": null,
            "padding": null,
            "right": null,
            "top": null,
            "visibility": null,
            "width": null
          }
        },
        "f9d5d16f5d094149a4f4c34f7ce219e5": {
          "model_module": "@jupyter-widgets/base",
          "model_module_version": "1.2.0",
          "model_name": "LayoutModel",
          "state": {
            "_model_module": "@jupyter-widgets/base",
            "_model_module_version": "1.2.0",
            "_model_name": "LayoutModel",
            "_view_count": null,
            "_view_module": "@jupyter-widgets/base",
            "_view_module_version": "1.2.0",
            "_view_name": "LayoutView",
            "align_content": null,
            "align_items": null,
            "align_self": null,
            "border": null,
            "bottom": null,
            "display": null,
            "flex": null,
            "flex_flow": null,
            "grid_area": null,
            "grid_auto_columns": null,
            "grid_auto_flow": null,
            "grid_auto_rows": null,
            "grid_column": null,
            "grid_gap": null,
            "grid_row": null,
            "grid_template_areas": null,
            "grid_template_columns": null,
            "grid_template_rows": null,
            "height": null,
            "justify_content": null,
            "justify_items": null,
            "left": null,
            "margin": null,
            "max_height": null,
            "max_width": null,
            "min_height": null,
            "min_width": null,
            "object_fit": null,
            "object_position": null,
            "order": null,
            "overflow": null,
            "overflow_x": null,
            "overflow_y": null,
            "padding": null,
            "right": null,
            "top": null,
            "visibility": null,
            "width": null
          }
        },
        "fb7efacf85b24058975b9cd93fbb02f2": {
          "model_module": "@jupyter-widgets/controls",
          "model_module_version": "1.5.0",
          "model_name": "FloatProgressModel",
          "state": {
            "_dom_classes": [],
            "_model_module": "@jupyter-widgets/controls",
            "_model_module_version": "1.5.0",
            "_model_name": "FloatProgressModel",
            "_view_count": null,
            "_view_module": "@jupyter-widgets/controls",
            "_view_module_version": "1.5.0",
            "_view_name": "ProgressView",
            "bar_style": "success",
            "description": "",
            "description_tooltip": null,
            "layout": "IPY_MODEL_d2539d26e5a14b99af4326b95c119550",
            "max": 89565,
            "min": 0,
            "orientation": "horizontal",
            "style": "IPY_MODEL_e76e102414784e1a9d55985f9bc1f576",
            "value": 89565
          }
        },
        "fd8c903be21c4adc936c2d582649c4a4": {
          "model_module": "@jupyter-widgets/controls",
          "model_module_version": "1.5.0",
          "model_name": "DescriptionStyleModel",
          "state": {
            "_model_module": "@jupyter-widgets/controls",
            "_model_module_version": "1.5.0",
            "_model_name": "DescriptionStyleModel",
            "_view_count": null,
            "_view_module": "@jupyter-widgets/base",
            "_view_module_version": "1.2.0",
            "_view_name": "StyleView",
            "description_width": ""
          }
        },
        "fe8f83e103f54bbfac376c0f4c664119": {
          "model_module": "@jupyter-widgets/controls",
          "model_module_version": "1.5.0",
          "model_name": "HTMLModel",
          "state": {
            "_dom_classes": [],
            "_model_module": "@jupyter-widgets/controls",
            "_model_module_version": "1.5.0",
            "_model_name": "HTMLModel",
            "_view_count": null,
            "_view_module": "@jupyter-widgets/controls",
            "_view_module_version": "1.5.0",
            "_view_name": "HTMLView",
            "description": "",
            "description_tooltip": null,
            "layout": "IPY_MODEL_4b3489c9575d4f32a359ffccc68d73c9",
            "placeholder": "​",
            "style": "IPY_MODEL_5637d65501c642afb1932a95196033d5",
            "value": "100%"
          }
        },
        "ff7c8f8cdd1b40ae8ad7cb8cf235fae1": {
          "model_module": "@jupyter-widgets/base",
          "model_module_version": "1.2.0",
          "model_name": "LayoutModel",
          "state": {
            "_model_module": "@jupyter-widgets/base",
            "_model_module_version": "1.2.0",
            "_model_name": "LayoutModel",
            "_view_count": null,
            "_view_module": "@jupyter-widgets/base",
            "_view_module_version": "1.2.0",
            "_view_name": "LayoutView",
            "align_content": null,
            "align_items": null,
            "align_self": null,
            "border": null,
            "bottom": null,
            "display": null,
            "flex": null,
            "flex_flow": null,
            "grid_area": null,
            "grid_auto_columns": null,
            "grid_auto_flow": null,
            "grid_auto_rows": null,
            "grid_column": null,
            "grid_gap": null,
            "grid_row": null,
            "grid_template_areas": null,
            "grid_template_columns": null,
            "grid_template_rows": null,
            "height": null,
            "justify_content": null,
            "justify_items": null,
            "left": null,
            "margin": null,
            "max_height": null,
            "max_width": null,
            "min_height": null,
            "min_width": null,
            "object_fit": null,
            "object_position": null,
            "order": null,
            "overflow": null,
            "overflow_x": null,
            "overflow_y": null,
            "padding": null,
            "right": null,
            "top": null,
            "visibility": null,
            "width": null
          }
        }
      }
    }
  },
  "nbformat": 4,
  "nbformat_minor": 0
}