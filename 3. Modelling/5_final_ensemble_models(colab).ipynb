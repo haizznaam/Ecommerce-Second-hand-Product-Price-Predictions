{
  "cells": [
    {
      "cell_type": "markdown",
      "metadata": {
        "id": "7T6WqQ_YAqPH"
      },
      "source": [
        "# Table of Contents\n",
        "\n",
        "- **13. Final Model**\n",
        "- **14. Final Summary**"
      ]
    },
    {
      "cell_type": "code",
      "execution_count": null,
      "metadata": {
        "colab": {
          "base_uri": "https://localhost:8080/"
        },
        "id": "DxYJI9kgASTj",
        "outputId": "12142e52-1a5f-48c2-fe7f-efc795a37c80"
      },
      "outputs": [
        {
          "name": "stdout",
          "output_type": "stream",
          "text": [
            "CWD is  /content\n"
          ]
        }
      ],
      "source": [
        "## Set up Environment\n",
        "\n",
        "# Basic Libs..\n",
        "import warnings\n",
        "warnings.filterwarnings(\"ignore\")\n",
        "import math\n",
        "import time\n",
        "import pandas as pd\n",
        "import numpy as np\n",
        "import scipy\n",
        "import scipy.sparse\n",
        "from tqdm import tqdm,tqdm_notebook\n",
        "from prettytable import PrettyTable\n",
        "import pickle\n",
        "from IPython.display import Image\n",
        "from contextlib import contextmanager\n",
        "import os\n",
        "print('CWD is ',os.getcwd())\n",
        "\n",
        "# Vis Libs..\n",
        "import seaborn as sns\n",
        "import matplotlib.pyplot as plt\n",
        "from wordcloud import WordCloud\n",
        "\n",
        "# Text Libs..\n",
        "import re\n",
        "from gensim import corpora, models\n",
        "import gensim\n",
        "from gensim.utils import simple_preprocess\n",
        "from gensim.parsing.preprocessing import STOPWORDS\n",
        "from nltk.stem import WordNetLemmatizer, SnowballStemmer,PorterStemmer\n",
        "from nltk.stem.porter import *\n",
        "import nltk\n",
        "from nltk.sentiment.vader import SentimentIntensityAnalyzer\n",
        "from sklearn.feature_extraction import DictVectorizer\n",
        "from sklearn.feature_extraction.text import CountVectorizer,TfidfVectorizer\n",
        "from sklearn.preprocessing import LabelBinarizer\n",
        "\n",
        "# ML Libs...\n",
        "from sklearn.model_selection import train_test_split\n",
        "from sklearn.preprocessing import StandardScaler, MinMaxScaler, OneHotEncoder,FunctionTransformer\n",
        "from sklearn.linear_model import Ridge\n",
        "from sklearn.metrics import mean_squared_error\n",
        "import lightgbm as lgb\n",
        "from sklearn.feature_selection import SelectKBest,f_regression\n",
        "from sklearn.model_selection import GridSearchCV\n",
        "\n",
        "\n",
        "# DL Libs..\n",
        "from tensorflow.keras.preprocessing.text import Tokenizer\n",
        "from tensorflow.keras.preprocessing.sequence import pad_sequences\n",
        "from tensorflow.keras.layers import Dense, Input , Dropout, Flatten,concatenate,LSTM\n",
        "from tensorflow.keras.layers import Embedding\n",
        "import tensorflow.keras\n",
        "from tensorflow.keras.models import Model,load_model\n",
        "from tensorflow.keras.layers import BatchNormalization\n",
        "from tensorflow.keras.utils import plot_model\n",
        "from tensorflow.keras.callbacks import ModelCheckpoint,TensorBoard,ReduceLROnPlateau, EarlyStopping\n",
        "from tensorflow.keras import backend as K\n",
        "from tensorflow.keras import optimizers"
      ]
    },
    {
      "cell_type": "markdown",
      "metadata": {
        "id": "NjV_0htXCMjC"
      },
      "source": [
        "# **13. Final Models**"
      ]
    },
    {
      "cell_type": "markdown",
      "metadata": {
        "id": "zegw7q3rCXKj"
      },
      "source": [
        "## 13.1. Setup Colab Environment"
      ]
    },
    {
      "cell_type": "code",
      "execution_count": null,
      "metadata": {
        "colab": {
          "base_uri": "https://localhost:8080/"
        },
        "id": "J0O4Pt3MCTjI",
        "outputId": "09a931b6-22b3-4309-f721-78eb6fa19daa"
      },
      "outputs": [
        {
          "name": "stderr",
          "output_type": "stream",
          "text": [
            "WARNING:root:pydrive is deprecated and no longer maintained. We recommend that you migrate your projects to pydrive2, the maintained fork of pydrive\n"
          ]
        }
      ],
      "source": [
        "'''\n",
        "Code below sets up Google Colab to load the input files from\n",
        "Google Drive and can output files as well\n",
        "'''\n",
        "\n",
        "# Colab Libs...\n",
        "from pydrive.auth import GoogleAuth\n",
        "from pydrive.drive import GoogleDrive\n",
        "from google.colab import auth\n",
        "from oauth2client.client import GoogleCredentials\n",
        "\n",
        "auth.authenticate_user()\n",
        "gauth = GoogleAuth()\n",
        "gauth.credentials = GoogleCredentials.get_application_default()\n",
        "drive = GoogleDrive(gauth)"
      ]
    },
    {
      "cell_type": "code",
      "execution_count": null,
      "metadata": {
        "colab": {
          "base_uri": "https://localhost:8080/"
        },
        "id": "dHnfuGmoCiPM",
        "outputId": "5d730176-e4ab-49bb-a2ec-16344af449e2"
      },
      "outputs": [
        {
          "name": "stdout",
          "output_type": "stream",
          "text": [
            "Mounted at /content/gdrive\n"
          ]
        }
      ],
      "source": [
        "from google.colab import drive\n",
        "drive.mount('/content/gdrive')"
      ]
    },
    {
      "cell_type": "code",
      "execution_count": null,
      "metadata": {
        "colab": {
          "base_uri": "https://localhost:8080/"
        },
        "id": "w8OZDc_3CzDB",
        "outputId": "ed910945-32f8-4bb8-be38-f0b68e573225"
      },
      "outputs": [
        {
          "name": "stdout",
          "output_type": "stream",
          "text": [
            "We are currently in the folder of  /content/gdrive/MyDrive/Mercari Price Prediction/2. Processing/storage\n"
          ]
        }
      ],
      "source": [
        "import os\n",
        "os.chdir('/content/gdrive/MyDrive/Mercari Price Prediction/2. Processing/storage')\n",
        "print(\"We are currently in the folder of \",os.getcwd())"
      ]
    },
    {
      "cell_type": "markdown",
      "metadata": {
        "id": "REhWZXSEDFZj"
      },
      "source": [
        "## 13.2 Load Data From GDrive\n"
      ]
    },
    {
      "cell_type": "code",
      "execution_count": null,
      "metadata": {
        "colab": {
          "base_uri": "https://localhost:8080/"
        },
        "id": "aDjQRQbMC_ur",
        "outputId": "d545b683-4125-4748-e321-da24836b0384"
      },
      "outputs": [
        {
          "name": "stdout",
          "output_type": "stream",
          "text": [
            "(1111901, 8) \n",
            " (370634, 8)\n"
          ]
        }
      ],
      "source": [
        "import pickle\n",
        "file = open('df_train_model', 'rb')\n",
        "df_train_model = pickle.load(file)\n",
        "file.close()\n",
        "\n",
        "file = open('df_test_model', 'rb')\n",
        "df_test_model = pickle.load(file)\n",
        "file.close()\n",
        "\n",
        "print(df_train_model.shape,\"\\n\",df_test_model.shape)"
      ]
    },
    {
      "cell_type": "code",
      "execution_count": null,
      "metadata": {
        "colab": {
          "base_uri": "https://localhost:8080/",
          "height": 397
        },
        "id": "ezzMMjIEDQnh",
        "outputId": "21405b3e-8f51-4513-abc1-f7c787a5ff59"
      },
      "outputs": [
        {
          "data": {
            "application/vnd.google.colaboratory.intrinsic+json": {
              "type": "dataframe",
              "variable_name": "df_train_model"
            },
            "text/html": [
              "\n",
              "  <div id=\"df-9389933f-4192-4cf7-8e35-7713bde6d0c9\" class=\"colab-df-container\">\n",
              "    <div>\n",
              "<style scoped>\n",
              "    .dataframe tbody tr th:only-of-type {\n",
              "        vertical-align: middle;\n",
              "    }\n",
              "\n",
              "    .dataframe tbody tr th {\n",
              "        vertical-align: top;\n",
              "    }\n",
              "\n",
              "    .dataframe thead th {\n",
              "        text-align: right;\n",
              "    }\n",
              "</style>\n",
              "<table border=\"1\" class=\"dataframe\">\n",
              "  <thead>\n",
              "    <tr style=\"text-align: right;\">\n",
              "      <th></th>\n",
              "      <th>train_id</th>\n",
              "      <th>name</th>\n",
              "      <th>item_condition_id</th>\n",
              "      <th>category_name</th>\n",
              "      <th>brand_name</th>\n",
              "      <th>price</th>\n",
              "      <th>shipping</th>\n",
              "      <th>item_description</th>\n",
              "    </tr>\n",
              "  </thead>\n",
              "  <tbody>\n",
              "    <tr>\n",
              "      <th>720995</th>\n",
              "      <td>720995</td>\n",
              "      <td>Advantage ll 6pk extra large dog 55lbs+</td>\n",
              "      <td>1</td>\n",
              "      <td>Other/Pet Supplies/Dogs</td>\n",
              "      <td>Advantage</td>\n",
              "      <td>50.0</td>\n",
              "      <td>1</td>\n",
              "      <td>6 month supply of advantage II start working o...</td>\n",
              "    </tr>\n",
              "    <tr>\n",
              "      <th>542483</th>\n",
              "      <td>542483</td>\n",
              "      <td>Sheer love Victoria secret travel set</td>\n",
              "      <td>1</td>\n",
              "      <td>Women/Other/Other</td>\n",
              "      <td>Victoria's Secret</td>\n",
              "      <td>19.0</td>\n",
              "      <td>0</td>\n",
              "      <td>Never used Great for Christmas presents(: No f...</td>\n",
              "    </tr>\n",
              "    <tr>\n",
              "      <th>1207045</th>\n",
              "      <td>1207045</td>\n",
              "      <td>Red Cherry Lashes 2-pack</td>\n",
              "      <td>1</td>\n",
              "      <td>Beauty/Makeup/Eyes</td>\n",
              "      <td>Red Cherry</td>\n",
              "      <td>5.0</td>\n",
              "      <td>1</td>\n",
              "      <td>✨✈️FREE Shipping!!✨✈️ Brand new wispy Red Cher...</td>\n",
              "    </tr>\n",
              "    <tr>\n",
              "      <th>1081237</th>\n",
              "      <td>1081237</td>\n",
              "      <td>Lularoe OS pink camera leggings</td>\n",
              "      <td>1</td>\n",
              "      <td>Women/Athletic Apparel/Pants, Tights, Leggings</td>\n",
              "      <td>NaN</td>\n",
              "      <td>42.0</td>\n",
              "      <td>1</td>\n",
              "      <td>Brand new OS pink camera leggings. Made in Chi...</td>\n",
              "    </tr>\n",
              "    <tr>\n",
              "      <th>199059</th>\n",
              "      <td>199059</td>\n",
              "      <td>Lacey Flowy Red Dress</td>\n",
              "      <td>1</td>\n",
              "      <td>Women/Dresses/Knee-Length</td>\n",
              "      <td>Papaya</td>\n",
              "      <td>14.0</td>\n",
              "      <td>0</td>\n",
              "      <td>This dress is from papaya I just found it whil...</td>\n",
              "    </tr>\n",
              "  </tbody>\n",
              "</table>\n",
              "</div>\n",
              "    <div class=\"colab-df-buttons\">\n",
              "\n",
              "  <div class=\"colab-df-container\">\n",
              "    <button class=\"colab-df-convert\" onclick=\"convertToInteractive('df-9389933f-4192-4cf7-8e35-7713bde6d0c9')\"\n",
              "            title=\"Convert this dataframe to an interactive table.\"\n",
              "            style=\"display:none;\">\n",
              "\n",
              "  <svg xmlns=\"http://www.w3.org/2000/svg\" height=\"24px\" viewBox=\"0 -960 960 960\">\n",
              "    <path d=\"M120-120v-720h720v720H120Zm60-500h600v-160H180v160Zm220 220h160v-160H400v160Zm0 220h160v-160H400v160ZM180-400h160v-160H180v160Zm440 0h160v-160H620v160ZM180-180h160v-160H180v160Zm440 0h160v-160H620v160Z\"/>\n",
              "  </svg>\n",
              "    </button>\n",
              "\n",
              "  <style>\n",
              "    .colab-df-container {\n",
              "      display:flex;\n",
              "      gap: 12px;\n",
              "    }\n",
              "\n",
              "    .colab-df-convert {\n",
              "      background-color: #E8F0FE;\n",
              "      border: none;\n",
              "      border-radius: 50%;\n",
              "      cursor: pointer;\n",
              "      display: none;\n",
              "      fill: #1967D2;\n",
              "      height: 32px;\n",
              "      padding: 0 0 0 0;\n",
              "      width: 32px;\n",
              "    }\n",
              "\n",
              "    .colab-df-convert:hover {\n",
              "      background-color: #E2EBFA;\n",
              "      box-shadow: 0px 1px 2px rgba(60, 64, 67, 0.3), 0px 1px 3px 1px rgba(60, 64, 67, 0.15);\n",
              "      fill: #174EA6;\n",
              "    }\n",
              "\n",
              "    .colab-df-buttons div {\n",
              "      margin-bottom: 4px;\n",
              "    }\n",
              "\n",
              "    [theme=dark] .colab-df-convert {\n",
              "      background-color: #3B4455;\n",
              "      fill: #D2E3FC;\n",
              "    }\n",
              "\n",
              "    [theme=dark] .colab-df-convert:hover {\n",
              "      background-color: #434B5C;\n",
              "      box-shadow: 0px 1px 3px 1px rgba(0, 0, 0, 0.15);\n",
              "      filter: drop-shadow(0px 1px 2px rgba(0, 0, 0, 0.3));\n",
              "      fill: #FFFFFF;\n",
              "    }\n",
              "  </style>\n",
              "\n",
              "    <script>\n",
              "      const buttonEl =\n",
              "        document.querySelector('#df-9389933f-4192-4cf7-8e35-7713bde6d0c9 button.colab-df-convert');\n",
              "      buttonEl.style.display =\n",
              "        google.colab.kernel.accessAllowed ? 'block' : 'none';\n",
              "\n",
              "      async function convertToInteractive(key) {\n",
              "        const element = document.querySelector('#df-9389933f-4192-4cf7-8e35-7713bde6d0c9');\n",
              "        const dataTable =\n",
              "          await google.colab.kernel.invokeFunction('convertToInteractive',\n",
              "                                                    [key], {});\n",
              "        if (!dataTable) return;\n",
              "\n",
              "        const docLinkHtml = 'Like what you see? Visit the ' +\n",
              "          '<a target=\"_blank\" href=https://colab.research.google.com/notebooks/data_table.ipynb>data table notebook</a>'\n",
              "          + ' to learn more about interactive tables.';\n",
              "        element.innerHTML = '';\n",
              "        dataTable['output_type'] = 'display_data';\n",
              "        await google.colab.output.renderOutput(dataTable, element);\n",
              "        const docLink = document.createElement('div');\n",
              "        docLink.innerHTML = docLinkHtml;\n",
              "        element.appendChild(docLink);\n",
              "      }\n",
              "    </script>\n",
              "  </div>\n",
              "\n",
              "\n",
              "<div id=\"df-ddcbc2a7-2b82-489d-aeaa-b0b877053686\">\n",
              "  <button class=\"colab-df-quickchart\" onclick=\"quickchart('df-ddcbc2a7-2b82-489d-aeaa-b0b877053686')\"\n",
              "            title=\"Suggest charts\"\n",
              "            style=\"display:none;\">\n",
              "\n",
              "<svg xmlns=\"http://www.w3.org/2000/svg\" height=\"24px\"viewBox=\"0 0 24 24\"\n",
              "     width=\"24px\">\n",
              "    <g>\n",
              "        <path d=\"M19 3H5c-1.1 0-2 .9-2 2v14c0 1.1.9 2 2 2h14c1.1 0 2-.9 2-2V5c0-1.1-.9-2-2-2zM9 17H7v-7h2v7zm4 0h-2V7h2v10zm4 0h-2v-4h2v4z\"/>\n",
              "    </g>\n",
              "</svg>\n",
              "  </button>\n",
              "\n",
              "<style>\n",
              "  .colab-df-quickchart {\n",
              "      --bg-color: #E8F0FE;\n",
              "      --fill-color: #1967D2;\n",
              "      --hover-bg-color: #E2EBFA;\n",
              "      --hover-fill-color: #174EA6;\n",
              "      --disabled-fill-color: #AAA;\n",
              "      --disabled-bg-color: #DDD;\n",
              "  }\n",
              "\n",
              "  [theme=dark] .colab-df-quickchart {\n",
              "      --bg-color: #3B4455;\n",
              "      --fill-color: #D2E3FC;\n",
              "      --hover-bg-color: #434B5C;\n",
              "      --hover-fill-color: #FFFFFF;\n",
              "      --disabled-bg-color: #3B4455;\n",
              "      --disabled-fill-color: #666;\n",
              "  }\n",
              "\n",
              "  .colab-df-quickchart {\n",
              "    background-color: var(--bg-color);\n",
              "    border: none;\n",
              "    border-radius: 50%;\n",
              "    cursor: pointer;\n",
              "    display: none;\n",
              "    fill: var(--fill-color);\n",
              "    height: 32px;\n",
              "    padding: 0;\n",
              "    width: 32px;\n",
              "  }\n",
              "\n",
              "  .colab-df-quickchart:hover {\n",
              "    background-color: var(--hover-bg-color);\n",
              "    box-shadow: 0 1px 2px rgba(60, 64, 67, 0.3), 0 1px 3px 1px rgba(60, 64, 67, 0.15);\n",
              "    fill: var(--button-hover-fill-color);\n",
              "  }\n",
              "\n",
              "  .colab-df-quickchart-complete:disabled,\n",
              "  .colab-df-quickchart-complete:disabled:hover {\n",
              "    background-color: var(--disabled-bg-color);\n",
              "    fill: var(--disabled-fill-color);\n",
              "    box-shadow: none;\n",
              "  }\n",
              "\n",
              "  .colab-df-spinner {\n",
              "    border: 2px solid var(--fill-color);\n",
              "    border-color: transparent;\n",
              "    border-bottom-color: var(--fill-color);\n",
              "    animation:\n",
              "      spin 1s steps(1) infinite;\n",
              "  }\n",
              "\n",
              "  @keyframes spin {\n",
              "    0% {\n",
              "      border-color: transparent;\n",
              "      border-bottom-color: var(--fill-color);\n",
              "      border-left-color: var(--fill-color);\n",
              "    }\n",
              "    20% {\n",
              "      border-color: transparent;\n",
              "      border-left-color: var(--fill-color);\n",
              "      border-top-color: var(--fill-color);\n",
              "    }\n",
              "    30% {\n",
              "      border-color: transparent;\n",
              "      border-left-color: var(--fill-color);\n",
              "      border-top-color: var(--fill-color);\n",
              "      border-right-color: var(--fill-color);\n",
              "    }\n",
              "    40% {\n",
              "      border-color: transparent;\n",
              "      border-right-color: var(--fill-color);\n",
              "      border-top-color: var(--fill-color);\n",
              "    }\n",
              "    60% {\n",
              "      border-color: transparent;\n",
              "      border-right-color: var(--fill-color);\n",
              "    }\n",
              "    80% {\n",
              "      border-color: transparent;\n",
              "      border-right-color: var(--fill-color);\n",
              "      border-bottom-color: var(--fill-color);\n",
              "    }\n",
              "    90% {\n",
              "      border-color: transparent;\n",
              "      border-bottom-color: var(--fill-color);\n",
              "    }\n",
              "  }\n",
              "</style>\n",
              "\n",
              "  <script>\n",
              "    async function quickchart(key) {\n",
              "      const quickchartButtonEl =\n",
              "        document.querySelector('#' + key + ' button');\n",
              "      quickchartButtonEl.disabled = true;  // To prevent multiple clicks.\n",
              "      quickchartButtonEl.classList.add('colab-df-spinner');\n",
              "      try {\n",
              "        const charts = await google.colab.kernel.invokeFunction(\n",
              "            'suggestCharts', [key], {});\n",
              "      } catch (error) {\n",
              "        console.error('Error during call to suggestCharts:', error);\n",
              "      }\n",
              "      quickchartButtonEl.classList.remove('colab-df-spinner');\n",
              "      quickchartButtonEl.classList.add('colab-df-quickchart-complete');\n",
              "    }\n",
              "    (() => {\n",
              "      let quickchartButtonEl =\n",
              "        document.querySelector('#df-ddcbc2a7-2b82-489d-aeaa-b0b877053686 button');\n",
              "      quickchartButtonEl.style.display =\n",
              "        google.colab.kernel.accessAllowed ? 'block' : 'none';\n",
              "    })();\n",
              "  </script>\n",
              "</div>\n",
              "\n",
              "    </div>\n",
              "  </div>\n"
            ],
            "text/plain": [
              "         train_id                                     name  item_condition_id  \\\n",
              "720995     720995  Advantage ll 6pk extra large dog 55lbs+                  1   \n",
              "542483     542483    Sheer love Victoria secret travel set                  1   \n",
              "1207045   1207045                 Red Cherry Lashes 2-pack                  1   \n",
              "1081237   1081237          Lularoe OS pink camera leggings                  1   \n",
              "199059     199059                    Lacey Flowy Red Dress                  1   \n",
              "\n",
              "                                          category_name         brand_name  \\\n",
              "720995                          Other/Pet Supplies/Dogs          Advantage   \n",
              "542483                                Women/Other/Other  Victoria's Secret   \n",
              "1207045                              Beauty/Makeup/Eyes         Red Cherry   \n",
              "1081237  Women/Athletic Apparel/Pants, Tights, Leggings                NaN   \n",
              "199059                        Women/Dresses/Knee-Length             Papaya   \n",
              "\n",
              "         price  shipping                                   item_description  \n",
              "720995    50.0         1  6 month supply of advantage II start working o...  \n",
              "542483    19.0         0  Never used Great for Christmas presents(: No f...  \n",
              "1207045    5.0         1  ✨✈️FREE Shipping!!✨✈️ Brand new wispy Red Cher...  \n",
              "1081237   42.0         1  Brand new OS pink camera leggings. Made in Chi...  \n",
              "199059    14.0         0  This dress is from papaya I just found it whil...  "
            ]
          },
          "execution_count": 6,
          "metadata": {},
          "output_type": "execute_result"
        }
      ],
      "source": [
        "df_train_model.head()"
      ]
    },
    {
      "cell_type": "markdown",
      "metadata": {
        "id": "-HTkqhkrDnxV"
      },
      "source": [
        "## 13.3 Functions for Data Encodings and Preparation\n"
      ]
    },
    {
      "cell_type": "code",
      "execution_count": null,
      "metadata": {
        "id": "jKDH4M-HDjb9"
      },
      "outputs": [],
      "source": [
        "'''\n",
        "Code for Text Cleaning & Preprocessing Stage\n",
        "'''\n",
        "def decontracted(phrase):\n",
        "    # specific\n",
        "    phrase = re.sub(r\"won't\", \"will not\", phrase)\n",
        "    phrase = re.sub(r\"can\\'t\", \"can not\", phrase)\n",
        "\n",
        "    # general\n",
        "    phrase = re.sub(r\"n\\'t\", \" not\", phrase)\n",
        "    phrase = re.sub(r\"\\'re\", \" are\", phrase)\n",
        "    phrase = re.sub(r\"\\'s\", \" is\", phrase)\n",
        "    phrase = re.sub(r\"\\'d\", \" would\", phrase)\n",
        "    phrase = re.sub(r\"\\'ll\", \" will\", phrase)\n",
        "    phrase = re.sub(r\"\\'t\", \" not\", phrase)\n",
        "    phrase = re.sub(r\"\\'ve\", \" have\", phrase)\n",
        "    phrase = re.sub(r\"\\'m\", \" am\", phrase)\n",
        "    return phrase\n",
        "\n",
        "# Removing the words from the stop words list: 'no', 'nor', 'not'\n",
        "stopwords= ['i', 'me', 'my', 'myself', 'we', 'our', 'ours', 'ourselves', 'you', \"you're\", \"you've\",\\\n",
        "            \"you'll\", \"you'd\", 'your', 'yours', 'yourself', 'yourselves', 'he', 'him', 'his', 'himself', \\\n",
        "            'she', \"she's\", 'her', 'hers', 'herself', 'it', \"it's\", 'its', 'itself', 'they', 'them', 'their',\\\n",
        "            'theirs', 'themselves', 'what', 'which', 'who', 'whom', 'this', 'that', \"that'll\", 'these', 'those', \\\n",
        "            'am', 'is', 'are', 'was', 'were', 'be', 'been', 'being', 'have', 'has', 'had', 'having', 'do', 'does', \\\n",
        "            'did', 'doing', 'a', 'an', 'the', 'and', 'but', 'if', 'or', 'because', 'as', 'until', 'while', 'of', \\\n",
        "            'at', 'by', 'for', 'with', 'about', 'against', 'between', 'into', 'through', 'during', 'before', 'after',\\\n",
        "            'above', 'below', 'to', 'from', 'up', 'down', 'in', 'out', 'on', 'off', 'over', 'under', 'again', 'further',\\\n",
        "            'then', 'once', 'here', 'there', 'when', 'where', 'why', 'how', 'all', 'any', 'both', 'each', 'few', 'more',\\\n",
        "            'most', 'other', 'some', 'such', 'only', 'own', 'same', 'so', 'than', 'too', 'very', \\\n",
        "            's', 't', 'can', 'will', 'just', 'don', \"don't\", 'should', \"should've\", 'now', 'd', 'll', 'm', 'o', 're', \\\n",
        "            've', 'y', 'ain', 'aren', \"aren't\", 'couldn', \"couldn't\", 'didn', \"didn't\", 'doesn', \"doesn't\", 'hadn',\\\n",
        "            \"hadn't\", 'hasn', \"hasn't\", 'haven', \"haven't\", 'isn', \"isn't\", 'ma', 'mightn', \"mightn't\", 'mustn',\\\n",
        "            \"mustn't\", 'needn', \"needn't\", 'shan', \"shan't\", 'shouldn', \"shouldn't\", 'wasn', \"wasn't\", 'weren', \"weren't\", \\\n",
        "            'won', \"won't\", 'wouldn', \"wouldn't\"]\n",
        "\n",
        "def text_preprocess(data):\n",
        "    preprocessed = []\n",
        "    # tqdm is for printing the status bar\n",
        "    for sentance in tqdm_notebook(data):\n",
        "        sent = decontracted(sentance)\n",
        "        sent = sent.replace('\\\\r', ' ')\n",
        "        sent = sent.replace('\\\\\"', ' ')\n",
        "        sent = sent.replace('\\\\n', ' ')\n",
        "        sent = re.sub('[^A-Za-z0-9]+', ' ', sent)\n",
        "        # stop word removal\n",
        "        sent = ' '.join(e for e in sent.split() if e not in stopwords)\n",
        "        preprocessed.append(sent.lower().strip())\n",
        "    return preprocessed"
      ]
    },
    {
      "cell_type": "code",
      "execution_count": null,
      "metadata": {
        "id": "5coZm376Exob"
      },
      "outputs": [],
      "source": [
        "'''\n",
        "This Function concatenates text features from item-name,brand,category,description to create\n",
        "the concatenated text feature.\n",
        "'''\n",
        "\n",
        "def data_preprocess(df):\n",
        "    df['name'] = df['name'].fillna('') + ' ' + df['brand_name'].fillna('')\n",
        "    df['text'] = (df['item_description'].fillna('') + ' ' + df['name'] + ' ' + df['category_name'].fillna(''))\n",
        "    return df[['name', 'text', 'shipping', 'item_condition_id','price']]"
      ]
    },
    {
      "cell_type": "code",
      "execution_count": null,
      "metadata": {
        "id": "KNXbqdHaE3A5"
      },
      "outputs": [],
      "source": [
        "'''\n",
        "This Function takes in train,test datasets as input and returns\n",
        "feature transforms - Tfidfvectorizer,Onehotencoder,etc. and\n",
        "returns concatenated feature (hstack) of X_train,X_test,y_train,y_test as output.\n",
        "'''\n",
        "\n",
        "def data_encoder(train,test):\n",
        "\n",
        "    # Text Encoding for Names...\n",
        "    vect_name = TfidfVectorizer(max_features=100000, token_pattern='\\w+', dtype=np.float32)\n",
        "    train_name  = vect_name.fit_transform(train['name'].values)\n",
        "    test_name = vect_name.transform(test['name'].values)\n",
        "\n",
        "    # Text Encoding for Text...\n",
        "    vect_text = TfidfVectorizer(max_features=100000, token_pattern='\\w+', ngram_range=(1, 2), dtype=np.float32)\n",
        "    train_text  = vect_text.fit_transform(train['text'].values)\n",
        "    test_text = vect_text.transform(test['text'].values)\n",
        "\n",
        "    # Encoding for Shipping, Item Condition ID...\n",
        "    train_dummies = scipy.sparse.csr_matrix(pd.get_dummies(train[[\"item_condition_id\", \"shipping\"]], sparse = True).values)\n",
        "    test_dummies = scipy.sparse.csr_matrix(pd.get_dummies(test[[\"item_condition_id\", \"shipping\"]], sparse = True).values)\n",
        "\n",
        "    # Final Feature Stack for X_train,X_test\n",
        "    X_train = scipy.sparse.hstack((train_name, train_text, train_dummies)).tocsr().astype('float32')\n",
        "    X_test = scipy.sparse.hstack((test_name, test_text, test_dummies)).tocsr().astype('float32')\n",
        "\n",
        "    # Final Outputs.. y_train,y_test\n",
        "    global y_scaler\n",
        "    y_scaler = StandardScaler()\n",
        "    y_train = y_scaler.fit_transform(np.log1p(train['price'].values.reshape(-1, 1)))\n",
        "    y_test = y_scaler.transform(np.log1p(test['price'].values.reshape(-1, 1)))\n",
        "\n",
        "    return X_train,X_test,y_train,y_test"
      ]
    },
    {
      "cell_type": "code",
      "execution_count": null,
      "metadata": {
        "id": "wJliQQktFKsb"
      },
      "outputs": [],
      "source": [
        "'''Function creates a concatenated feature stack of item-name,description,brand,category columns'''\n",
        "\n",
        "def text_concatenate(df):\n",
        "    df['text'] = (df['name'].astype(str).fillna('') + ' ' + df['brand_name'].astype(str).fillna('') + ' ' +\n",
        "                df['item_description'].astype(str).fillna('') + \" \" + df['category_name'].astype(str).fillna(''))\n",
        "    return df['text']"
      ]
    },
    {
      "cell_type": "code",
      "execution_count": null,
      "metadata": {
        "id": "PTiH8RSRFWLs"
      },
      "outputs": [],
      "source": [
        "'''Function creates a concatenated feature stack of item-name,description,brand,category columns'''\n",
        "\n",
        "def text_concatenate(df):\n",
        "    df['text'] = (df['name'].astype(str).fillna('') + ' ' + df['brand_name'].astype(str).fillna('') + ' ' +\n",
        "                df['item_description'].astype(str).fillna('') + \" \" + df['category_name'].astype(str).fillna(''))\n",
        "    return df['text']"
      ]
    },
    {
      "cell_type": "code",
      "execution_count": null,
      "metadata": {
        "id": "7SihHXYDGiFt"
      },
      "outputs": [],
      "source": [
        "'''\n",
        "This Code uses Keras tokeizer to create Word Tokens from the Text Vocabulary,\n",
        "it takes in train,test text data as input,\n",
        "returns keras tokenizer and tokeized train,test datasets\n",
        "'''\n",
        "\n",
        "\n",
        "def text_tokenize(train,test):\n",
        "    t = Tokenizer()\n",
        "    t.fit_on_texts(train)\n",
        "    #print('Total number of words in the document are ',len(t.word_index) + 1)\n",
        "    train_tokenized = t.texts_to_sequences(train)\n",
        "    test_tokenized = t.texts_to_sequences(test)\n",
        "    return train_tokenized,test_tokenized,t"
      ]
    },
    {
      "cell_type": "code",
      "execution_count": null,
      "metadata": {
        "id": "KMxfS-uMHuLK"
      },
      "outputs": [],
      "source": [
        "'''\n",
        "This Code takes train,test data and performs Pre-padding with (max_length= sl)\n",
        "which can be input as required\n",
        "'''\n",
        "\n",
        "def text_padding(train,test,sl):\n",
        "    padded_train_text = pad_sequences(train, maxlen = sl, padding='pre')\n",
        "    padded_test_text = pad_sequences(test, maxlen = sl, padding='pre')\n",
        "    return padded_train_text,padded_test_text"
      ]
    },
    {
      "cell_type": "code",
      "execution_count": null,
      "metadata": {
        "id": "OyEVZbh1HxYm"
      },
      "outputs": [],
      "source": [
        "'''This function takes in Text sentences data and performs BOW/TF - IDF\n",
        "vectorization based on parameters input including ngrmas, min_df, max_features etc'''\n",
        "\n",
        "\n",
        "def text_encoder(train, test, vect_type, params):\n",
        "    vectorizer = CountVectorizer(ngram_range=params[0],\n",
        "                                 min_df=params[1],\n",
        "                                 max_df=params[2],\n",
        "                                 max_features=params[3]) if vect_type == 'BOW' else TfidfVectorizer(ngram_range=params[0],\n",
        "                                                                                                    min_df=params[1],\n",
        "                                                                                                    max_df=params[2],\n",
        "                                                                                                    max_features=params[3])\n",
        "    train_transform = vectorizer.fit_transform(train)\n",
        "    test_transform = vectorizer.transform(test)\n",
        "    feat_names = vectorizer.get_feature_names_out()\n",
        "    return train_transform, test_transform, feat_names"
      ]
    },
    {
      "cell_type": "code",
      "execution_count": null,
      "metadata": {
        "id": "WDcBBG8dHzpK"
      },
      "outputs": [],
      "source": [
        "'''This Function takes in train and test data\n",
        "and performs One Hot Encodings on Shipping, Item Condition ID\n",
        "by creating Dummay variable Encodings'''\n",
        "\n",
        "def dummy_encoder(train,test):\n",
        "    train_transform = scipy.sparse.csr_matrix(pd.get_dummies(train[[\"item_condition_id\",\n",
        "                                                                         \"shipping\"]], sparse = True).values)\n",
        "    test_transform = scipy.sparse.csr_matrix(pd.get_dummies(test[[\"item_condition_id\",\n",
        "                                                                         \"shipping\"]], sparse = True).values)\n",
        "    return train_transform,test_transform"
      ]
    },
    {
      "cell_type": "code",
      "execution_count": null,
      "metadata": {
        "id": "VBlzV1UEH4Ih"
      },
      "outputs": [],
      "source": [
        "'''This Function takes in train, test data and\n",
        "performs LabelBinarizer encodings on the brand_name column'''\n",
        "\n",
        "def brand_encoder(train,test):\n",
        "    vect = LabelBinarizer(sparse_output=True)\n",
        "    train_transform = vect.fit_transform(train[\"brand_name\"])\n",
        "    test_transform = vect.transform(test[\"brand_name\"])\n",
        "    return train_transform,test_transform"
      ]
    },
    {
      "cell_type": "code",
      "execution_count": null,
      "metadata": {
        "id": "eWAQLSdtH7zz"
      },
      "outputs": [],
      "source": [
        "'''This Function takes in train and test data\n",
        "and performs One Hot Encodings using countvectorizer\n",
        "features on categorical data after using '/' delimiter splitter '''\n",
        "\n",
        "def category_encoder(train,test):\n",
        "    unique_categories = pd.Series(\"/\".join(train[\"category_name\"].unique().astype(\"str\")).split(\"/\")).unique()\n",
        "    count_category = CountVectorizer(vocabulary = unique_categories,lowercase = False,binary = True)\n",
        "    train_transform = count_category.fit_transform(train[\"category_name\"])\n",
        "    test_transform = count_category.transform(test['category_name'])\n",
        "    return train_transform,test_transform"
      ]
    },
    {
      "cell_type": "code",
      "execution_count": null,
      "metadata": {
        "id": "qpowzGfmIpa6"
      },
      "outputs": [],
      "source": [
        "'''\n",
        "This function groups the [category_name,brand_name,shipping] features\n",
        "and generates aggregate 'price' variable statistics like Mean, Median,\n",
        "Std. Deviation, Price Ranges based on 2 std.deviations from mean,\n",
        "coefficient of variance etc. in the Log transformed scale.\n",
        "\n",
        "Outputs are standardized using StandardScaler function\n",
        "'''\n",
        "\n",
        "def generate_cbs_stats(train,test):\n",
        "    df_group = train.groupby('cat_brand_ship',as_index = False).agg({\"shipping\" : len,\n",
        "                                                        \"log_price\" : [np.median, np.mean, np.std,np.min,np.max]})\n",
        "    df_group.columns = ['cat_brand_ship','cbs_count','cbs_log_price_median','cbs_log_price_mean','cbs_log_price_std',\n",
        "                    'cbs_log_price_min','cbs_log_price_max']\n",
        "\n",
        "    df_group['cbs_log_price_std'] = df_group['cbs_log_price_std'].fillna(0)\n",
        "    df_group['cbs_log_price_conf_variance'] = df_group['cbs_log_price_std'] / df_group['cbs_log_price_mean']\n",
        "    df_group['cbs_log_count'] = np.log1p(df_group['cbs_count'])\n",
        "    df_group['cbs_min_expected_log_price'] = (df_group['cbs_log_price_mean'] - (df_group['cbs_log_price_std']*2)).clip(lower=1.0)\n",
        "    df_group['cbs_max_expected_log_price'] = (df_group['cbs_log_price_mean'] + (df_group['cbs_log_price_std']*2))\n",
        "\n",
        "    df_group_stats = test.merge(df_group.reset_index(),\n",
        "                                      how = 'left',\n",
        "                                      on = 'cat_brand_ship')[['cbs_log_price_mean','cbs_min_expected_log_price','cbs_max_expected_log_price']].fillna(0).values\n",
        "\n",
        "    scaler = StandardScaler(copy=True)\n",
        "    cbs_feats_scaled = scaler.fit_transform(df_group_stats)\n",
        "    return cbs_feats_scaled"
      ]
    },
    {
      "cell_type": "code",
      "execution_count": null,
      "metadata": {
        "id": "XVY2mP4PJDbQ"
      },
      "outputs": [],
      "source": [
        "'''\n",
        "This Code performs Categorical Feature to Numeric\n",
        "Encodings based on Ranks by Word Frequency in the Vocabulary,\n",
        "takes train,test as input and returns encoded train,test data\n",
        "and the vocab size as output\n",
        "'''\n",
        "\n",
        "def self_token(column):\n",
        "    unique = list(set(column))\n",
        "    total = list(column)\n",
        "    size = len(unique)\n",
        "    count = []\n",
        "    for category in unique:\n",
        "        count.append([total.count(category),category])\n",
        "    count.sort()\n",
        "    rank = {}\n",
        "    for i in range(1,len(count)+1):\n",
        "        rank.update({count[i-1][1] : i})\n",
        "    return (rank , unique,size)\n",
        "\n",
        "def lstm_category_encoder(train,test):\n",
        "    cat_rank, unique,size = self_token(train)\n",
        "    encoded_train = []\n",
        "    encoded_test = []\n",
        "    for category in train:\n",
        "        encoded_train.append(cat_rank[category])\n",
        "\n",
        "    for category in test:\n",
        "        if category in unique:\n",
        "            encoded_test.append(cat_rank[category])\n",
        "        else:\n",
        "            encoded_test.append(0)\n",
        "    encoded_train = np.asarray(encoded_train)\n",
        "    encoded_test = np.asarray(encoded_test)\n",
        "    return encoded_train,encoded_test,size"
      ]
    },
    {
      "cell_type": "code",
      "execution_count": null,
      "metadata": {
        "id": "76HTcIvoJHC8"
      },
      "outputs": [],
      "source": [
        "'''\n",
        "This Code creates an embedding matrix using Glove 300-D\n",
        "vector representation of words.\n",
        "It Creates an Embedding Matrix of\n",
        "shape (vocab_size,300)\n",
        "'''\n",
        "\n",
        "def generate_embedding_matrix(token):\n",
        "    with open('/content/gdrive/MyDrive/Mercari Price Prediction/3. Modelling/final_processing/glove_vectors.pkl', 'rb') as f:\n",
        "        model = pickle.load(f)  # Load the KeyedVectors model\n",
        "\n",
        "    # Get word vocabulary using model.index_to_key (instead of keys())\n",
        "    glove_words = set(model.index_to_key)\n",
        "\n",
        "    embedding_matrix_text = np.zeros((len(token.word_index) + 1, 300))\n",
        "    for word, i in tqdm_notebook(token.word_index.items()):\n",
        "        if word in glove_words:\n",
        "            embedding_vector = model[word]  # Access vectors using model[word]\n",
        "            embedding_matrix_text[i] = embedding_vector\n",
        "\n",
        "    return embedding_matrix_text"
      ]
    },
    {
      "cell_type": "code",
      "execution_count": null,
      "metadata": {
        "colab": {
          "base_uri": "https://localhost:8080/",
          "height": 163,
          "referenced_widgets": [
            "baf0610383734947b71f6459300b0c17",
            "73ffd0a012a342fb90890397fe58e773",
            "f81473355e3a4117a8daba5a86c398e0",
            "fe3b0ad9450a4b8e9e104e8c1dbb6436",
            "6cba8704e5c8490da92ca699a1860b10",
            "d5f305aa945f46149fea575e4974cd9d",
            "32b36960633f4258a889fca56cfa36ea",
            "21ea4bd257084bef94c470d98e9e8ce1",
            "40cec08a9c8548a780ca15ad104798cb",
            "7643bc93a4a740afa4ee09bb955784fe",
            "5c8f22f1482145fd990617f8ce7e06cc",
            "c1e9fcb51e384ae8a4039f8329b5989c",
            "da0c87d2ccf1454aaaadc33ec5bc16a4",
            "8af544d6bcf04d6fa258eb77fb03349b",
            "ee4b8130d1e5439d9bf1d1961d1f1719",
            "20560de6b46545a7884431d201de13a7",
            "285778e1598d40a898a23bb19e0c2242",
            "203e2b766f3c491dba2191e37f0e3c3c",
            "ee1c1d2163b245488be38fa132d6e459",
            "c3bfee661ab847ceaeee131f334eed2f",
            "34db956727e74e6887eeb41fef60ca83",
            "8411bdbf22874200ab9483d69bcebc8e",
            "cf4d9c748bb74d9b98eac0efe7fd0bcf",
            "99619acd8ed94c028abf8b8b8d12bcd8",
            "698d47b46c724d3aa195dde3557f7d25",
            "5d2cb8d84d8e46609bbac78559530327",
            "cc53a6aced34431fb5afb9de39630031",
            "0b5095a172094b53bb1aa6f63ddbf232",
            "f40121e54d344b699e1a16d29c55e2ef",
            "827d2d1977b04cf385f6d68e86903bf2",
            "b4015ce159b54535ae5c6a7c8e7ec584",
            "ceea5ecbcf4e468f9dac838779bc34bc",
            "9d238cc109e8429985f9215451029d1b",
            "f04c4b53b31444fc86aba442896eee30",
            "c4559ff6870f45d98e03739aafedb605",
            "a3d1d6c3bdf14f7784394f4cc2525d40",
            "c4e0872b86f7420cb1855f6bf208c9ad",
            "8c12b1a555034d6fa58d887ce24e7c84",
            "608446f0ce284dc0a97f71eebff0b148",
            "0ce99baf89254de4bb37e99af40f26db",
            "ff3f5291fc4a4c54a498814fde1beee5",
            "ad32ee4d25ad44c48605a9467cfd6b07",
            "8d1c2a6854e04dda9a6d42d3a2e31be1",
            "f3d0c5be09414a3c9012d295237660d1"
          ]
        },
        "id": "sjHO9wBIJam3",
        "outputId": "e886c60a-ce46-4d16-99f7-fef469049586"
      },
      "outputs": [
        {
          "data": {
            "application/vnd.jupyter.widget-view+json": {
              "model_id": "baf0610383734947b71f6459300b0c17",
              "version_major": 2,
              "version_minor": 0
            },
            "text/plain": [
              "  0%|          | 0/1111901 [00:00<?, ?it/s]"
            ]
          },
          "metadata": {},
          "output_type": "display_data"
        },
        {
          "data": {
            "application/vnd.jupyter.widget-view+json": {
              "model_id": "c1e9fcb51e384ae8a4039f8329b5989c",
              "version_major": 2,
              "version_minor": 0
            },
            "text/plain": [
              "  0%|          | 0/370634 [00:00<?, ?it/s]"
            ]
          },
          "metadata": {},
          "output_type": "display_data"
        },
        {
          "data": {
            "application/vnd.jupyter.widget-view+json": {
              "model_id": "cf4d9c748bb74d9b98eac0efe7fd0bcf",
              "version_major": 2,
              "version_minor": 0
            },
            "text/plain": [
              "  0%|          | 0/1111901 [00:00<?, ?it/s]"
            ]
          },
          "metadata": {},
          "output_type": "display_data"
        },
        {
          "data": {
            "application/vnd.jupyter.widget-view+json": {
              "model_id": "f04c4b53b31444fc86aba442896eee30",
              "version_major": 2,
              "version_minor": 0
            },
            "text/plain": [
              "  0%|          | 0/370634 [00:00<?, ?it/s]"
            ]
          },
          "metadata": {},
          "output_type": "display_data"
        },
        {
          "name": "stdout",
          "output_type": "stream",
          "text": [
            "(1111901, 30661) (370634, 30661) (1111901, 100000) (370634, 100000)\n"
          ]
        }
      ],
      "source": [
        "# Generate Bag of Words Encodings..\n",
        "train_bow_name,test_bow_name,bow_name_feats = text_encoder(text_preprocess(df_train_model['name'].replace([np.nan], '')),\n",
        "                                                       text_preprocess(df_test_model['name'].replace([np.nan], '')),\n",
        "                                                       'BOW',\n",
        "                                                       ((1,3),25,1.0,50000))\n",
        "train_bow_desc,test_bow_desc,bow_desc_feats = text_encoder(text_preprocess(df_train_model['item_description'].replace([np.nan,'No description yet'], '')),\n",
        "                                                       text_preprocess(df_test_model['item_description'].replace([np.nan,'No description yet'], '')),\n",
        "                                                       'BOW',\n",
        "                                                       ((1,3),30,1.0,100000))\n",
        "print(train_bow_name.shape,test_bow_name.shape,train_bow_desc.shape,test_bow_desc.shape)"
      ]
    },
    {
      "cell_type": "code",
      "execution_count": null,
      "metadata": {
        "colab": {
          "base_uri": "https://localhost:8080/",
          "height": 163,
          "referenced_widgets": [
            "8bb1479610164740ac0434c39dd57e0f",
            "db542aa750fc45a3a70ed66fd765705b",
            "b3021c1a7814488781b9752625d99573",
            "568defdbff134a3581b9340a01f8f17b",
            "25e63286e1aa4fd189f36e1bd46c3ecf",
            "1bb4c78d5cf94eef8ac0c71d990a1dbf",
            "fe43c93ef882474da556eca1bde14a05",
            "eaa2489f4dca43a0865011aff392586c",
            "7a6c5567edd14a0a862f2640dc23b197",
            "6761d2fbf7f14853a4a892c717aede06",
            "2de1932f321946c786a67c61d089e690",
            "494c22befe5a4a69b164f506d0f9b959",
            "fc936a072fa146a3a68c7feb21e55024",
            "00d02ecafcac45e19eadfa688756bc0b",
            "15457cdf405546c6810a39d5b9457b94",
            "e8bd563058274e78a7f81730e345c3d8",
            "633fd5a0d22248e5a6f74cdedc181e6d",
            "1d744eee44344f919c21c769b5a1731c",
            "6c7c010d2e534bee8394cfcedc421323",
            "1f08a2fd6abe4829a74da1eb3e27bee5",
            "c3a52a1a05c84c888f8d5ec8f589b1d7",
            "4ac7f1537f8e40cd81ea147ccfe591fb",
            "62e86b715592448bbd4ca1a03720b1b9",
            "d4da34a7a8964662914e768d207878a5",
            "13d2953a40c542e2acc64e7b6112de24",
            "abda7ee9776a440abc8c247fb31b0b8b",
            "6054f5e06a9d41b3bd6788c9313dc9ff",
            "223a8bbefdc94afea3b7448f821cc0bd",
            "cd8f721decc84a999ea0ca799b194806",
            "c5400e3fc1d64a218ab06901ab4a52bb",
            "ee5d31cf12a5447d86a0d1570a65df3a",
            "7ebe281fe3764d06bf75b84b444744de",
            "ab53b6adf9a94112ac8f039e5e49b8ab",
            "0da51c4eade340f793058070178e2f98",
            "05be8d8d59aa4fe481c72ff8ce50cf20",
            "f7558243a9134cbbaeb93af50fd5d26c",
            "9a8dd43d2597478188b866349e42486d",
            "448cfec5c4d64fb4a4d00ebd98b1ca8a",
            "4cca30169bd24e34819ff1273e1b3f47",
            "a662e0ae970746a49e736462c5394399",
            "0c633cd1fe3446afaf6c117c55dc0564",
            "8fc7489a907b4bddafdb17f8abf13d89",
            "1296383782fb4339b5009b0bfa052f5e",
            "b81c86ad82d34da7b4bebe8380da8ff0"
          ]
        },
        "id": "LtfZR3FoV5vK",
        "outputId": "79fddda1-4537-49c9-fda1-54fd69032222"
      },
      "outputs": [
        {
          "data": {
            "application/vnd.jupyter.widget-view+json": {
              "model_id": "8bb1479610164740ac0434c39dd57e0f",
              "version_major": 2,
              "version_minor": 0
            },
            "text/plain": [
              "  0%|          | 0/1111901 [00:00<?, ?it/s]"
            ]
          },
          "metadata": {},
          "output_type": "display_data"
        },
        {
          "data": {
            "application/vnd.jupyter.widget-view+json": {
              "model_id": "494c22befe5a4a69b164f506d0f9b959",
              "version_major": 2,
              "version_minor": 0
            },
            "text/plain": [
              "  0%|          | 0/370634 [00:00<?, ?it/s]"
            ]
          },
          "metadata": {},
          "output_type": "display_data"
        },
        {
          "data": {
            "application/vnd.jupyter.widget-view+json": {
              "model_id": "62e86b715592448bbd4ca1a03720b1b9",
              "version_major": 2,
              "version_minor": 0
            },
            "text/plain": [
              "  0%|          | 0/1111901 [00:00<?, ?it/s]"
            ]
          },
          "metadata": {},
          "output_type": "display_data"
        },
        {
          "data": {
            "application/vnd.jupyter.widget-view+json": {
              "model_id": "0da51c4eade340f793058070178e2f98",
              "version_major": 2,
              "version_minor": 0
            },
            "text/plain": [
              "  0%|          | 0/370634 [00:00<?, ?it/s]"
            ]
          },
          "metadata": {},
          "output_type": "display_data"
        },
        {
          "name": "stdout",
          "output_type": "stream",
          "text": [
            "(1111901, 30661) (370634, 30661) (1111901, 100000) (370634, 100000)\n"
          ]
        }
      ],
      "source": [
        "# Generate TF-IDF Encodings..\n",
        "train_tfidf_name,test_tfidf_name,tfidf_name_feats = text_encoder(text_preprocess(df_train_model['name'].replace([np.nan], '')),\n",
        "                                                       text_preprocess(df_test_model['name'].replace([np.nan], '')),\n",
        "                                                       'TFIDF',\n",
        "                                                       ((1,3),25,1.0,50000))\n",
        "train_tfidf_desc,test_tfidf_desc,tfidf_desc_feats = text_encoder(text_preprocess(df_train_model['item_description'].replace([np.nan,'No description yet'], '')),\n",
        "                                                       text_preprocess(df_test_model['item_description'].replace([np.nan,'No description yet'], '')),\n",
        "                                                       'TFIDF',\n",
        "                                                       ((1,3),30,1.0,100000))\n",
        "print(train_tfidf_name.shape,test_tfidf_name.shape,train_tfidf_desc.shape,test_tfidf_desc.shape)"
      ]
    },
    {
      "cell_type": "code",
      "execution_count": null,
      "metadata": {
        "colab": {
          "base_uri": "https://localhost:8080/"
        },
        "id": "R65r4yf0Mdg9",
        "outputId": "60b47f58-eeba-4418-a2ad-0bcce367a722"
      },
      "outputs": [
        {
          "name": "stdout",
          "output_type": "stream",
          "text": [
            "(1111901, 4463) (370634, 4463)\n"
          ]
        }
      ],
      "source": [
        "# Encode Brand Name\n",
        "train_brand,test_brand = brand_encoder(pd.DataFrame(df_train_model[\"brand_name\"].fillna(\"missing\").astype(\"category\")),\n",
        "                                       pd.DataFrame(df_test_model[\"brand_name\"].fillna(\"missing\").astype(\"category\")))\n",
        "print(train_brand.shape,test_brand.shape)"
      ]
    },
    {
      "cell_type": "code",
      "execution_count": null,
      "metadata": {
        "colab": {
          "base_uri": "https://localhost:8080/"
        },
        "id": "lQLR-uPwNvKd",
        "outputId": "e290fedb-990a-4413-b6e0-9a4cc9560f32"
      },
      "outputs": [
        {
          "name": "stdout",
          "output_type": "stream",
          "text": [
            "(1111901, 940) (370634, 940)\n"
          ]
        }
      ],
      "source": [
        "# Encode Category Name\n",
        "train_category,test_category = category_encoder(pd.DataFrame(df_train_model[\"category_name\"].fillna(\"missing\").astype(\"category\")),\n",
        "                                                pd.DataFrame(df_test_model[\"category_name\"].fillna(\"missing\").astype(\"category\")))\n",
        "print(train_category.shape,test_category.shape)"
      ]
    },
    {
      "cell_type": "code",
      "execution_count": null,
      "metadata": {
        "colab": {
          "base_uri": "https://localhost:8080/"
        },
        "id": "31acXEaxOUuC",
        "outputId": "01d6d548-f066-438a-acb4-d018f0970e39"
      },
      "outputs": [
        {
          "name": "stdout",
          "output_type": "stream",
          "text": [
            "(1111901, 7) (370634, 7)\n"
          ]
        }
      ],
      "source": [
        "# Encode Shipping, Item Condition ID\n",
        "train_dummies,test_dummies = dummy_encoder(pd.DataFrame({\"shipping\" : df_train_model[\"shipping\"].astype(\"category\"),\n",
        "                                                         \"item_condition_id\" : df_train_model[\"item_condition_id\"].astype(\"category\")}),\n",
        "                                           pd.DataFrame({\"shipping\" : df_test_model[\"shipping\"].astype(\"category\"),\n",
        "                                                         \"item_condition_id\" : df_test_model[\"item_condition_id\"].astype(\"category\")}))\n",
        "print(train_dummies.shape,test_dummies.shape)"
      ]
    },
    {
      "cell_type": "markdown",
      "metadata": {
        "id": "Acn4xIsDOZgq"
      },
      "source": [
        "## 13.4 Define Functions for Models"
      ]
    },
    {
      "cell_type": "code",
      "execution_count": null,
      "metadata": {
        "id": "MbV7Ahi6OXHe"
      },
      "outputs": [],
      "source": [
        "'''\n",
        "This code creates the RMSLE scorer function\n",
        "which would be used as Evalation metric for ML models\n",
        "'''\n",
        "\n",
        "def rmsle_score(y, y_pred):\n",
        "    assert len(y) == len(y_pred)\n",
        "    to_sum = [(math.log(y_pred[i] + 1) - math.log(y[i] + 1)) ** 2.0 for i,pred in enumerate(y_pred)]\n",
        "    return (sum(to_sum) * (1.0/len(y))) ** 0.5"
      ]
    },
    {
      "cell_type": "code",
      "execution_count": null,
      "metadata": {
        "id": "VaR15OKTPhJh"
      },
      "outputs": [],
      "source": [
        "'''\n",
        "This Function Creates a Ridge Model\n",
        "'''\n",
        "\n",
        "def ridge_model(X_train,y_train,params):\n",
        "    model = Ridge(solver = \"lsqr\", fit_intercept=False,alpha = params)\n",
        "    model.fit(X_train,y_train)\n",
        "    return model"
      ]
    },
    {
      "cell_type": "code",
      "execution_count": null,
      "metadata": {
        "id": "Ybet9sQqfnq9"
      },
      "outputs": [],
      "source": [
        "'''\n",
        "This Function Creates a LightGBM Model\n",
        "'''\n",
        "def rmsle_lgb(y_true, y_pred):\n",
        "    return 'RMSLE', np.sqrt(np.mean((np.log1p(y_pred) - np.log1p(y_true))**2)), False\n",
        "\n",
        "def lgbm_model(X_train, y_train, X_test, y_test, lgbm_params):\n",
        "  lgbm_model = lgb.LGBMRegressor(**lgbm_params)\n",
        "  lgbm_model.fit(X_train, y_train, eval_set=[(X_test, y_test)], eval_metric=rmsle_lgb)\n",
        "  return lgbm_model\n"
      ]
    },
    {
      "cell_type": "code",
      "execution_count": null,
      "metadata": {
        "id": "bT07F_9WSli-"
      },
      "outputs": [],
      "source": [
        "'''\n",
        "This Function creates an MLP Model\n",
        "'''\n",
        "\n",
        "def build_mlp_model1(train_shape):\n",
        "    model_in = Input(shape=(train_shape,), dtype='float32', sparse=True)\n",
        "    out = Dense(256, activation='relu')(model_in)\n",
        "    out = Dense(64, activation='relu')(out)\n",
        "    out = Dense(64, activation='relu')(out)\n",
        "    out = Dense(32, activation='relu')(out)\n",
        "    out = Dense(1)(out)\n",
        "    model = Model(model_in, out)\n",
        "    return model"
      ]
    },
    {
      "cell_type": "code",
      "execution_count": null,
      "metadata": {
        "id": "kaeQwIRsSoji"
      },
      "outputs": [],
      "source": [
        "'''\n",
        "This Function creates an MLP Model by adding more dense layers in the network\n",
        "'''\n",
        "\n",
        "def build_mlp_model2(train_shape):\n",
        "    model_in = Input(shape=(train_shape,), dtype='float32', sparse=True)\n",
        "    out = Dense(1024, activation='relu')(model_in)\n",
        "    out = Dense(512, activation='relu')(out)\n",
        "    out = Dense(256, activation='relu')(out)\n",
        "    out = Dense(128, activation='relu')(out)\n",
        "    out = Dense(64, activation='relu')(out)\n",
        "    out = Dense(32, activation='relu')(out)\n",
        "    out = Dense(1)(out)\n",
        "    model = Model(model_in, out)\n",
        "    return model"
      ]
    },
    {
      "cell_type": "code",
      "execution_count": null,
      "metadata": {
        "id": "EZ0WTjRrSsEY"
      },
      "outputs": [],
      "source": [
        "'''\n",
        "This Function creates an MLP Model by adding dropout and batch normalization layers\n",
        "'''\n",
        "\n",
        "def build_mlp_model3(train_shape):\n",
        "    model_in = Input(shape=(train_shape,), dtype='float32', sparse=True)\n",
        "    out = Dense(1024, activation='relu')(model_in)\n",
        "    out = Dense(512, activation='relu')(out)\n",
        "    out = Dropout(0.2)(out)\n",
        "    out = Dense(256, activation='relu')(out)\n",
        "    out = Dropout(0.25)(out)\n",
        "    out = Dense(128, activation='relu')(out)\n",
        "    out = BatchNormalization()(out)\n",
        "    out = Dense(64, activation='relu')(out)\n",
        "    out = Dense(32, activation='relu')(out)\n",
        "    out = Dense(1)(out)\n",
        "    model = Model(model_in, out)\n",
        "    return model"
      ]
    },
    {
      "cell_type": "code",
      "execution_count": null,
      "metadata": {
        "id": "mX-eZq57SuzU"
      },
      "outputs": [],
      "source": [
        "'''\n",
        "This Function Trains a Neural Netowrk and returns model output & history\n",
        "'''\n",
        "\n",
        "def train_nn(X_train,y_train,X_test,y_test,model,filepath,bsize,tb_logdir,ep):\n",
        "    model.compile(optimizer='adam', loss='mean_squared_error')\n",
        "    history = model.fit(X_train,y_train, batch_size=bsize, epochs=ep,\n",
        "                                    verbose=1, validation_data=(X_test, y_test),\n",
        "                                    callbacks = [ModelCheckpoint(filepath,monitor=\"val_loss\",mode=\"min\",save_best_only = True,verbose = 1),\n",
        "                                                 TensorBoard(log_dir=tb_logdir)])\n",
        "    return history,model"
      ]
    },
    {
      "cell_type": "code",
      "execution_count": null,
      "metadata": {
        "id": "RBaxsgy7SzZz"
      },
      "outputs": [],
      "source": [
        "'''This function builds a timer which prints time elapsed for a code section to execute'''\n",
        "\n",
        "@contextmanager\n",
        "def timer(name):\n",
        "    t0 = time.time()\n",
        "    yield\n",
        "    print(f'[{name}] done in {time.time() - t0:.0f} s')"
      ]
    },
    {
      "cell_type": "markdown",
      "metadata": {
        "id": "TxZbKHZ7S40S"
      },
      "source": [
        "## 13.5 RIDGE Model with Bag of Word Encodings"
      ]
    },
    {
      "cell_type": "code",
      "execution_count": null,
      "metadata": {
        "colab": {
          "base_uri": "https://localhost:8080/"
        },
        "id": "5arRuSFJS3XE",
        "outputId": "40467c9c-7080-4f0f-ade4-f2c158b37940"
      },
      "outputs": [
        {
          "name": "stdout",
          "output_type": "stream",
          "text": [
            "(1111901, 136071) (370634, 136071) (1111901,) (370634,)\n",
            "Test RMSLE =  0.4714885600356501 \n",
            "\n"
          ]
        }
      ],
      "source": [
        "X_train = scipy.sparse.hstack((train_brand,train_category,train_dummies,train_bow_name,train_bow_desc)).tocsr().astype('float32')\n",
        "X_test = scipy.sparse.hstack((test_brand,test_category,test_dummies,test_bow_name,test_bow_desc)).tocsr().astype('float32')\n",
        "\n",
        "y_train = np.log1p(df_train_model['price'])\n",
        "y_test = np.log1p(df_test_model['price'])\n",
        "print(X_train.shape,X_test.shape,y_train.shape,y_test.shape)\n",
        "\n",
        "ridge1 = ridge_model(X_train,y_train,10)\n",
        "preds_ridge1 = np.expm1(ridge1.predict(X_test))\n",
        "print('Test RMSLE = ',rmsle_score(np.expm1(y_test).values , preds_ridge1),'\\n')\n",
        "\n",
        "# file = open('/content/gdrive/MyDrive/Mercari Price Prediction/3. Modelling/model_predictions/preds_ridge1', 'wb')\n",
        "# pickle.dump(preds_ridge1, file)\n",
        "# file.close()"
      ]
    },
    {
      "cell_type": "markdown",
      "metadata": {
        "id": "rMLlwl8rUjmO"
      },
      "source": [
        "## 13.6 RIDGE Model with TF-IDF Encodings"
      ]
    },
    {
      "cell_type": "code",
      "execution_count": null,
      "metadata": {
        "colab": {
          "base_uri": "https://localhost:8080/"
        },
        "id": "LfQJa3N4TJaF",
        "outputId": "675b97cf-0b58-4aa8-d39b-c2dc157f7866"
      },
      "outputs": [
        {
          "name": "stdout",
          "output_type": "stream",
          "text": [
            "(1111901, 136071) (370634, 136071) (1111901,) (370634,)\n",
            "Test RMSLE =  0.46712800924150055 \n",
            "\n"
          ]
        }
      ],
      "source": [
        "X_train = scipy.sparse.hstack((train_brand,train_category,train_dummies,train_tfidf_name,train_tfidf_desc)).tocsr().astype('float32')\n",
        "X_test = scipy.sparse.hstack((test_brand,test_category,test_dummies,test_tfidf_name,test_tfidf_desc)).tocsr().astype('float32')\n",
        "\n",
        "y_train = np.log1p(df_train_model['price'])\n",
        "y_test = np.log1p(df_test_model['price'])\n",
        "print(X_train.shape,X_test.shape,y_train.shape,y_test.shape)\n",
        "\n",
        "ridge2 = ridge_model(X_train,y_train,10)\n",
        "preds_ridge2 = np.expm1(ridge2.predict(X_test))\n",
        "print('Test RMSLE = ',rmsle_score(np.expm1(y_test).values , preds_ridge2),'\\n')\n",
        "\n",
        "# file = open('/content/gdrive/MyDrive/Mercari Price Prediction/3. Modelling/model_predictions/preds_ridge2', 'wb')\n",
        "# pickle.dump(preds_ridge2, file)\n",
        "# file.close()"
      ]
    },
    {
      "cell_type": "markdown",
      "metadata": {
        "id": "zQGdk_yzc616"
      },
      "source": [
        "## 13.7 LightGBM Regression Model with BOW Encodings"
      ]
    },
    {
      "cell_type": "code",
      "execution_count": null,
      "metadata": {
        "colab": {
          "base_uri": "https://localhost:8080/"
        },
        "id": "BprnUWgXdcbs",
        "outputId": "e570b95d-b662-429f-ab48-27aebbc40f08"
      },
      "outputs": [
        {
          "name": "stdout",
          "output_type": "stream",
          "text": [
            "(1111901, 136071) (370634, 136071) (1111901,) (370634,)\n",
            "[LightGBM] [Info] Auto-choosing row-wise multi-threading, the overhead of testing was 908.360231 seconds.\n",
            "You can set `force_row_wise=true` to remove the overhead.\n",
            "And if memory is not enough, you can set `force_col_wise=true`.\n",
            "[LightGBM] [Info] Total Bins 245256\n",
            "[LightGBM] [Info] Number of data points in the train set: 1111901, number of used features: 107521\n",
            "[LightGBM] [Info] Start training from score 2.979362\n",
            "Test RMSLE =  0.47118677718616214 \n",
            "\n"
          ]
        }
      ],
      "source": [
        "# Generating Data Encodings and Training Model\n",
        "\n",
        "X_train = scipy.sparse.hstack((train_brand,train_category,train_dummies,train_bow_name,train_bow_desc)).tocsr().astype('float32')\n",
        "X_test = scipy.sparse.hstack((test_brand,test_category,test_dummies,test_bow_name,test_bow_desc)).tocsr().astype('float32')\n",
        "\n",
        "y_train = np.log1p(df_train_model['price'])\n",
        "y_test = np.log1p(df_test_model['price'])\n",
        "print(X_train.shape,X_test.shape,y_train.shape,y_test.shape)\n",
        "\n",
        "lgbm1 = lgbm_model(X_train,y_train,X_test,y_test,{'n_estimators': 1500, 'learning_rate': 0.05, 'max_depth': -1,\n",
        "               'num_leaves': 50, 'subsample': 0.8, 'colsample_bytree': 0.8,\n",
        "               'min_child_samples': 50, 'n_jobs': -1})\n",
        "preds_lgbm1 = np.expm1(lgbm1.predict(X_test))\n",
        "print('Test RMSLE = ',rmsle_score(np.expm1(y_test).values , preds_lgbm1),'\\n')\n",
        "\n",
        "file = open('/content/gdrive/MyDrive/Mercari Price Prediction/3. Modelling/model_predictions/preds_lgbm1', 'wb')\n",
        "pickle.dump(preds_lgbm1, file)\n",
        "file.close()"
      ]
    },
    {
      "cell_type": "markdown",
      "metadata": {
        "id": "fwHtPYJrdCEd"
      },
      "source": [
        "## 13.8 LightGBM Regression Model with TF-IDF Encodings"
      ]
    },
    {
      "cell_type": "code",
      "execution_count": null,
      "metadata": {
        "colab": {
          "base_uri": "https://localhost:8080/"
        },
        "id": "9rgp7XmLw_0t",
        "outputId": "7463b3eb-b585-4c3b-94ff-a8ba09bbfb29"
      },
      "outputs": [
        {
          "name": "stdout",
          "output_type": "stream",
          "text": [
            "(1111901, 136071) (370634, 136071) (1111901,) (370634,)\n",
            "[LightGBM] [Info] Auto-choosing row-wise multi-threading, the overhead of testing was 852.494815 seconds.\n",
            "You can set `force_row_wise=true` to remove the overhead.\n",
            "And if memory is not enough, you can set `force_col_wise=true`.\n",
            "[LightGBM] [Info] Total Bins 1638319\n",
            "[LightGBM] [Info] Number of data points in the train set: 1111901, number of used features: 107521\n",
            "[LightGBM] [Info] Start training from score 2.979362\n",
            "Test RMSLE =  0.470609091804317 \n",
            "\n"
          ]
        }
      ],
      "source": [
        "# Generating Data Encodings and Training Model\n",
        "\n",
        "X_train = scipy.sparse.hstack((train_brand,train_category,train_dummies,train_tfidf_name,train_tfidf_desc)).tocsr().astype('float32')\n",
        "X_test = scipy.sparse.hstack((test_brand,test_category,test_dummies,test_tfidf_name,test_tfidf_desc)).tocsr().astype('float32')\n",
        "\n",
        "y_train = np.log1p(df_train_model['price'])\n",
        "y_test = np.log1p(df_test_model['price'])\n",
        "print(X_train.shape,X_test.shape,y_train.shape,y_test.shape)\n",
        "\n",
        "lgbm2 = lgbm_model(X_train,y_train,X_test,y_test,{'n_estimators': 1500, 'learning_rate': 0.05, 'max_depth': -1,\n",
        "               'num_leaves': 50, 'subsample': 0.8, 'colsample_bytree': 0.8,\n",
        "               'min_child_samples': 50, 'n_jobs': -1})\n",
        "preds_lgbm2 = np.expm1(lgbm2.predict(X_test))\n",
        "print('Test RMSLE = ',rmsle_score(np.expm1(y_test).values , preds_lgbm2),'\\n')\n",
        "\n",
        "file = open('/content/gdrive/MyDrive/Mercari Price Prediction/3. Modelling/model_predictions/preds_lgbm2', 'wb')\n",
        "pickle.dump(preds_lgbm2, file)\n",
        "file.close()"
      ]
    },
    {
      "cell_type": "markdown",
      "metadata": {
        "id": "cP3hd_EC4psn"
      },
      "source": [
        "## 13.9 MLP Model 1"
      ]
    },
    {
      "cell_type": "code",
      "execution_count": null,
      "metadata": {
        "colab": {
          "base_uri": "https://localhost:8080/"
        },
        "id": "CTyL3v634yT3",
        "outputId": "5fee2f6d-4e13-4465-b5f5-ec93a64e399b"
      },
      "outputs": [
        {
          "name": "stdout",
          "output_type": "stream",
          "text": [
            "(1111901, 190491) (370634, 190491) (1111901, 1) (370634, 1)\n"
          ]
        }
      ],
      "source": [
        "# Generating Data Encodings for MLP\n",
        "X_train,X_test,y_train,y_test = data_encoder(data_preprocess(df_train_model),data_preprocess(df_test_model))\n",
        "print(X_train.shape,X_test.shape,y_train.shape,y_test.shape)"
      ]
    },
    {
      "cell_type": "code",
      "execution_count": null,
      "metadata": {
        "colab": {
          "base_uri": "https://localhost:8080/",
          "height": 644
        },
        "id": "B3KCx23B42vu",
        "outputId": "03161fa2-2329-42da-c9f9-648809445849"
      },
      "outputs": [
        {
          "data": {
            "image/png": "[encoded data removed]",
            "text/plain": [
              "<IPython.core.display.Image object>"
            ]
          },
          "execution_count": 52,
          "metadata": {},
          "output_type": "execute_result"
        }
      ],
      "source": [
        "mlp1 = build_mlp_model1(X_train.shape[1])\n",
        "plot_model(mlp1, to_file= 'mlp1.png', show_shapes=True, show_layer_names=True)\n",
        "Image(filename='mlp1.png')"
      ]
    },
    {
      "cell_type": "code",
      "execution_count": null,
      "metadata": {
        "colab": {
          "background_save": true,
          "base_uri": "https://localhost:8080/"
        },
        "id": "Fb59nmMl-2Qq",
        "outputId": "15a9ae1b-3db4-4ac1-fa71-78c71721ee0d"
      },
      "outputs": [
        {
          "name": "stdout",
          "output_type": "stream",
          "text": [
            "4344/4344 [==============================] - ETA: 0s - loss: 0.3590\n",
            "Epoch 1: val_loss improved from inf to 0.31900, saving model to mlp1_epochs:001-val_loss:0.319.hdf5\n",
            "4344/4344 [==============================] - 3020s 694ms/step - loss: 0.3590 - val_loss: 0.3190\n",
            "11583/11583 [==============================] - 49s 4ms/step\n",
            "Test RMSLE for batch size =  256  is  0.42301265310064057\n",
            "Saving preds_mlp1 for test RMSLE =  0.42301265310064057 for batch size =  256 \n",
            "\n",
            "[epoch 1] done in 3115 s\n",
            "2172/2172 [==============================] - ETA: 0s - loss: 0.2197\n",
            "Epoch 1: val_loss improved from inf to 0.31146, saving model to mlp1_epochs:001-val_loss:0.311.hdf5\n",
            "2172/2172 [==============================] - 1380s 634ms/step - loss: 0.2197 - val_loss: 0.3115\n",
            "11583/11583 [==============================] - 34s 3ms/step\n",
            "Test RMSLE for batch size =  512  is  0.4179848285799123\n",
            "Saving preds_mlp1 for test RMSLE =  0.4179848285799123 for batch size =  512 \n",
            "\n",
            "[epoch 2] done in 1433 s\n",
            "1086/1086 [==============================] - ETA: 0s - loss: 0.1289\n",
            "Epoch 1: val_loss improved from inf to 0.31445, saving model to mlp1_epochs:001-val_loss:0.314.hdf5\n",
            "1086/1086 [==============================] - 754s 692ms/step - loss: 0.1289 - val_loss: 0.3145\n",
            "11583/11583 [==============================] - 33s 3ms/step\n",
            "Test RMSLE for batch size =  1024  is  0.41998493179167173\n",
            "[epoch 3] done in 802 s\n",
            "543/543 [==============================] - ETA: 0s - loss: 0.0752\n",
            "Epoch 1: val_loss improved from inf to 0.32072, saving model to mlp1_epochs:001-val_loss:0.321.hdf5\n",
            "543/543 [==============================] - 372s 679ms/step - loss: 0.0752 - val_loss: 0.3207\n",
            "11583/11583 [==============================] - 33s 3ms/step\n",
            "Test RMSLE for batch size =  2048  is  0.4241485644565154\n",
            "[epoch 4] done in 421 s\n"
          ]
        }
      ],
      "source": [
        "'''\n",
        "Train MLP models with incremental Batch Sizes for 4 different batch sizes and\n",
        "save models only if scores are better than the previous batch size score\n",
        "'''\n",
        "\n",
        "score = 1\n",
        "for i in range(4):\n",
        "    with timer(f'epoch {i + 1}'):\n",
        "        his,mod = train_nn(X_train,y_train,X_test,y_test,mlp1,\n",
        "             \"mlp1_epochs:{epoch:03d}-val_loss:{val_loss:.3f}.hdf5\",\n",
        "             2**(8 + i),\n",
        "             '/content/gdrive/My Drive/Mercari2/log_mlp1',1)\n",
        "        preds = mod.predict(X_test)[:, 0]\n",
        "        preds_mlp1 = np.expm1(y_scaler.inverse_transform(preds.reshape(-1, 1))[:, 0])\n",
        "        print('Test RMSLE for batch size = ',2**(8 + i),' is ',rmsle_score(df_test_model.price.values , preds_mlp1))\n",
        "\n",
        "        if(score > rmsle_score(df_test_model.price.values , preds_mlp1)):\n",
        "            score = rmsle_score(df_test_model.price.values , preds_mlp1)\n",
        "            print('Saving preds_mlp1 for test RMSLE = ',score,'for batch size = ',2**(8+i),'\\n')\n",
        "            file = open('/content/gdrive/MyDrive/Mercari Price Prediction/3. Modelling/model_predictions/preds_mlp1', 'wb')\n",
        "            pickle.dump(preds_mlp1, file)\n",
        "            file.close()"
      ]
    },
    {
      "cell_type": "markdown",
      "metadata": {
        "id": "2oMyyxMi_J7Q"
      },
      "source": [
        "## 13.10 MLP Model 2"
      ]
    },
    {
      "cell_type": "code",
      "execution_count": null,
      "metadata": {
        "colab": {
          "base_uri": "https://localhost:8080/"
        },
        "id": "bBMORxgx_JOE",
        "outputId": "95ffe026-84f7-42e2-8919-cab850d0aa84"
      },
      "outputs": [
        {
          "name": "stdout",
          "output_type": "stream",
          "text": [
            "(1111901, 190491) (370634, 190491) (1111901, 1) (370634, 1)\n"
          ]
        }
      ],
      "source": [
        "# Generating Data Encodings for MLP\n",
        "X_train,X_test,y_train,y_test = data_encoder(data_preprocess(df_train_model),data_preprocess(df_test_model))\n",
        "print(X_train.shape,X_test.shape,y_train.shape,y_test.shape)"
      ]
    },
    {
      "cell_type": "code",
      "execution_count": null,
      "metadata": {
        "colab": {
          "base_uri": "https://localhost:8080/",
          "height": 865
        },
        "id": "m4VLilg5_Sc3",
        "outputId": "8440a524-0e9b-4ae8-ab2e-bc5d7c8ddefd"
      },
      "outputs": [
        {
          "data": {
            "image/png": "[encoded data removed]",
            "text/plain": [
              "<IPython.core.display.Image object>"
            ]
          },
          "execution_count": 38,
          "metadata": {},
          "output_type": "execute_result"
        }
      ],
      "source": [
        "mlp2 = build_mlp_model2(X_train.shape[1])\n",
        "plot_model(mlp2, to_file= 'mlp2.png', show_shapes=True, show_layer_names=True)\n",
        "Image(filename='mlp2.png')"
      ]
    },
    {
      "cell_type": "code",
      "execution_count": null,
      "metadata": {
        "colab": {
          "background_save": true,
          "base_uri": "https://localhost:8080/"
        },
        "id": "MkvXBfjm_U8P",
        "outputId": "fdacd3c9-02eb-40ad-82d1-fec65a706cc9"
      },
      "outputs": [
        {
          "name": "stdout",
          "output_type": "stream",
          "text": [
            "4344/4344 [==============================] - ETA: 0s - loss: 0.3609\n",
            "Epoch 1: val_loss improved from inf to 0.31935, saving model to mlp2_epochs:001-val_loss:0.319.hdf5\n",
            "4344/4344 [==============================] - 10584s 2s/step - loss: 0.3609 - val_loss: 0.3194\n",
            "11583/11583 [==============================] - 90s 8ms/step\n",
            "Test RMSLE for batch size =  256  is  0.42324626588022135\n",
            "Saving preds_mlp2 for test RMSLE =  0.42324626588022135 for batch size =  256 \n",
            "\n",
            "[epoch 1] done in 10695 s\n",
            "2172/2172 [==============================] - ETA: 0s - loss: 0.2060\n",
            "Epoch 1: val_loss improved from inf to 0.30505, saving model to mlp2_epochs:001-val_loss:0.305.hdf5\n",
            "2172/2172 [==============================] - 5906s 3s/step - loss: 0.2060 - val_loss: 0.3051\n",
            "11583/11583 [==============================] - 100s 9ms/step\n",
            "Test RMSLE for batch size =  512  is  0.4136630512172524\n",
            "Saving preds_mlp2 for test RMSLE =  0.4136630512172524 for batch size =  512 \n",
            "\n",
            "[epoch 2] done in 6022 s\n"
          ]
        }
      ],
      "source": [
        "'''\n",
        "Train MLP models with incremental Batch Sizes for 4 different batch sizes and\n",
        "save models only if scores are better than the previous batch size score\n",
        "'''\n",
        "\n",
        "score = 1\n",
        "for i in range(2):\n",
        "    with timer(f'epoch {i + 1}'):\n",
        "        his,mod = train_nn(X_train,y_train,X_test,y_test,mlp2,\n",
        "             \"mlp2_epochs:{epoch:03d}-val_loss:{val_loss:.3f}.hdf5\",\n",
        "             2**(8 + i),\n",
        "             '/content/gdrive/My Drive/Mercari2/log_mlp2',1)\n",
        "        preds = mod.predict(X_test)[:, 0]\n",
        "        preds_mlp2 = np.expm1(y_scaler.inverse_transform(preds.reshape(-1, 1))[:, 0])\n",
        "        print('Test RMSLE for batch size = ',2**(8 + i),' is ',rmsle_score(df_test_model.price.values , preds_mlp2))\n",
        "\n",
        "        if(score > rmsle_score(df_test_model.price.values , preds_mlp2)):\n",
        "            score = rmsle_score(df_test_model.price.values , preds_mlp2)\n",
        "            print('Saving preds_mlp2 for test RMSLE = ',score,'for batch size = ',2**(8+i),'\\n')\n",
        "            file = open('/content/gdrive/MyDrive/Mercari Price Prediction/3. Modelling/model_predictions/preds_mlp2', 'wb')\n",
        "            pickle.dump(preds_mlp2, file)\n",
        "            file.close()"
      ]
    },
    {
      "cell_type": "markdown",
      "metadata": {
        "id": "UUc6VLlI_hSA"
      },
      "source": [
        "## 13.11 MLP Model 3"
      ]
    },
    {
      "cell_type": "code",
      "execution_count": null,
      "metadata": {
        "colab": {
          "background_save": true
        },
        "id": "HrtaHFpd_gBG",
        "outputId": "3efd0f9f-e398-4adf-b5e1-e05a25d24224"
      },
      "outputs": [
        {
          "name": "stdout",
          "output_type": "stream",
          "text": [
            "(1111901, 190491) (370634, 190491) (1111901, 1) (370634, 1)\n"
          ]
        }
      ],
      "source": [
        "# Generating Data Encodings for MLP\n",
        "X_train,X_test,y_train,y_test = data_encoder(data_preprocess(df_train_model),data_preprocess(df_test_model))\n",
        "print(X_train.shape,X_test.shape,y_train.shape,y_test.shape)"
      ]
    },
    {
      "cell_type": "code",
      "execution_count": null,
      "metadata": {
        "colab": {
          "background_save": true
        },
        "id": "Gy-tiY5c_dCI",
        "outputId": "d1afcf63-d52c-4781-b7ee-c0a43a9604b8"
      },
      "outputs": [
        {
          "data": {
            "image/png": "[encoded data removed]",
            "text/plain": [
              "<IPython.core.display.Image object>"
            ]
          },
          "execution_count": 41,
          "metadata": {},
          "output_type": "execute_result"
        }
      ],
      "source": [
        "mlp3 = build_mlp_model3(X_train.shape[1])\n",
        "plot_model(mlp3, to_file= 'mlp3.png', show_shapes=True, show_layer_names=True)\n",
        "Image(filename='mlp3.png')"
      ]
    },
    {
      "cell_type": "code",
      "execution_count": null,
      "metadata": {
        "id": "izxnXEAT_os8",
        "colab": {
          "base_uri": "https://localhost:8080/"
        },
        "outputId": "c45a7355-a669-407d-8e57-0fda6927d2af"
      },
      "outputs": [
        {
          "output_type": "stream",
          "name": "stdout",
          "text": [
            "3066/4344 [====================>.........] - ETA: 1:03:42 - loss: 0.3926"
          ]
        }
      ],
      "source": [
        "'''\n",
        "Train MLP models with incremental Batch Sizes for 4 different batch sizes and\n",
        "save models only if scores are better than the previous batch size score\n",
        "'''\n",
        "\n",
        "score = 1\n",
        "for i in range(2):\n",
        "    with timer(f'epoch {i + 1}'):\n",
        "        his,mod = train_nn(X_train,y_train,X_test,y_test,mlp3,\n",
        "             \"mlp3_epochs:{epoch:03d}-val_loss:{val_loss:.3f}.hdf5\",\n",
        "             2**(8 + i),\n",
        "             '/content/gdrive/My Drive/Mercari2/log_mlp3',1)\n",
        "        preds = mod.predict(X_test)[:, 0]\n",
        "        preds_mlp3 = np.expm1(y_scaler.inverse_transform(preds.reshape(-1, 1))[:, 0])\n",
        "        print('Test RMSLE for batch size = ',2**(8 + i),' is ',rmsle_score(df_test_model.price.values , preds_mlp3))\n",
        "\n",
        "        if(score > rmsle_score(df_test_model.price.values , preds_mlp3)):\n",
        "            score = rmsle_score(df_test_model.price.values , preds_mlp3)\n",
        "            print('Saving preds_mlp3 for test RMSLE = ',score,'for batch size = ',2**(8+i),'\\n')\n",
        "            file = open('/content/gdrive/MyDrive/Mercari Price Prediction/3. Modelling/model_predictions/preds_mlp3', 'wb')\n",
        "            pickle.dump(preds_mlp3, file)\n",
        "            file.close()"
      ]
    },
    {
      "cell_type": "markdown",
      "metadata": {
        "id": "uZRoynTmc2rp"
      },
      "source": [
        "## 13.12 Weighted Ensemble Regressor"
      ]
    },
    {
      "cell_type": "code",
      "execution_count": null,
      "metadata": {
        "id": "UEb3s1ny_7cZ"
      },
      "outputs": [],
      "source": [
        "'''\n",
        "This code takes the blending predictions formular we use from LGBM and Ridge file\n",
        "and generates a weighted Prediction : (preds = w1*preds_ridge + w2*preds_lgbm),\n",
        "weights - w1 and w2 where w2 = (1- w1) are found out using cross validation\n",
        "that gives lowest RMSLE score\n",
        "'''\n",
        "\n",
        "def plot_weight_score(w,s):\n",
        "    plt.plot(w, s)\n",
        "    plt.scatter(w, s)\n",
        "    plt.xlabel(\"Weights Ratio\")\n",
        "    plt.ylabel(\"RMSLE\")\n",
        "    plt.title(\"Weight Selection for Ensemble\")\n",
        "    plt.grid()\n",
        "    plt.show()\n",
        "\n",
        "def ensemble_generator(preds1,preds2):\n",
        "    weights = list(np.linspace(0,1,50))\n",
        "    scores = []\n",
        "\n",
        "    for w in tqdm_notebook(weights):\n",
        "        preds = (w*preds1) + (1-w)*(preds2)\n",
        "        scores.append(rmsle_score(df_test_model.price.values,preds))\n",
        "\n",
        "    plot_weight_score(weights,scores)\n",
        "    df_ens = pd.DataFrame({'weights' : weights,'scores':scores})\n",
        "    w = df_ens.weights[df_ens.scores == min(df_ens.scores)].values[0]\n",
        "\n",
        "    preds_final = (w*preds1) + (1-w)*(preds2)\n",
        "    return preds_final"
      ]
    },
    {
      "cell_type": "markdown",
      "metadata": {
        "id": "vyVmVLTwAUQ9"
      },
      "source": [
        "**Ensembling (MLP 1 + MLP 2)**"
      ]
    },
    {
      "cell_type": "code",
      "execution_count": null,
      "metadata": {
        "id": "ct4onbTHKWGb"
      },
      "outputs": [],
      "source": [
        "import pickle\n",
        "file = open('/content/gdrive/MyDrive/Mercari Price Prediction/3. Modelling/model_predictions/preds_ridge1', 'rb')\n",
        "preds_ridge1 = pickle.load(file)\n",
        "file.close()\n",
        "\n",
        "file = open('/content/gdrive/MyDrive/Mercari Price Prediction/3. Modelling/model_predictions/preds_ridge2', 'rb')\n",
        "preds_ridge2 = pickle.load(file)\n",
        "file.close()\n",
        "\n",
        "file = open('/content/gdrive/MyDrive/Mercari Price Prediction/3. Modelling/model_predictions/preds_mlp1', 'rb')\n",
        "preds_mlp1 = pickle.load(file)\n",
        "file.close()\n",
        "\n",
        "file = open('/content/gdrive/MyDrive/Mercari Price Prediction/3. Modelling/model_predictions/preds_mlp2', 'rb')\n",
        "preds_mlp2 = pickle.load(file)\n",
        "file.close()\n",
        "\n",
        "file = open('/content/gdrive/MyDrive/Mercari Price Prediction/3. Modelling/model_predictions/preds_lgbm2','rb')\n",
        "preds_lgbm2 = pickle.load(file)\n",
        "file.close()\n",
        "\n",
        "file = open('/content/gdrive/MyDrive/Mercari Price Prediction/3. Modelling/model_predictions/preds_lgbm1','rb')\n",
        "preds_lgbm1 = pickle.load(file)\n",
        "file.close()\n",
        "\n",
        "# file = open('/content/gdrive/MyDrive/Mercari Price Prediction/3. Modelling/model_predictions/preds_mlp3', 'rb')\n",
        "# preds_mlp3 = pickle.load(file)\n",
        "# file.close()"
      ]
    },
    {
      "cell_type": "code",
      "execution_count": null,
      "metadata": {
        "id": "OSo8cW1gATdW",
        "colab": {
          "base_uri": "https://localhost:8080/",
          "height": 521,
          "referenced_widgets": [
            "d8a0eb831efd4b8db362855097ce4e01",
            "cb617949a8984f0283302f76b71563d5",
            "2c3113f6f26c4197bada210862228dda",
            "6bb69ec8a7ee4c71828d8d731fe7e9e3",
            "63ab020d77e941cda28ea83bc8122472",
            "024971523110466c998be96b4ea706c1",
            "eee6e840fff440e9a353a491e54e27e1",
            "fd93a8a3d2d949d99f9b4ec695679310",
            "cfd4f394b27f4c699c26dc214c29dd12",
            "9cf7f23c013b4831a5d74fa39e94fcad",
            "7aabd7c8864a469ea6ebf1001aa14d1a"
          ]
        },
        "outputId": "29ac6f88-1bde-4865-8f51-c7b01d28680f"
      },
      "outputs": [
        {
          "output_type": "display_data",
          "data": {
            "text/plain": [
              "  0%|          | 0/50 [00:00<?, ?it/s]"
            ],
            "application/vnd.jupyter.widget-view+json": {
              "version_major": 2,
              "version_minor": 0,
              "model_id": "d8a0eb831efd4b8db362855097ce4e01"
            }
          },
          "metadata": {}
        },
        {
          "output_type": "display_data",
          "data": {
            "text/plain": [
              "<Figure size 640x480 with 1 Axes>"
            ],
            "image/png": "[encoded data removed]"
          },
          "metadata": {}
        },
        {
          "output_type": "stream",
          "name": "stdout",
          "text": [
            "Test RMSLE of Ensemble =  0.4063839300464969\n"
          ]
        }
      ],
      "source": [
        "# Creating Ensemble of (MLP 1 + MLP 2)\n",
        "preds_final_mlps = ensemble_generator(preds_mlp1,preds_mlp2)\n",
        "print('Test RMSLE of Ensemble = ',rmsle_score(df_test_model.price.values , preds_final_mlps))"
      ]
    },
    {
      "cell_type": "code",
      "execution_count": null,
      "metadata": {
        "id": "VLcEDoNTCHYy",
        "colab": {
          "base_uri": "https://localhost:8080/",
          "height": 521,
          "referenced_widgets": [
            "15b390ba59b2416fae47f4d0865fdc66",
            "c475b2925ce446d29423505de61eca80",
            "47eff33aae0443bc9c23f19503765771",
            "a21e252d11174d74845c074791dc201d",
            "26d69ed3243d4f328930d355ea3aacc9",
            "5bb83ef98d9f414f9d1d1180645cfdfd",
            "09fb57c6567d42fa8a677a73196f3c30",
            "42cb239d21144a909f58aff307bb1cb9",
            "d3f14d134c734b4aab4693a44f836fe9",
            "03a6416e6b2d4e798d4fbeac184173be",
            "2f3bb172087f4d84a02ef0d87f7cdcbe"
          ]
        },
        "outputId": "9620c1f2-508d-4b5c-b206-deb9bcdfd4bf"
      },
      "outputs": [
        {
          "output_type": "display_data",
          "data": {
            "text/plain": [
              "  0%|          | 0/50 [00:00<?, ?it/s]"
            ],
            "application/vnd.jupyter.widget-view+json": {
              "version_major": 2,
              "version_minor": 0,
              "model_id": "15b390ba59b2416fae47f4d0865fdc66"
            }
          },
          "metadata": {}
        },
        {
          "output_type": "display_data",
          "data": {
            "text/plain": [
              "<Figure size 640x480 with 1 Axes>"
            ],
            "image/png": "[encoded data removed]"
          },
          "metadata": {}
        },
        {
          "output_type": "stream",
          "name": "stdout",
          "text": [
            "Test RMSLE of Ensemble =  0.46234212037009625\n"
          ]
        }
      ],
      "source": [
        "# Creating Ensemble of (Ridge BOW = Ridge TF-IDF)\n",
        "preds_final_ridges = ensemble_generator(preds_ridge1,preds_ridge2)\n",
        "print('Test RMSLE of Ensemble = ',rmsle_score(df_test_model.price.values , preds_final_ridges))"
      ]
    },
    {
      "cell_type": "code",
      "execution_count": null,
      "metadata": {
        "id": "M9b9xR6RCNZo",
        "colab": {
          "base_uri": "https://localhost:8080/",
          "height": 521,
          "referenced_widgets": [
            "5930b32b50714ecdb9ab2c97f1c4f63d",
            "5ddbbeb9b7f24c9e88131de23497002d",
            "8f5e1eae442e40409fe947c8823ca0b4",
            "0f953ab5e99945809aea6b56ecd0333a",
            "a3774f2edb6a429f859e62b03a021c7a",
            "87884c54e6384307992850b20ac79520",
            "6f2b361951204234b34334f8604474a0",
            "3ccb3e756d4946d9aada1c335769b324",
            "e23951a395c646778f40bc0e58e701ea",
            "86b0b7431c764b478e00bbfce395ee1a",
            "322852d3fd224787ac9a871a14a7322d"
          ]
        },
        "outputId": "0ea94704-3325-4f28-a10e-b962f272fd26"
      },
      "outputs": [
        {
          "output_type": "display_data",
          "data": {
            "text/plain": [
              "  0%|          | 0/50 [00:00<?, ?it/s]"
            ],
            "application/vnd.jupyter.widget-view+json": {
              "version_major": 2,
              "version_minor": 0,
              "model_id": "5930b32b50714ecdb9ab2c97f1c4f63d"
            }
          },
          "metadata": {}
        },
        {
          "output_type": "display_data",
          "data": {
            "text/plain": [
              "<Figure size 640x480 with 1 Axes>"
            ],
            "image/png": "[encoded data removed]"
          },
          "metadata": {}
        },
        {
          "output_type": "stream",
          "name": "stdout",
          "text": [
            "Test RMSLE of Ensemble =  0.40429796651622824\n"
          ]
        }
      ],
      "source": [
        "# Creating Ensemble of (MLP 1 + MLP 2) + (Ridge BOW + Ridge TF-IDF)\n",
        "preds_final = ensemble_generator(preds_final_ridges,preds_final_mlps)\n",
        "print('Test RMSLE of Ensemble = ',rmsle_score(df_test_model.price.values , preds_final))"
      ]
    },
    {
      "cell_type": "markdown",
      "source": [
        "#14. Final Sumamry"
      ],
      "metadata": {
        "id": "34j6iKpmoRIu"
      }
    },
    {
      "cell_type": "markdown",
      "source": [
        "## 14.1 PrettyTable Summary of all Models"
      ],
      "metadata": {
        "id": "l459b8I-prD8"
      }
    },
    {
      "cell_type": "code",
      "source": [
        "x = PrettyTable()\n",
        "x.field_names = [\"Model\",\"Featurizations\",\"Hyperparameters\",\"Test RMSLE\"]\n",
        "\n",
        "x.add_row([\"Baseline Ridge\",\"BOW\",\"alpha=10\", 0.472])\n",
        "x.add_row([\"Baseline LGBM\",\"BOW\",\"nest=1500,lr=0.05,leaves=50\", 0.470])\n",
        "x.add_row([\"Baseline Ensemble=(50% Ridge + 50% LGBM)\",\"BOW\",\"--\", 0.460])\n",
        "x.add_row([\"Baseline MLP\",\"Concatenate Text, OneHotEncoding\", \"batch = 512\",0.42])\n",
        "\n",
        "x.add_row([\"----------------\",\"---------------\", \"---------------\",\"------\"])\n",
        "\n",
        "x.add_row([\"Ridge 1\",\"BOW\",\"alpha=10\", 0.471])\n",
        "x.add_row([\"Ridge 2\",\"TFIDF\",\"alpha=10\", 0.467])\n",
        "x.add_row([\"LGBM 1\",\"BOW\",\"nest=1500,lr=0.05,leaves=50\", 0.471])\n",
        "x.add_row([\"LGBM 2\",\"TFIDF\",\"nest=1500,lr=0.05,leaves=50\", 0.470])\n",
        "x.add_row([\"MLP 1\",\"256-64-64-32\",\"Adam,Batch=4096\", 0.418])\n",
        "x.add_row([\"MLP 2\",\"1024-512-256-128-64-32\",\"Adam,Batch=4096\", 0.413])\n",
        "x.add_row([\"MLP 3\",\"MLP2 + BN + dropout\",\"Adam,Batch=4096\", 0.415])\n",
        "\n",
        "x.add_row([\"----------------\",\"---------------\", \"---------------\",\"------\"])\n",
        "\n",
        "x.add_row([\"Final Model - Ensemble\",\"MLP 1 + MLP 2 + Ridge 1 + Ridge 2\",\"0.9 MLP + 0.1 Ridge\" ,\"**0.404**\"])\n",
        "\n",
        "print(x)"
      ],
      "metadata": {
        "colab": {
          "base_uri": "https://localhost:8080/"
        },
        "id": "h18mABakpqaq",
        "outputId": "8c6d90eb-a84e-43a9-c729-4e4b2667d96c"
      },
      "execution_count": null,
      "outputs": [
        {
          "output_type": "stream",
          "name": "stdout",
          "text": [
            "+------------------------------------------+-----------------------------------+-----------------------------+------------+\n",
            "|                  Model                   |           Featurizations          |       Hyperparameters       | Test RMSLE |\n",
            "+------------------------------------------+-----------------------------------+-----------------------------+------------+\n",
            "|              Baseline Ridge              |                BOW                |           alpha=10          |   0.472    |\n",
            "|              Baseline LGBM               |                BOW                | nest=1500,lr=0.05,leaves=50 |    0.47    |\n",
            "| Baseline Ensemble=(50% Ridge + 50% LGBM) |                BOW                |              --             |    0.46    |\n",
            "|               Baseline MLP               |  Concatenate Text, OneHotEncoding |         batch = 512         |    0.42    |\n",
            "|             ----------------             |          ---------------          |       ---------------       |   ------   |\n",
            "|                 Ridge 1                  |                BOW                |           alpha=10          |   0.471    |\n",
            "|                 Ridge 2                  |               TFIDF               |           alpha=10          |   0.467    |\n",
            "|                  LGBM 1                  |                BOW                | nest=1500,lr=0.05,leaves=50 |   0.471    |\n",
            "|                  LGBM 2                  |               TFIDF               | nest=1500,lr=0.05,leaves=50 |    0.47    |\n",
            "|                  MLP 1                   |            256-64-64-32           |       Adam,Batch=4096       |   0.418    |\n",
            "|                  MLP 2                   |       1024-512-256-128-64-32      |       Adam,Batch=4096       |   0.413    |\n",
            "|                  MLP 3                   |        MLP2 + BN + dropout        |       Adam,Batch=4096       |   0.415    |\n",
            "|             ----------------             |          ---------------          |       ---------------       |   ------   |\n",
            "|          Final Model - Ensemble          | MLP 1 + MLP 2 + Ridge 1 + Ridge 2 |     0.9 MLP + 0.1 Ridge     | **0.404**  |\n",
            "+------------------------------------------+-----------------------------------+-----------------------------+------------+\n"
          ]
        }
      ]
    },
    {
      "cell_type": "markdown",
      "source": [
        "## 14.2 Error Analysis of final Model"
      ],
      "metadata": {
        "id": "c6Xp0ysqqzPG"
      }
    },
    {
      "cell_type": "code",
      "source": [
        "'''\n",
        "This Code analyzes how the errors between Predicted and Actual are Distributed\n",
        "'''"
      ],
      "metadata": {
        "id": "VUJFNpmIjFOw"
      },
      "execution_count": null,
      "outputs": []
    },
    {
      "cell_type": "code",
      "source": [
        "df_errs = pd.DataFrame({'predicted' : preds_final,'actual' : df_test_model.price.values})\n",
        "df_errs['error'] = df_errs['predicted'] - df_errs['actual']"
      ],
      "metadata": {
        "id": "yztgGuWQq3TI"
      },
      "execution_count": null,
      "outputs": []
    },
    {
      "cell_type": "code",
      "source": [
        "# Creating Error Buckets with 5 units difference within (-20,+20) and others..\n",
        "\n",
        "df_errs['error_slabs'] = pd.cut(df_errs.error, [-20,-15,-10,-5,0,5,10,15,20], include_lowest=True)\n",
        "df_errs['error_slabs'] = df_errs['error_slabs'].astype(str)\n",
        "df_errs['error_slabs'][(df_errs['error'] < -20) & (df_errs.error_slabs == 'nan')] = '< -20'\n",
        "df_errs['error_slabs'][(df_errs['error'] > 20) & (df_errs.error_slabs == 'nan')] = '> 20'\n",
        "df_errs['abs_error'] = abs(df_errs['error'])\n",
        "df_errs = df_errs.sort_values(by = 'abs_error',ascending = True).reset_index(drop = True)\n",
        "df_errs.head(5)"
      ],
      "metadata": {
        "colab": {
          "base_uri": "https://localhost:8080/",
          "height": 206
        },
        "id": "7AzWROnaq6bo",
        "outputId": "53a9827f-af55-4c73-8ac0-8de079c42c89"
      },
      "execution_count": null,
      "outputs": [
        {
          "output_type": "execute_result",
          "data": {
            "text/plain": [
              "   predicted  actual     error  error_slabs  abs_error\n",
              "0  28.999981    29.0 -0.000019  (-5.0, 0.0]   0.000019\n",
              "1   8.000025     8.0  0.000025   (0.0, 5.0]   0.000025\n",
              "2   4.000031     4.0  0.000031   (0.0, 5.0]   0.000031\n",
              "3   8.999955     9.0 -0.000045  (-5.0, 0.0]   0.000045\n",
              "4  10.000112    10.0  0.000112   (0.0, 5.0]   0.000112"
            ],
            "text/html": [
              "\n",
              "  <div id=\"df-e78b444b-008a-4224-a67f-36583734464c\" class=\"colab-df-container\">\n",
              "    <div>\n",
              "<style scoped>\n",
              "    .dataframe tbody tr th:only-of-type {\n",
              "        vertical-align: middle;\n",
              "    }\n",
              "\n",
              "    .dataframe tbody tr th {\n",
              "        vertical-align: top;\n",
              "    }\n",
              "\n",
              "    .dataframe thead th {\n",
              "        text-align: right;\n",
              "    }\n",
              "</style>\n",
              "<table border=\"1\" class=\"dataframe\">\n",
              "  <thead>\n",
              "    <tr style=\"text-align: right;\">\n",
              "      <th></th>\n",
              "      <th>predicted</th>\n",
              "      <th>actual</th>\n",
              "      <th>error</th>\n",
              "      <th>error_slabs</th>\n",
              "      <th>abs_error</th>\n",
              "    </tr>\n",
              "  </thead>\n",
              "  <tbody>\n",
              "    <tr>\n",
              "      <th>0</th>\n",
              "      <td>28.999981</td>\n",
              "      <td>29.0</td>\n",
              "      <td>-0.000019</td>\n",
              "      <td>(-5.0, 0.0]</td>\n",
              "      <td>0.000019</td>\n",
              "    </tr>\n",
              "    <tr>\n",
              "      <th>1</th>\n",
              "      <td>8.000025</td>\n",
              "      <td>8.0</td>\n",
              "      <td>0.000025</td>\n",
              "      <td>(0.0, 5.0]</td>\n",
              "      <td>0.000025</td>\n",
              "    </tr>\n",
              "    <tr>\n",
              "      <th>2</th>\n",
              "      <td>4.000031</td>\n",
              "      <td>4.0</td>\n",
              "      <td>0.000031</td>\n",
              "      <td>(0.0, 5.0]</td>\n",
              "      <td>0.000031</td>\n",
              "    </tr>\n",
              "    <tr>\n",
              "      <th>3</th>\n",
              "      <td>8.999955</td>\n",
              "      <td>9.0</td>\n",
              "      <td>-0.000045</td>\n",
              "      <td>(-5.0, 0.0]</td>\n",
              "      <td>0.000045</td>\n",
              "    </tr>\n",
              "    <tr>\n",
              "      <th>4</th>\n",
              "      <td>10.000112</td>\n",
              "      <td>10.0</td>\n",
              "      <td>0.000112</td>\n",
              "      <td>(0.0, 5.0]</td>\n",
              "      <td>0.000112</td>\n",
              "    </tr>\n",
              "  </tbody>\n",
              "</table>\n",
              "</div>\n",
              "    <div class=\"colab-df-buttons\">\n",
              "\n",
              "  <div class=\"colab-df-container\">\n",
              "    <button class=\"colab-df-convert\" onclick=\"convertToInteractive('df-e78b444b-008a-4224-a67f-36583734464c')\"\n",
              "            title=\"Convert this dataframe to an interactive table.\"\n",
              "            style=\"display:none;\">\n",
              "\n",
              "  <svg xmlns=\"http://www.w3.org/2000/svg\" height=\"24px\" viewBox=\"0 -960 960 960\">\n",
              "    <path d=\"M120-120v-720h720v720H120Zm60-500h600v-160H180v160Zm220 220h160v-160H400v160Zm0 220h160v-160H400v160ZM180-400h160v-160H180v160Zm440 0h160v-160H620v160ZM180-180h160v-160H180v160Zm440 0h160v-160H620v160Z\"/>\n",
              "  </svg>\n",
              "    </button>\n",
              "\n",
              "  <style>\n",
              "    .colab-df-container {\n",
              "      display:flex;\n",
              "      gap: 12px;\n",
              "    }\n",
              "\n",
              "    .colab-df-convert {\n",
              "      background-color: #E8F0FE;\n",
              "      border: none;\n",
              "      border-radius: 50%;\n",
              "      cursor: pointer;\n",
              "      display: none;\n",
              "      fill: #1967D2;\n",
              "      height: 32px;\n",
              "      padding: 0 0 0 0;\n",
              "      width: 32px;\n",
              "    }\n",
              "\n",
              "    .colab-df-convert:hover {\n",
              "      background-color: #E2EBFA;\n",
              "      box-shadow: 0px 1px 2px rgba(60, 64, 67, 0.3), 0px 1px 3px 1px rgba(60, 64, 67, 0.15);\n",
              "      fill: #174EA6;\n",
              "    }\n",
              "\n",
              "    .colab-df-buttons div {\n",
              "      margin-bottom: 4px;\n",
              "    }\n",
              "\n",
              "    [theme=dark] .colab-df-convert {\n",
              "      background-color: #3B4455;\n",
              "      fill: #D2E3FC;\n",
              "    }\n",
              "\n",
              "    [theme=dark] .colab-df-convert:hover {\n",
              "      background-color: #434B5C;\n",
              "      box-shadow: 0px 1px 3px 1px rgba(0, 0, 0, 0.15);\n",
              "      filter: drop-shadow(0px 1px 2px rgba(0, 0, 0, 0.3));\n",
              "      fill: #FFFFFF;\n",
              "    }\n",
              "  </style>\n",
              "\n",
              "    <script>\n",
              "      const buttonEl =\n",
              "        document.querySelector('#df-e78b444b-008a-4224-a67f-36583734464c button.colab-df-convert');\n",
              "      buttonEl.style.display =\n",
              "        google.colab.kernel.accessAllowed ? 'block' : 'none';\n",
              "\n",
              "      async function convertToInteractive(key) {\n",
              "        const element = document.querySelector('#df-e78b444b-008a-4224-a67f-36583734464c');\n",
              "        const dataTable =\n",
              "          await google.colab.kernel.invokeFunction('convertToInteractive',\n",
              "                                                    [key], {});\n",
              "        if (!dataTable) return;\n",
              "\n",
              "        const docLinkHtml = 'Like what you see? Visit the ' +\n",
              "          '<a target=\"_blank\" href=https://colab.research.google.com/notebooks/data_table.ipynb>data table notebook</a>'\n",
              "          + ' to learn more about interactive tables.';\n",
              "        element.innerHTML = '';\n",
              "        dataTable['output_type'] = 'display_data';\n",
              "        await google.colab.output.renderOutput(dataTable, element);\n",
              "        const docLink = document.createElement('div');\n",
              "        docLink.innerHTML = docLinkHtml;\n",
              "        element.appendChild(docLink);\n",
              "      }\n",
              "    </script>\n",
              "  </div>\n",
              "\n",
              "\n",
              "<div id=\"df-e9532d8c-5d9a-4fd8-a61a-c40c72695ec7\">\n",
              "  <button class=\"colab-df-quickchart\" onclick=\"quickchart('df-e9532d8c-5d9a-4fd8-a61a-c40c72695ec7')\"\n",
              "            title=\"Suggest charts\"\n",
              "            style=\"display:none;\">\n",
              "\n",
              "<svg xmlns=\"http://www.w3.org/2000/svg\" height=\"24px\"viewBox=\"0 0 24 24\"\n",
              "     width=\"24px\">\n",
              "    <g>\n",
              "        <path d=\"M19 3H5c-1.1 0-2 .9-2 2v14c0 1.1.9 2 2 2h14c1.1 0 2-.9 2-2V5c0-1.1-.9-2-2-2zM9 17H7v-7h2v7zm4 0h-2V7h2v10zm4 0h-2v-4h2v4z\"/>\n",
              "    </g>\n",
              "</svg>\n",
              "  </button>\n",
              "\n",
              "<style>\n",
              "  .colab-df-quickchart {\n",
              "      --bg-color: #E8F0FE;\n",
              "      --fill-color: #1967D2;\n",
              "      --hover-bg-color: #E2EBFA;\n",
              "      --hover-fill-color: #174EA6;\n",
              "      --disabled-fill-color: #AAA;\n",
              "      --disabled-bg-color: #DDD;\n",
              "  }\n",
              "\n",
              "  [theme=dark] .colab-df-quickchart {\n",
              "      --bg-color: #3B4455;\n",
              "      --fill-color: #D2E3FC;\n",
              "      --hover-bg-color: #434B5C;\n",
              "      --hover-fill-color: #FFFFFF;\n",
              "      --disabled-bg-color: #3B4455;\n",
              "      --disabled-fill-color: #666;\n",
              "  }\n",
              "\n",
              "  .colab-df-quickchart {\n",
              "    background-color: var(--bg-color);\n",
              "    border: none;\n",
              "    border-radius: 50%;\n",
              "    cursor: pointer;\n",
              "    display: none;\n",
              "    fill: var(--fill-color);\n",
              "    height: 32px;\n",
              "    padding: 0;\n",
              "    width: 32px;\n",
              "  }\n",
              "\n",
              "  .colab-df-quickchart:hover {\n",
              "    background-color: var(--hover-bg-color);\n",
              "    box-shadow: 0 1px 2px rgba(60, 64, 67, 0.3), 0 1px 3px 1px rgba(60, 64, 67, 0.15);\n",
              "    fill: var(--button-hover-fill-color);\n",
              "  }\n",
              "\n",
              "  .colab-df-quickchart-complete:disabled,\n",
              "  .colab-df-quickchart-complete:disabled:hover {\n",
              "    background-color: var(--disabled-bg-color);\n",
              "    fill: var(--disabled-fill-color);\n",
              "    box-shadow: none;\n",
              "  }\n",
              "\n",
              "  .colab-df-spinner {\n",
              "    border: 2px solid var(--fill-color);\n",
              "    border-color: transparent;\n",
              "    border-bottom-color: var(--fill-color);\n",
              "    animation:\n",
              "      spin 1s steps(1) infinite;\n",
              "  }\n",
              "\n",
              "  @keyframes spin {\n",
              "    0% {\n",
              "      border-color: transparent;\n",
              "      border-bottom-color: var(--fill-color);\n",
              "      border-left-color: var(--fill-color);\n",
              "    }\n",
              "    20% {\n",
              "      border-color: transparent;\n",
              "      border-left-color: var(--fill-color);\n",
              "      border-top-color: var(--fill-color);\n",
              "    }\n",
              "    30% {\n",
              "      border-color: transparent;\n",
              "      border-left-color: var(--fill-color);\n",
              "      border-top-color: var(--fill-color);\n",
              "      border-right-color: var(--fill-color);\n",
              "    }\n",
              "    40% {\n",
              "      border-color: transparent;\n",
              "      border-right-color: var(--fill-color);\n",
              "      border-top-color: var(--fill-color);\n",
              "    }\n",
              "    60% {\n",
              "      border-color: transparent;\n",
              "      border-right-color: var(--fill-color);\n",
              "    }\n",
              "    80% {\n",
              "      border-color: transparent;\n",
              "      border-right-color: var(--fill-color);\n",
              "      border-bottom-color: var(--fill-color);\n",
              "    }\n",
              "    90% {\n",
              "      border-color: transparent;\n",
              "      border-bottom-color: var(--fill-color);\n",
              "    }\n",
              "  }\n",
              "</style>\n",
              "\n",
              "  <script>\n",
              "    async function quickchart(key) {\n",
              "      const quickchartButtonEl =\n",
              "        document.querySelector('#' + key + ' button');\n",
              "      quickchartButtonEl.disabled = true;  // To prevent multiple clicks.\n",
              "      quickchartButtonEl.classList.add('colab-df-spinner');\n",
              "      try {\n",
              "        const charts = await google.colab.kernel.invokeFunction(\n",
              "            'suggestCharts', [key], {});\n",
              "      } catch (error) {\n",
              "        console.error('Error during call to suggestCharts:', error);\n",
              "      }\n",
              "      quickchartButtonEl.classList.remove('colab-df-spinner');\n",
              "      quickchartButtonEl.classList.add('colab-df-quickchart-complete');\n",
              "    }\n",
              "    (() => {\n",
              "      let quickchartButtonEl =\n",
              "        document.querySelector('#df-e9532d8c-5d9a-4fd8-a61a-c40c72695ec7 button');\n",
              "      quickchartButtonEl.style.display =\n",
              "        google.colab.kernel.accessAllowed ? 'block' : 'none';\n",
              "    })();\n",
              "  </script>\n",
              "</div>\n",
              "\n",
              "    </div>\n",
              "  </div>\n"
            ],
            "application/vnd.google.colaboratory.intrinsic+json": {
              "type": "dataframe",
              "variable_name": "df_errs"
            }
          },
          "metadata": {},
          "execution_count": 27
        }
      ]
    },
    {
      "cell_type": "code",
      "source": [
        "# Plotting Graph for Distribution of Log(Absolute Error) - PDF and CDF...\n",
        "plt.style.use('ggplot')\n",
        "series = pd.Series(np.log1p(df_errs.abs_error))\n",
        "fig, ax = plt.subplots()\n",
        "ax2 = ax.twinx()\n",
        "\n",
        "# Use 'density=True' instead of the deprecated 'normed' argument\n",
        "n, bins, patches = ax.hist(series, bins=100, density=True)  # Corrected line\n",
        "\n",
        "n, bins, patches = ax2.hist(series, cumulative=1, histtype='step', bins=100, color='blue')\n",
        "ax.set_xlabel('Log (Absolute error)')\n",
        "ax.set_ylabel('Number of Points')\n",
        "ax2.set_ylabel('Cumulative Points')\n",
        "plt.title('Distribution of Log (Abs Errors)')\n",
        "plt.show()  # Add this to display the plot\n"
      ],
      "metadata": {
        "colab": {
          "base_uri": "https://localhost:8080/",
          "height": 477
        },
        "id": "R0o0Wagmrs4H",
        "outputId": "ebc8d707-5082-40eb-872e-db524ea07970"
      },
      "execution_count": null,
      "outputs": [
        {
          "output_type": "display_data",
          "data": {
            "text/plain": [
              "<Figure size 640x480 with 2 Axes>"
            ],
            "image/png": "[encoded data removed]"
          },
          "metadata": {}
        }
      ]
    },
    {
      "cell_type": "code",
      "source": [
        "'''Code for Grouping Error Slabs'''\n",
        "\n",
        "tmp_df = pd.DataFrame(df_errs.groupby('error_slabs').agg('size').reset_index())\n",
        "tmp_df.columns = ['error_slabs','count']\n",
        "tmp_df['error_slabs'] = pd.Categorical(tmp_df['error_slabs'],\n",
        "                                       [\"< -20\", \"(-20.001, -15.0]\", \"(-15.0, -10.0]\",\"(-10.0, -5.0]\",\n",
        "                                        \"(-5.0, 0.0]\",\"(0.0, 5.0]\",\"(5.0, 10.0]\",\"(10.0, 15.0]\",\n",
        "                                        \"(15.0, 20.0]\",\"> 20\"])\n",
        "tmp_df = tmp_df.sort_values(by=['error_slabs'],ascending = True).reset_index(drop = True)\n",
        "tmp_df['percent'] = round(tmp_df['count']/sum(tmp_df['count']),4)*100\n",
        "tmp_df"
      ],
      "metadata": {
        "colab": {
          "base_uri": "https://localhost:8080/",
          "height": 362
        },
        "id": "pTybKiBbrvWw",
        "outputId": "a537bd5b-40f2-41ae-a141-77577f2cef2b"
      },
      "execution_count": null,
      "outputs": [
        {
          "output_type": "execute_result",
          "data": {
            "text/plain": [
              "        error_slabs   count  percent\n",
              "0             < -20   24351     6.57\n",
              "1  (-20.001, -15.0]    9711     2.62\n",
              "2    (-15.0, -10.0]   17450     4.71\n",
              "3     (-10.0, -5.0]   36812     9.93\n",
              "4       (-5.0, 0.0]   93787    25.30\n",
              "5        (0.0, 5.0]  120873    32.61\n",
              "6       (5.0, 10.0]   40003    10.79\n",
              "7      (10.0, 15.0]   13834     3.73\n",
              "8      (15.0, 20.0]    5917     1.60\n",
              "9              > 20    7896     2.13"
            ],
            "text/html": [
              "\n",
              "  <div id=\"df-b05ed724-a276-4c1d-984a-21a25fce5bba\" class=\"colab-df-container\">\n",
              "    <div>\n",
              "<style scoped>\n",
              "    .dataframe tbody tr th:only-of-type {\n",
              "        vertical-align: middle;\n",
              "    }\n",
              "\n",
              "    .dataframe tbody tr th {\n",
              "        vertical-align: top;\n",
              "    }\n",
              "\n",
              "    .dataframe thead th {\n",
              "        text-align: right;\n",
              "    }\n",
              "</style>\n",
              "<table border=\"1\" class=\"dataframe\">\n",
              "  <thead>\n",
              "    <tr style=\"text-align: right;\">\n",
              "      <th></th>\n",
              "      <th>error_slabs</th>\n",
              "      <th>count</th>\n",
              "      <th>percent</th>\n",
              "    </tr>\n",
              "  </thead>\n",
              "  <tbody>\n",
              "    <tr>\n",
              "      <th>0</th>\n",
              "      <td>&lt; -20</td>\n",
              "      <td>24351</td>\n",
              "      <td>6.57</td>\n",
              "    </tr>\n",
              "    <tr>\n",
              "      <th>1</th>\n",
              "      <td>(-20.001, -15.0]</td>\n",
              "      <td>9711</td>\n",
              "      <td>2.62</td>\n",
              "    </tr>\n",
              "    <tr>\n",
              "      <th>2</th>\n",
              "      <td>(-15.0, -10.0]</td>\n",
              "      <td>17450</td>\n",
              "      <td>4.71</td>\n",
              "    </tr>\n",
              "    <tr>\n",
              "      <th>3</th>\n",
              "      <td>(-10.0, -5.0]</td>\n",
              "      <td>36812</td>\n",
              "      <td>9.93</td>\n",
              "    </tr>\n",
              "    <tr>\n",
              "      <th>4</th>\n",
              "      <td>(-5.0, 0.0]</td>\n",
              "      <td>93787</td>\n",
              "      <td>25.30</td>\n",
              "    </tr>\n",
              "    <tr>\n",
              "      <th>5</th>\n",
              "      <td>(0.0, 5.0]</td>\n",
              "      <td>120873</td>\n",
              "      <td>32.61</td>\n",
              "    </tr>\n",
              "    <tr>\n",
              "      <th>6</th>\n",
              "      <td>(5.0, 10.0]</td>\n",
              "      <td>40003</td>\n",
              "      <td>10.79</td>\n",
              "    </tr>\n",
              "    <tr>\n",
              "      <th>7</th>\n",
              "      <td>(10.0, 15.0]</td>\n",
              "      <td>13834</td>\n",
              "      <td>3.73</td>\n",
              "    </tr>\n",
              "    <tr>\n",
              "      <th>8</th>\n",
              "      <td>(15.0, 20.0]</td>\n",
              "      <td>5917</td>\n",
              "      <td>1.60</td>\n",
              "    </tr>\n",
              "    <tr>\n",
              "      <th>9</th>\n",
              "      <td>&gt; 20</td>\n",
              "      <td>7896</td>\n",
              "      <td>2.13</td>\n",
              "    </tr>\n",
              "  </tbody>\n",
              "</table>\n",
              "</div>\n",
              "    <div class=\"colab-df-buttons\">\n",
              "\n",
              "  <div class=\"colab-df-container\">\n",
              "    <button class=\"colab-df-convert\" onclick=\"convertToInteractive('df-b05ed724-a276-4c1d-984a-21a25fce5bba')\"\n",
              "            title=\"Convert this dataframe to an interactive table.\"\n",
              "            style=\"display:none;\">\n",
              "\n",
              "  <svg xmlns=\"http://www.w3.org/2000/svg\" height=\"24px\" viewBox=\"0 -960 960 960\">\n",
              "    <path d=\"M120-120v-720h720v720H120Zm60-500h600v-160H180v160Zm220 220h160v-160H400v160Zm0 220h160v-160H400v160ZM180-400h160v-160H180v160Zm440 0h160v-160H620v160ZM180-180h160v-160H180v160Zm440 0h160v-160H620v160Z\"/>\n",
              "  </svg>\n",
              "    </button>\n",
              "\n",
              "  <style>\n",
              "    .colab-df-container {\n",
              "      display:flex;\n",
              "      gap: 12px;\n",
              "    }\n",
              "\n",
              "    .colab-df-convert {\n",
              "      background-color: #E8F0FE;\n",
              "      border: none;\n",
              "      border-radius: 50%;\n",
              "      cursor: pointer;\n",
              "      display: none;\n",
              "      fill: #1967D2;\n",
              "      height: 32px;\n",
              "      padding: 0 0 0 0;\n",
              "      width: 32px;\n",
              "    }\n",
              "\n",
              "    .colab-df-convert:hover {\n",
              "      background-color: #E2EBFA;\n",
              "      box-shadow: 0px 1px 2px rgba(60, 64, 67, 0.3), 0px 1px 3px 1px rgba(60, 64, 67, 0.15);\n",
              "      fill: #174EA6;\n",
              "    }\n",
              "\n",
              "    .colab-df-buttons div {\n",
              "      margin-bottom: 4px;\n",
              "    }\n",
              "\n",
              "    [theme=dark] .colab-df-convert {\n",
              "      background-color: #3B4455;\n",
              "      fill: #D2E3FC;\n",
              "    }\n",
              "\n",
              "    [theme=dark] .colab-df-convert:hover {\n",
              "      background-color: #434B5C;\n",
              "      box-shadow: 0px 1px 3px 1px rgba(0, 0, 0, 0.15);\n",
              "      filter: drop-shadow(0px 1px 2px rgba(0, 0, 0, 0.3));\n",
              "      fill: #FFFFFF;\n",
              "    }\n",
              "  </style>\n",
              "\n",
              "    <script>\n",
              "      const buttonEl =\n",
              "        document.querySelector('#df-b05ed724-a276-4c1d-984a-21a25fce5bba button.colab-df-convert');\n",
              "      buttonEl.style.display =\n",
              "        google.colab.kernel.accessAllowed ? 'block' : 'none';\n",
              "\n",
              "      async function convertToInteractive(key) {\n",
              "        const element = document.querySelector('#df-b05ed724-a276-4c1d-984a-21a25fce5bba');\n",
              "        const dataTable =\n",
              "          await google.colab.kernel.invokeFunction('convertToInteractive',\n",
              "                                                    [key], {});\n",
              "        if (!dataTable) return;\n",
              "\n",
              "        const docLinkHtml = 'Like what you see? Visit the ' +\n",
              "          '<a target=\"_blank\" href=https://colab.research.google.com/notebooks/data_table.ipynb>data table notebook</a>'\n",
              "          + ' to learn more about interactive tables.';\n",
              "        element.innerHTML = '';\n",
              "        dataTable['output_type'] = 'display_data';\n",
              "        await google.colab.output.renderOutput(dataTable, element);\n",
              "        const docLink = document.createElement('div');\n",
              "        docLink.innerHTML = docLinkHtml;\n",
              "        element.appendChild(docLink);\n",
              "      }\n",
              "    </script>\n",
              "  </div>\n",
              "\n",
              "\n",
              "<div id=\"df-b85a812c-c24b-4a90-af73-c5112c559131\">\n",
              "  <button class=\"colab-df-quickchart\" onclick=\"quickchart('df-b85a812c-c24b-4a90-af73-c5112c559131')\"\n",
              "            title=\"Suggest charts\"\n",
              "            style=\"display:none;\">\n",
              "\n",
              "<svg xmlns=\"http://www.w3.org/2000/svg\" height=\"24px\"viewBox=\"0 0 24 24\"\n",
              "     width=\"24px\">\n",
              "    <g>\n",
              "        <path d=\"M19 3H5c-1.1 0-2 .9-2 2v14c0 1.1.9 2 2 2h14c1.1 0 2-.9 2-2V5c0-1.1-.9-2-2-2zM9 17H7v-7h2v7zm4 0h-2V7h2v10zm4 0h-2v-4h2v4z\"/>\n",
              "    </g>\n",
              "</svg>\n",
              "  </button>\n",
              "\n",
              "<style>\n",
              "  .colab-df-quickchart {\n",
              "      --bg-color: #E8F0FE;\n",
              "      --fill-color: #1967D2;\n",
              "      --hover-bg-color: #E2EBFA;\n",
              "      --hover-fill-color: #174EA6;\n",
              "      --disabled-fill-color: #AAA;\n",
              "      --disabled-bg-color: #DDD;\n",
              "  }\n",
              "\n",
              "  [theme=dark] .colab-df-quickchart {\n",
              "      --bg-color: #3B4455;\n",
              "      --fill-color: #D2E3FC;\n",
              "      --hover-bg-color: #434B5C;\n",
              "      --hover-fill-color: #FFFFFF;\n",
              "      --disabled-bg-color: #3B4455;\n",
              "      --disabled-fill-color: #666;\n",
              "  }\n",
              "\n",
              "  .colab-df-quickchart {\n",
              "    background-color: var(--bg-color);\n",
              "    border: none;\n",
              "    border-radius: 50%;\n",
              "    cursor: pointer;\n",
              "    display: none;\n",
              "    fill: var(--fill-color);\n",
              "    height: 32px;\n",
              "    padding: 0;\n",
              "    width: 32px;\n",
              "  }\n",
              "\n",
              "  .colab-df-quickchart:hover {\n",
              "    background-color: var(--hover-bg-color);\n",
              "    box-shadow: 0 1px 2px rgba(60, 64, 67, 0.3), 0 1px 3px 1px rgba(60, 64, 67, 0.15);\n",
              "    fill: var(--button-hover-fill-color);\n",
              "  }\n",
              "\n",
              "  .colab-df-quickchart-complete:disabled,\n",
              "  .colab-df-quickchart-complete:disabled:hover {\n",
              "    background-color: var(--disabled-bg-color);\n",
              "    fill: var(--disabled-fill-color);\n",
              "    box-shadow: none;\n",
              "  }\n",
              "\n",
              "  .colab-df-spinner {\n",
              "    border: 2px solid var(--fill-color);\n",
              "    border-color: transparent;\n",
              "    border-bottom-color: var(--fill-color);\n",
              "    animation:\n",
              "      spin 1s steps(1) infinite;\n",
              "  }\n",
              "\n",
              "  @keyframes spin {\n",
              "    0% {\n",
              "      border-color: transparent;\n",
              "      border-bottom-color: var(--fill-color);\n",
              "      border-left-color: var(--fill-color);\n",
              "    }\n",
              "    20% {\n",
              "      border-color: transparent;\n",
              "      border-left-color: var(--fill-color);\n",
              "      border-top-color: var(--fill-color);\n",
              "    }\n",
              "    30% {\n",
              "      border-color: transparent;\n",
              "      border-left-color: var(--fill-color);\n",
              "      border-top-color: var(--fill-color);\n",
              "      border-right-color: var(--fill-color);\n",
              "    }\n",
              "    40% {\n",
              "      border-color: transparent;\n",
              "      border-right-color: var(--fill-color);\n",
              "      border-top-color: var(--fill-color);\n",
              "    }\n",
              "    60% {\n",
              "      border-color: transparent;\n",
              "      border-right-color: var(--fill-color);\n",
              "    }\n",
              "    80% {\n",
              "      border-color: transparent;\n",
              "      border-right-color: var(--fill-color);\n",
              "      border-bottom-color: var(--fill-color);\n",
              "    }\n",
              "    90% {\n",
              "      border-color: transparent;\n",
              "      border-bottom-color: var(--fill-color);\n",
              "    }\n",
              "  }\n",
              "</style>\n",
              "\n",
              "  <script>\n",
              "    async function quickchart(key) {\n",
              "      const quickchartButtonEl =\n",
              "        document.querySelector('#' + key + ' button');\n",
              "      quickchartButtonEl.disabled = true;  // To prevent multiple clicks.\n",
              "      quickchartButtonEl.classList.add('colab-df-spinner');\n",
              "      try {\n",
              "        const charts = await google.colab.kernel.invokeFunction(\n",
              "            'suggestCharts', [key], {});\n",
              "      } catch (error) {\n",
              "        console.error('Error during call to suggestCharts:', error);\n",
              "      }\n",
              "      quickchartButtonEl.classList.remove('colab-df-spinner');\n",
              "      quickchartButtonEl.classList.add('colab-df-quickchart-complete');\n",
              "    }\n",
              "    (() => {\n",
              "      let quickchartButtonEl =\n",
              "        document.querySelector('#df-b85a812c-c24b-4a90-af73-c5112c559131 button');\n",
              "      quickchartButtonEl.style.display =\n",
              "        google.colab.kernel.accessAllowed ? 'block' : 'none';\n",
              "    })();\n",
              "  </script>\n",
              "</div>\n",
              "\n",
              "  <div id=\"id_3f6a8c70-f119-4742-9810-7c767c0d8afd\">\n",
              "    <style>\n",
              "      .colab-df-generate {\n",
              "        background-color: #E8F0FE;\n",
              "        border: none;\n",
              "        border-radius: 50%;\n",
              "        cursor: pointer;\n",
              "        display: none;\n",
              "        fill: #1967D2;\n",
              "        height: 32px;\n",
              "        padding: 0 0 0 0;\n",
              "        width: 32px;\n",
              "      }\n",
              "\n",
              "      .colab-df-generate:hover {\n",
              "        background-color: #E2EBFA;\n",
              "        box-shadow: 0px 1px 2px rgba(60, 64, 67, 0.3), 0px 1px 3px 1px rgba(60, 64, 67, 0.15);\n",
              "        fill: #174EA6;\n",
              "      }\n",
              "\n",
              "      [theme=dark] .colab-df-generate {\n",
              "        background-color: #3B4455;\n",
              "        fill: #D2E3FC;\n",
              "      }\n",
              "\n",
              "      [theme=dark] .colab-df-generate:hover {\n",
              "        background-color: #434B5C;\n",
              "        box-shadow: 0px 1px 3px 1px rgba(0, 0, 0, 0.15);\n",
              "        filter: drop-shadow(0px 1px 2px rgba(0, 0, 0, 0.3));\n",
              "        fill: #FFFFFF;\n",
              "      }\n",
              "    </style>\n",
              "    <button class=\"colab-df-generate\" onclick=\"generateWithVariable('tmp_df')\"\n",
              "            title=\"Generate code using this dataframe.\"\n",
              "            style=\"display:none;\">\n",
              "\n",
              "  <svg xmlns=\"http://www.w3.org/2000/svg\" height=\"24px\"viewBox=\"0 0 24 24\"\n",
              "       width=\"24px\">\n",
              "    <path d=\"M7,19H8.4L18.45,9,17,7.55,7,17.6ZM5,21V16.75L18.45,3.32a2,2,0,0,1,2.83,0l1.4,1.43a1.91,1.91,0,0,1,.58,1.4,1.91,1.91,0,0,1-.58,1.4L9.25,21ZM18.45,9,17,7.55Zm-12,3A5.31,5.31,0,0,0,4.9,8.1,5.31,5.31,0,0,0,1,6.5,5.31,5.31,0,0,0,4.9,4.9,5.31,5.31,0,0,0,6.5,1,5.31,5.31,0,0,0,8.1,4.9,5.31,5.31,0,0,0,12,6.5,5.46,5.46,0,0,0,6.5,12Z\"/>\n",
              "  </svg>\n",
              "    </button>\n",
              "    <script>\n",
              "      (() => {\n",
              "      const buttonEl =\n",
              "        document.querySelector('#id_3f6a8c70-f119-4742-9810-7c767c0d8afd button.colab-df-generate');\n",
              "      buttonEl.style.display =\n",
              "        google.colab.kernel.accessAllowed ? 'block' : 'none';\n",
              "\n",
              "      buttonEl.onclick = () => {\n",
              "        google.colab.notebook.generateWithVariable('tmp_df');\n",
              "      }\n",
              "      })();\n",
              "    </script>\n",
              "  </div>\n",
              "\n",
              "    </div>\n",
              "  </div>\n"
            ],
            "application/vnd.google.colaboratory.intrinsic+json": {
              "type": "dataframe",
              "variable_name": "tmp_df",
              "summary": "{\n  \"name\": \"tmp_df\",\n  \"rows\": 10,\n  \"fields\": [\n    {\n      \"column\": \"error_slabs\",\n      \"properties\": {\n        \"dtype\": \"category\",\n        \"num_unique_values\": 10,\n        \"samples\": [\n          \"(15.0, 20.0]\",\n          \"(-20.001, -15.0]\",\n          \"(0.0, 5.0]\"\n        ],\n        \"semantic_type\": \"\",\n        \"description\": \"\"\n      }\n    },\n    {\n      \"column\": \"count\",\n      \"properties\": {\n        \"dtype\": \"number\",\n        \"std\": 39306,\n        \"min\": 5917,\n        \"max\": 120873,\n        \"num_unique_values\": 10,\n        \"samples\": [\n          5917,\n          9711,\n          120873\n        ],\n        \"semantic_type\": \"\",\n        \"description\": \"\"\n      }\n    },\n    {\n      \"column\": \"percent\",\n      \"properties\": {\n        \"dtype\": \"number\",\n        \"std\": 10.60374299743046,\n        \"min\": 1.6,\n        \"max\": 32.61,\n        \"num_unique_values\": 10,\n        \"samples\": [\n          1.6,\n          2.62,\n          32.61\n        ],\n        \"semantic_type\": \"\",\n        \"description\": \"\"\n      }\n    }\n  ]\n}"
            }
          },
          "metadata": {},
          "execution_count": 37
        }
      ]
    },
    {
      "cell_type": "code",
      "source": [
        "\n",
        "# Plotting Actual Errors Distribution by generating Histograms..\n",
        "\n",
        "g = sns.set(rc={'figure.figsize':(14,7)})\n",
        "g = sns.barplot(x = 'error_slabs',y = 'percent',data = tmp_df,palette=\"Blues_d\")\n",
        "plt.title('Error Distribution - Count of Points')\n",
        "plt.ylabel('Percentage of Points (%)')\n",
        "\n",
        "for index,row in tmp_df.iterrows():\n",
        "    g.text(row.name,row.percent,str(round(row.percent,1)) + str(' %'), color='black', ha=\"center\")\n",
        "\n",
        "plt.show()"
      ],
      "metadata": {
        "colab": {
          "base_uri": "https://localhost:8080/",
          "height": 670
        },
        "id": "ET5yO9y5ryQ3",
        "outputId": "d73497c8-e451-4b79-a6ac-8aadcf0fa958"
      },
      "execution_count": null,
      "outputs": [
        {
          "output_type": "display_data",
          "data": {
            "text/plain": [
              "<Figure size 1400x700 with 1 Axes>"
            ],
            "image/png": "[encoded data removed]"
          },
          "metadata": {}
        }
      ]
    },
    {
      "cell_type": "markdown",
      "source": [
        "> **Plot Summary - As we can see, More than 55% of points have errors within (-5,+5) range. More than 75% points have errors within (-10,+10) range**"
      ],
      "metadata": {
        "id": "TVsGEJFDu6tm"
      }
    }
  ],
  "metadata": {
    "colab": {
      "machine_shape": "hm",
      "provenance": []
    },
    "kernelspec": {
      "display_name": "Python 3",
      "name": "python3"
    },
    "language_info": {
      "name": "python"
    },
    "widgets": {
      "application/vnd.jupyter.widget-state+json": {
        "00d02ecafcac45e19eadfa688756bc0b": {
          "model_module": "@jupyter-widgets/controls",
          "model_module_version": "1.5.0",
          "model_name": "FloatProgressModel",
          "state": {
            "_dom_classes": [],
            "_model_module": "@jupyter-widgets/controls",
            "_model_module_version": "1.5.0",
            "_model_name": "FloatProgressModel",
            "_view_count": null,
            "_view_module": "@jupyter-widgets/controls",
            "_view_module_version": "1.5.0",
            "_view_name": "ProgressView",
            "bar_style": "success",
            "description": "",
            "description_tooltip": null,
            "layout": "IPY_MODEL_6c7c010d2e534bee8394cfcedc421323",
            "max": 370634,
            "min": 0,
            "orientation": "horizontal",
            "style": "IPY_MODEL_1f08a2fd6abe4829a74da1eb3e27bee5",
            "value": 370634
          }
        },
        "05be8d8d59aa4fe481c72ff8ce50cf20": {
          "model_module": "@jupyter-widgets/controls",
          "model_module_version": "1.5.0",
          "model_name": "HTMLModel",
          "state": {
            "_dom_classes": [],
            "_model_module": "@jupyter-widgets/controls",
            "_model_module_version": "1.5.0",
            "_model_name": "HTMLModel",
            "_view_count": null,
            "_view_module": "@jupyter-widgets/controls",
            "_view_module_version": "1.5.0",
            "_view_name": "HTMLView",
            "description": "",
            "description_tooltip": null,
            "layout": "IPY_MODEL_4cca30169bd24e34819ff1273e1b3f47",
            "placeholder": "​",
            "style": "IPY_MODEL_a662e0ae970746a49e736462c5394399",
            "value": "100%"
          }
        },
        "0b5095a172094b53bb1aa6f63ddbf232": {
          "model_module": "@jupyter-widgets/base",
          "model_module_version": "1.2.0",
          "model_name": "LayoutModel",
          "state": {
            "_model_module": "@jupyter-widgets/base",
            "_model_module_version": "1.2.0",
            "_model_name": "LayoutModel",
            "_view_count": null,
            "_view_module": "@jupyter-widgets/base",
            "_view_module_version": "1.2.0",
            "_view_name": "LayoutView",
            "align_content": null,
            "align_items": null,
            "align_self": null,
            "border": null,
            "bottom": null,
            "display": null,
            "flex": null,
            "flex_flow": null,
            "grid_area": null,
            "grid_auto_columns": null,
            "grid_auto_flow": null,
            "grid_auto_rows": null,
            "grid_column": null,
            "grid_gap": null,
            "grid_row": null,
            "grid_template_areas": null,
            "grid_template_columns": null,
            "grid_template_rows": null,
            "height": null,
            "justify_content": null,
            "justify_items": null,
            "left": null,
            "margin": null,
            "max_height": null,
            "max_width": null,
            "min_height": null,
            "min_width": null,
            "object_fit": null,
            "object_position": null,
            "order": null,
            "overflow": null,
            "overflow_x": null,
            "overflow_y": null,
            "padding": null,
            "right": null,
            "top": null,
            "visibility": null,
            "width": null
          }
        },
        "0c633cd1fe3446afaf6c117c55dc0564": {
          "model_module": "@jupyter-widgets/base",
          "model_module_version": "1.2.0",
          "model_name": "LayoutModel",
          "state": {
            "_model_module": "@jupyter-widgets/base",
            "_model_module_version": "1.2.0",
            "_model_name": "LayoutModel",
            "_view_count": null,
            "_view_module": "@jupyter-widgets/base",
            "_view_module_version": "1.2.0",
            "_view_name": "LayoutView",
            "align_content": null,
            "align_items": null,
            "align_self": null,
            "border": null,
            "bottom": null,
            "display": null,
            "flex": null,
            "flex_flow": null,
            "grid_area": null,
            "grid_auto_columns": null,
            "grid_auto_flow": null,
            "grid_auto_rows": null,
            "grid_column": null,
            "grid_gap": null,
            "grid_row": null,
            "grid_template_areas": null,
            "grid_template_columns": null,
            "grid_template_rows": null,
            "height": null,
            "justify_content": null,
            "justify_items": null,
            "left": null,
            "margin": null,
            "max_height": null,
            "max_width": null,
            "min_height": null,
            "min_width": null,
            "object_fit": null,
            "object_position": null,
            "order": null,
            "overflow": null,
            "overflow_x": null,
            "overflow_y": null,
            "padding": null,
            "right": null,
            "top": null,
            "visibility": null,
            "width": null
          }
        },
        "0ce99baf89254de4bb37e99af40f26db": {
          "model_module": "@jupyter-widgets/controls",
          "model_module_version": "1.5.0",
          "model_name": "DescriptionStyleModel",
          "state": {
            "_model_module": "@jupyter-widgets/controls",
            "_model_module_version": "1.5.0",
            "_model_name": "DescriptionStyleModel",
            "_view_count": null,
            "_view_module": "@jupyter-widgets/base",
            "_view_module_version": "1.2.0",
            "_view_name": "StyleView",
            "description_width": ""
          }
        },
        "0da51c4eade340f793058070178e2f98": {
          "model_module": "@jupyter-widgets/controls",
          "model_module_version": "1.5.0",
          "model_name": "HBoxModel",
          "state": {
            "_dom_classes": [],
            "_model_module": "@jupyter-widgets/controls",
            "_model_module_version": "1.5.0",
            "_model_name": "HBoxModel",
            "_view_count": null,
            "_view_module": "@jupyter-widgets/controls",
            "_view_module_version": "1.5.0",
            "_view_name": "HBoxView",
            "box_style": "",
            "children": [
              "IPY_MODEL_05be8d8d59aa4fe481c72ff8ce50cf20",
              "IPY_MODEL_f7558243a9134cbbaeb93af50fd5d26c",
              "IPY_MODEL_9a8dd43d2597478188b866349e42486d"
            ],
            "layout": "IPY_MODEL_448cfec5c4d64fb4a4d00ebd98b1ca8a"
          }
        },
        "1296383782fb4339b5009b0bfa052f5e": {
          "model_module": "@jupyter-widgets/base",
          "model_module_version": "1.2.0",
          "model_name": "LayoutModel",
          "state": {
            "_model_module": "@jupyter-widgets/base",
            "_model_module_version": "1.2.0",
            "_model_name": "LayoutModel",
            "_view_count": null,
            "_view_module": "@jupyter-widgets/base",
            "_view_module_version": "1.2.0",
            "_view_name": "LayoutView",
            "align_content": null,
            "align_items": null,
            "align_self": null,
            "border": null,
            "bottom": null,
            "display": null,
            "flex": null,
            "flex_flow": null,
            "grid_area": null,
            "grid_auto_columns": null,
            "grid_auto_flow": null,
            "grid_auto_rows": null,
            "grid_column": null,
            "grid_gap": null,
            "grid_row": null,
            "grid_template_areas": null,
            "grid_template_columns": null,
            "grid_template_rows": null,
            "height": null,
            "justify_content": null,
            "justify_items": null,
            "left": null,
            "margin": null,
            "max_height": null,
            "max_width": null,
            "min_height": null,
            "min_width": null,
            "object_fit": null,
            "object_position": null,
            "order": null,
            "overflow": null,
            "overflow_x": null,
            "overflow_y": null,
            "padding": null,
            "right": null,
            "top": null,
            "visibility": null,
            "width": null
          }
        },
        "13d2953a40c542e2acc64e7b6112de24": {
          "model_module": "@jupyter-widgets/controls",
          "model_module_version": "1.5.0",
          "model_name": "FloatProgressModel",
          "state": {
            "_dom_classes": [],
            "_model_module": "@jupyter-widgets/controls",
            "_model_module_version": "1.5.0",
            "_model_name": "FloatProgressModel",
            "_view_count": null,
            "_view_module": "@jupyter-widgets/controls",
            "_view_module_version": "1.5.0",
            "_view_name": "ProgressView",
            "bar_style": "success",
            "description": "",
            "description_tooltip": null,
            "layout": "IPY_MODEL_c5400e3fc1d64a218ab06901ab4a52bb",
            "max": 1111901,
            "min": 0,
            "orientation": "horizontal",
            "style": "IPY_MODEL_ee5d31cf12a5447d86a0d1570a65df3a",
            "value": 1111901
          }
        },
        "15457cdf405546c6810a39d5b9457b94": {
          "model_module": "@jupyter-widgets/controls",
          "model_module_version": "1.5.0",
          "model_name": "HTMLModel",
          "state": {
            "_dom_classes": [],
            "_model_module": "@jupyter-widgets/controls",
            "_model_module_version": "1.5.0",
            "_model_name": "HTMLModel",
            "_view_count": null,
            "_view_module": "@jupyter-widgets/controls",
            "_view_module_version": "1.5.0",
            "_view_name": "HTMLView",
            "description": "",
            "description_tooltip": null,
            "layout": "IPY_MODEL_c3a52a1a05c84c888f8d5ec8f589b1d7",
            "placeholder": "​",
            "style": "IPY_MODEL_4ac7f1537f8e40cd81ea147ccfe591fb",
            "value": " 370634/370634 [00:09&lt;00:00, 37879.26it/s]"
          }
        },
        "1bb4c78d5cf94eef8ac0c71d990a1dbf": {
          "model_module": "@jupyter-widgets/base",
          "model_module_version": "1.2.0",
          "model_name": "LayoutModel",
          "state": {
            "_model_module": "@jupyter-widgets/base",
            "_model_module_version": "1.2.0",
            "_model_name": "LayoutModel",
            "_view_count": null,
            "_view_module": "@jupyter-widgets/base",
            "_view_module_version": "1.2.0",
            "_view_name": "LayoutView",
            "align_content": null,
            "align_items": null,
            "align_self": null,
            "border": null,
            "bottom": null,
            "display": null,
            "flex": null,
            "flex_flow": null,
            "grid_area": null,
            "grid_auto_columns": null,
            "grid_auto_flow": null,
            "grid_auto_rows": null,
            "grid_column": null,
            "grid_gap": null,
            "grid_row": null,
            "grid_template_areas": null,
            "grid_template_columns": null,
            "grid_template_rows": null,
            "height": null,
            "justify_content": null,
            "justify_items": null,
            "left": null,
            "margin": null,
            "max_height": null,
            "max_width": null,
            "min_height": null,
            "min_width": null,
            "object_fit": null,
            "object_position": null,
            "order": null,
            "overflow": null,
            "overflow_x": null,
            "overflow_y": null,
            "padding": null,
            "right": null,
            "top": null,
            "visibility": null,
            "width": null
          }
        },
        "1d744eee44344f919c21c769b5a1731c": {
          "model_module": "@jupyter-widgets/controls",
          "model_module_version": "1.5.0",
          "model_name": "DescriptionStyleModel",
          "state": {
            "_model_module": "@jupyter-widgets/controls",
            "_model_module_version": "1.5.0",
            "_model_name": "DescriptionStyleModel",
            "_view_count": null,
            "_view_module": "@jupyter-widgets/base",
            "_view_module_version": "1.2.0",
            "_view_name": "StyleView",
            "description_width": ""
          }
        },
        "1f08a2fd6abe4829a74da1eb3e27bee5": {
          "model_module": "@jupyter-widgets/controls",
          "model_module_version": "1.5.0",
          "model_name": "ProgressStyleModel",
          "state": {
            "_model_module": "@jupyter-widgets/controls",
            "_model_module_version": "1.5.0",
            "_model_name": "ProgressStyleModel",
            "_view_count": null,
            "_view_module": "@jupyter-widgets/base",
            "_view_module_version": "1.2.0",
            "_view_name": "StyleView",
            "bar_color": null,
            "description_width": ""
          }
        },
        "203e2b766f3c491dba2191e37f0e3c3c": {
          "model_module": "@jupyter-widgets/controls",
          "model_module_version": "1.5.0",
          "model_name": "DescriptionStyleModel",
          "state": {
            "_model_module": "@jupyter-widgets/controls",
            "_model_module_version": "1.5.0",
            "_model_name": "DescriptionStyleModel",
            "_view_count": null,
            "_view_module": "@jupyter-widgets/base",
            "_view_module_version": "1.2.0",
            "_view_name": "StyleView",
            "description_width": ""
          }
        },
        "20560de6b46545a7884431d201de13a7": {
          "model_module": "@jupyter-widgets/base",
          "model_module_version": "1.2.0",
          "model_name": "LayoutModel",
          "state": {
            "_model_module": "@jupyter-widgets/base",
            "_model_module_version": "1.2.0",
            "_model_name": "LayoutModel",
            "_view_count": null,
            "_view_module": "@jupyter-widgets/base",
            "_view_module_version": "1.2.0",
            "_view_name": "LayoutView",
            "align_content": null,
            "align_items": null,
            "align_self": null,
            "border": null,
            "bottom": null,
            "display": null,
            "flex": null,
            "flex_flow": null,
            "grid_area": null,
            "grid_auto_columns": null,
            "grid_auto_flow": null,
            "grid_auto_rows": null,
            "grid_column": null,
            "grid_gap": null,
            "grid_row": null,
            "grid_template_areas": null,
            "grid_template_columns": null,
            "grid_template_rows": null,
            "height": null,
            "justify_content": null,
            "justify_items": null,
            "left": null,
            "margin": null,
            "max_height": null,
            "max_width": null,
            "min_height": null,
            "min_width": null,
            "object_fit": null,
            "object_position": null,
            "order": null,
            "overflow": null,
            "overflow_x": null,
            "overflow_y": null,
            "padding": null,
            "right": null,
            "top": null,
            "visibility": null,
            "width": null
          }
        },
        "21ea4bd257084bef94c470d98e9e8ce1": {
          "model_module": "@jupyter-widgets/base",
          "model_module_version": "1.2.0",
          "model_name": "LayoutModel",
          "state": {
            "_model_module": "@jupyter-widgets/base",
            "_model_module_version": "1.2.0",
            "_model_name": "LayoutModel",
            "_view_count": null,
            "_view_module": "@jupyter-widgets/base",
            "_view_module_version": "1.2.0",
            "_view_name": "LayoutView",
            "align_content": null,
            "align_items": null,
            "align_self": null,
            "border": null,
            "bottom": null,
            "display": null,
            "flex": null,
            "flex_flow": null,
            "grid_area": null,
            "grid_auto_columns": null,
            "grid_auto_flow": null,
            "grid_auto_rows": null,
            "grid_column": null,
            "grid_gap": null,
            "grid_row": null,
            "grid_template_areas": null,
            "grid_template_columns": null,
            "grid_template_rows": null,
            "height": null,
            "justify_content": null,
            "justify_items": null,
            "left": null,
            "margin": null,
            "max_height": null,
            "max_width": null,
            "min_height": null,
            "min_width": null,
            "object_fit": null,
            "object_position": null,
            "order": null,
            "overflow": null,
            "overflow_x": null,
            "overflow_y": null,
            "padding": null,
            "right": null,
            "top": null,
            "visibility": null,
            "width": null
          }
        },
        "223a8bbefdc94afea3b7448f821cc0bd": {
          "model_module": "@jupyter-widgets/base",
          "model_module_version": "1.2.0",
          "model_name": "LayoutModel",
          "state": {
            "_model_module": "@jupyter-widgets/base",
            "_model_module_version": "1.2.0",
            "_model_name": "LayoutModel",
            "_view_count": null,
            "_view_module": "@jupyter-widgets/base",
            "_view_module_version": "1.2.0",
            "_view_name": "LayoutView",
            "align_content": null,
            "align_items": null,
            "align_self": null,
            "border": null,
            "bottom": null,
            "display": null,
            "flex": null,
            "flex_flow": null,
            "grid_area": null,
            "grid_auto_columns": null,
            "grid_auto_flow": null,
            "grid_auto_rows": null,
            "grid_column": null,
            "grid_gap": null,
            "grid_row": null,
            "grid_template_areas": null,
            "grid_template_columns": null,
            "grid_template_rows": null,
            "height": null,
            "justify_content": null,
            "justify_items": null,
            "left": null,
            "margin": null,
            "max_height": null,
            "max_width": null,
            "min_height": null,
            "min_width": null,
            "object_fit": null,
            "object_position": null,
            "order": null,
            "overflow": null,
            "overflow_x": null,
            "overflow_y": null,
            "padding": null,
            "right": null,
            "top": null,
            "visibility": null,
            "width": null
          }
        },
        "25e63286e1aa4fd189f36e1bd46c3ecf": {
          "model_module": "@jupyter-widgets/base",
          "model_module_version": "1.2.0",
          "model_name": "LayoutModel",
          "state": {
            "_model_module": "@jupyter-widgets/base",
            "_model_module_version": "1.2.0",
            "_model_name": "LayoutModel",
            "_view_count": null,
            "_view_module": "@jupyter-widgets/base",
            "_view_module_version": "1.2.0",
            "_view_name": "LayoutView",
            "align_content": null,
            "align_items": null,
            "align_self": null,
            "border": null,
            "bottom": null,
            "display": null,
            "flex": null,
            "flex_flow": null,
            "grid_area": null,
            "grid_auto_columns": null,
            "grid_auto_flow": null,
            "grid_auto_rows": null,
            "grid_column": null,
            "grid_gap": null,
            "grid_row": null,
            "grid_template_areas": null,
            "grid_template_columns": null,
            "grid_template_rows": null,
            "height": null,
            "justify_content": null,
            "justify_items": null,
            "left": null,
            "margin": null,
            "max_height": null,
            "max_width": null,
            "min_height": null,
            "min_width": null,
            "object_fit": null,
            "object_position": null,
            "order": null,
            "overflow": null,
            "overflow_x": null,
            "overflow_y": null,
            "padding": null,
            "right": null,
            "top": null,
            "visibility": null,
            "width": null
          }
        },
        "285778e1598d40a898a23bb19e0c2242": {
          "model_module": "@jupyter-widgets/base",
          "model_module_version": "1.2.0",
          "model_name": "LayoutModel",
          "state": {
            "_model_module": "@jupyter-widgets/base",
            "_model_module_version": "1.2.0",
            "_model_name": "LayoutModel",
            "_view_count": null,
            "_view_module": "@jupyter-widgets/base",
            "_view_module_version": "1.2.0",
            "_view_name": "LayoutView",
            "align_content": null,
            "align_items": null,
            "align_self": null,
            "border": null,
            "bottom": null,
            "display": null,
            "flex": null,
            "flex_flow": null,
            "grid_area": null,
            "grid_auto_columns": null,
            "grid_auto_flow": null,
            "grid_auto_rows": null,
            "grid_column": null,
            "grid_gap": null,
            "grid_row": null,
            "grid_template_areas": null,
            "grid_template_columns": null,
            "grid_template_rows": null,
            "height": null,
            "justify_content": null,
            "justify_items": null,
            "left": null,
            "margin": null,
            "max_height": null,
            "max_width": null,
            "min_height": null,
            "min_width": null,
            "object_fit": null,
            "object_position": null,
            "order": null,
            "overflow": null,
            "overflow_x": null,
            "overflow_y": null,
            "padding": null,
            "right": null,
            "top": null,
            "visibility": null,
            "width": null
          }
        },
        "2de1932f321946c786a67c61d089e690": {
          "model_module": "@jupyter-widgets/controls",
          "model_module_version": "1.5.0",
          "model_name": "DescriptionStyleModel",
          "state": {
            "_model_module": "@jupyter-widgets/controls",
            "_model_module_version": "1.5.0",
            "_model_name": "DescriptionStyleModel",
            "_view_count": null,
            "_view_module": "@jupyter-widgets/base",
            "_view_module_version": "1.2.0",
            "_view_name": "StyleView",
            "description_width": ""
          }
        },
        "32b36960633f4258a889fca56cfa36ea": {
          "model_module": "@jupyter-widgets/controls",
          "model_module_version": "1.5.0",
          "model_name": "DescriptionStyleModel",
          "state": {
            "_model_module": "@jupyter-widgets/controls",
            "_model_module_version": "1.5.0",
            "_model_name": "DescriptionStyleModel",
            "_view_count": null,
            "_view_module": "@jupyter-widgets/base",
            "_view_module_version": "1.2.0",
            "_view_name": "StyleView",
            "description_width": ""
          }
        },
        "34db956727e74e6887eeb41fef60ca83": {
          "model_module": "@jupyter-widgets/base",
          "model_module_version": "1.2.0",
          "model_name": "LayoutModel",
          "state": {
            "_model_module": "@jupyter-widgets/base",
            "_model_module_version": "1.2.0",
            "_model_name": "LayoutModel",
            "_view_count": null,
            "_view_module": "@jupyter-widgets/base",
            "_view_module_version": "1.2.0",
            "_view_name": "LayoutView",
            "align_content": null,
            "align_items": null,
            "align_self": null,
            "border": null,
            "bottom": null,
            "display": null,
            "flex": null,
            "flex_flow": null,
            "grid_area": null,
            "grid_auto_columns": null,
            "grid_auto_flow": null,
            "grid_auto_rows": null,
            "grid_column": null,
            "grid_gap": null,
            "grid_row": null,
            "grid_template_areas": null,
            "grid_template_columns": null,
            "grid_template_rows": null,
            "height": null,
            "justify_content": null,
            "justify_items": null,
            "left": null,
            "margin": null,
            "max_height": null,
            "max_width": null,
            "min_height": null,
            "min_width": null,
            "object_fit": null,
            "object_position": null,
            "order": null,
            "overflow": null,
            "overflow_x": null,
            "overflow_y": null,
            "padding": null,
            "right": null,
            "top": null,
            "visibility": null,
            "width": null
          }
        },
        "40cec08a9c8548a780ca15ad104798cb": {
          "model_module": "@jupyter-widgets/controls",
          "model_module_version": "1.5.0",
          "model_name": "ProgressStyleModel",
          "state": {
            "_model_module": "@jupyter-widgets/controls",
            "_model_module_version": "1.5.0",
            "_model_name": "ProgressStyleModel",
            "_view_count": null,
            "_view_module": "@jupyter-widgets/base",
            "_view_module_version": "1.2.0",
            "_view_name": "StyleView",
            "bar_color": null,
            "description_width": ""
          }
        },
        "448cfec5c4d64fb4a4d00ebd98b1ca8a": {
          "model_module": "@jupyter-widgets/base",
          "model_module_version": "1.2.0",
          "model_name": "LayoutModel",
          "state": {
            "_model_module": "@jupyter-widgets/base",
            "_model_module_version": "1.2.0",
            "_model_name": "LayoutModel",
            "_view_count": null,
            "_view_module": "@jupyter-widgets/base",
            "_view_module_version": "1.2.0",
            "_view_name": "LayoutView",
            "align_content": null,
            "align_items": null,
            "align_self": null,
            "border": null,
            "bottom": null,
            "display": null,
            "flex": null,
            "flex_flow": null,
            "grid_area": null,
            "grid_auto_columns": null,
            "grid_auto_flow": null,
            "grid_auto_rows": null,
            "grid_column": null,
            "grid_gap": null,
            "grid_row": null,
            "grid_template_areas": null,
            "grid_template_columns": null,
            "grid_template_rows": null,
            "height": null,
            "justify_content": null,
            "justify_items": null,
            "left": null,
            "margin": null,
            "max_height": null,
            "max_width": null,
            "min_height": null,
            "min_width": null,
            "object_fit": null,
            "object_position": null,
            "order": null,
            "overflow": null,
            "overflow_x": null,
            "overflow_y": null,
            "padding": null,
            "right": null,
            "top": null,
            "visibility": null,
            "width": null
          }
        },
        "494c22befe5a4a69b164f506d0f9b959": {
          "model_module": "@jupyter-widgets/controls",
          "model_module_version": "1.5.0",
          "model_name": "HBoxModel",
          "state": {
            "_dom_classes": [],
            "_model_module": "@jupyter-widgets/controls",
            "_model_module_version": "1.5.0",
            "_model_name": "HBoxModel",
            "_view_count": null,
            "_view_module": "@jupyter-widgets/controls",
            "_view_module_version": "1.5.0",
            "_view_name": "HBoxView",
            "box_style": "",
            "children": [
              "IPY_MODEL_fc936a072fa146a3a68c7feb21e55024",
              "IPY_MODEL_00d02ecafcac45e19eadfa688756bc0b",
              "IPY_MODEL_15457cdf405546c6810a39d5b9457b94"
            ],
            "layout": "IPY_MODEL_e8bd563058274e78a7f81730e345c3d8"
          }
        },
        "4ac7f1537f8e40cd81ea147ccfe591fb": {
          "model_module": "@jupyter-widgets/controls",
          "model_module_version": "1.5.0",
          "model_name": "DescriptionStyleModel",
          "state": {
            "_model_module": "@jupyter-widgets/controls",
            "_model_module_version": "1.5.0",
            "_model_name": "DescriptionStyleModel",
            "_view_count": null,
            "_view_module": "@jupyter-widgets/base",
            "_view_module_version": "1.2.0",
            "_view_name": "StyleView",
            "description_width": ""
          }
        },
        "4cca30169bd24e34819ff1273e1b3f47": {
          "model_module": "@jupyter-widgets/base",
          "model_module_version": "1.2.0",
          "model_name": "LayoutModel",
          "state": {
            "_model_module": "@jupyter-widgets/base",
            "_model_module_version": "1.2.0",
            "_model_name": "LayoutModel",
            "_view_count": null,
            "_view_module": "@jupyter-widgets/base",
            "_view_module_version": "1.2.0",
            "_view_name": "LayoutView",
            "align_content": null,
            "align_items": null,
            "align_self": null,
            "border": null,
            "bottom": null,
            "display": null,
            "flex": null,
            "flex_flow": null,
            "grid_area": null,
            "grid_auto_columns": null,
            "grid_auto_flow": null,
            "grid_auto_rows": null,
            "grid_column": null,
            "grid_gap": null,
            "grid_row": null,
            "grid_template_areas": null,
            "grid_template_columns": null,
            "grid_template_rows": null,
            "height": null,
            "justify_content": null,
            "justify_items": null,
            "left": null,
            "margin": null,
            "max_height": null,
            "max_width": null,
            "min_height": null,
            "min_width": null,
            "object_fit": null,
            "object_position": null,
            "order": null,
            "overflow": null,
            "overflow_x": null,
            "overflow_y": null,
            "padding": null,
            "right": null,
            "top": null,
            "visibility": null,
            "width": null
          }
        },
        "568defdbff134a3581b9340a01f8f17b": {
          "model_module": "@jupyter-widgets/controls",
          "model_module_version": "1.5.0",
          "model_name": "HTMLModel",
          "state": {
            "_dom_classes": [],
            "_model_module": "@jupyter-widgets/controls",
            "_model_module_version": "1.5.0",
            "_model_name": "HTMLModel",
            "_view_count": null,
            "_view_module": "@jupyter-widgets/controls",
            "_view_module_version": "1.5.0",
            "_view_name": "HTMLView",
            "description": "",
            "description_tooltip": null,
            "layout": "IPY_MODEL_6761d2fbf7f14853a4a892c717aede06",
            "placeholder": "​",
            "style": "IPY_MODEL_2de1932f321946c786a67c61d089e690",
            "value": " 1111901/1111901 [00:29&lt;00:00, 37771.03it/s]"
          }
        },
        "5c8f22f1482145fd990617f8ce7e06cc": {
          "model_module": "@jupyter-widgets/controls",
          "model_module_version": "1.5.0",
          "model_name": "DescriptionStyleModel",
          "state": {
            "_model_module": "@jupyter-widgets/controls",
            "_model_module_version": "1.5.0",
            "_model_name": "DescriptionStyleModel",
            "_view_count": null,
            "_view_module": "@jupyter-widgets/base",
            "_view_module_version": "1.2.0",
            "_view_name": "StyleView",
            "description_width": ""
          }
        },
        "5d2cb8d84d8e46609bbac78559530327": {
          "model_module": "@jupyter-widgets/controls",
          "model_module_version": "1.5.0",
          "model_name": "HTMLModel",
          "state": {
            "_dom_classes": [],
            "_model_module": "@jupyter-widgets/controls",
            "_model_module_version": "1.5.0",
            "_model_name": "HTMLModel",
            "_view_count": null,
            "_view_module": "@jupyter-widgets/controls",
            "_view_module_version": "1.5.0",
            "_view_name": "HTMLView",
            "description": "",
            "description_tooltip": null,
            "layout": "IPY_MODEL_ceea5ecbcf4e468f9dac838779bc34bc",
            "placeholder": "​",
            "style": "IPY_MODEL_9d238cc109e8429985f9215451029d1b",
            "value": " 1111901/1111901 [01:38&lt;00:00, 11374.49it/s]"
          }
        },
        "6054f5e06a9d41b3bd6788c9313dc9ff": {
          "model_module": "@jupyter-widgets/base",
          "model_module_version": "1.2.0",
          "model_name": "LayoutModel",
          "state": {
            "_model_module": "@jupyter-widgets/base",
            "_model_module_version": "1.2.0",
            "_model_name": "LayoutModel",
            "_view_count": null,
            "_view_module": "@jupyter-widgets/base",
            "_view_module_version": "1.2.0",
            "_view_name": "LayoutView",
            "align_content": null,
            "align_items": null,
            "align_self": null,
            "border": null,
            "bottom": null,
            "display": null,
            "flex": null,
            "flex_flow": null,
            "grid_area": null,
            "grid_auto_columns": null,
            "grid_auto_flow": null,
            "grid_auto_rows": null,
            "grid_column": null,
            "grid_gap": null,
            "grid_row": null,
            "grid_template_areas": null,
            "grid_template_columns": null,
            "grid_template_rows": null,
            "height": null,
            "justify_content": null,
            "justify_items": null,
            "left": null,
            "margin": null,
            "max_height": null,
            "max_width": null,
            "min_height": null,
            "min_width": null,
            "object_fit": null,
            "object_position": null,
            "order": null,
            "overflow": null,
            "overflow_x": null,
            "overflow_y": null,
            "padding": null,
            "right": null,
            "top": null,
            "visibility": null,
            "width": null
          }
        },
        "608446f0ce284dc0a97f71eebff0b148": {
          "model_module": "@jupyter-widgets/base",
          "model_module_version": "1.2.0",
          "model_name": "LayoutModel",
          "state": {
            "_model_module": "@jupyter-widgets/base",
            "_model_module_version": "1.2.0",
            "_model_name": "LayoutModel",
            "_view_count": null,
            "_view_module": "@jupyter-widgets/base",
            "_view_module_version": "1.2.0",
            "_view_name": "LayoutView",
            "align_content": null,
            "align_items": null,
            "align_self": null,
            "border": null,
            "bottom": null,
            "display": null,
            "flex": null,
            "flex_flow": null,
            "grid_area": null,
            "grid_auto_columns": null,
            "grid_auto_flow": null,
            "grid_auto_rows": null,
            "grid_column": null,
            "grid_gap": null,
            "grid_row": null,
            "grid_template_areas": null,
            "grid_template_columns": null,
            "grid_template_rows": null,
            "height": null,
            "justify_content": null,
            "justify_items": null,
            "left": null,
            "margin": null,
            "max_height": null,
            "max_width": null,
            "min_height": null,
            "min_width": null,
            "object_fit": null,
            "object_position": null,
            "order": null,
            "overflow": null,
            "overflow_x": null,
            "overflow_y": null,
            "padding": null,
            "right": null,
            "top": null,
            "visibility": null,
            "width": null
          }
        },
        "62e86b715592448bbd4ca1a03720b1b9": {
          "model_module": "@jupyter-widgets/controls",
          "model_module_version": "1.5.0",
          "model_name": "HBoxModel",
          "state": {
            "_dom_classes": [],
            "_model_module": "@jupyter-widgets/controls",
            "_model_module_version": "1.5.0",
            "_model_name": "HBoxModel",
            "_view_count": null,
            "_view_module": "@jupyter-widgets/controls",
            "_view_module_version": "1.5.0",
            "_view_name": "HBoxView",
            "box_style": "",
            "children": [
              "IPY_MODEL_d4da34a7a8964662914e768d207878a5",
              "IPY_MODEL_13d2953a40c542e2acc64e7b6112de24",
              "IPY_MODEL_abda7ee9776a440abc8c247fb31b0b8b"
            ],
            "layout": "IPY_MODEL_6054f5e06a9d41b3bd6788c9313dc9ff"
          }
        },
        "633fd5a0d22248e5a6f74cdedc181e6d": {
          "model_module": "@jupyter-widgets/base",
          "model_module_version": "1.2.0",
          "model_name": "LayoutModel",
          "state": {
            "_model_module": "@jupyter-widgets/base",
            "_model_module_version": "1.2.0",
            "_model_name": "LayoutModel",
            "_view_count": null,
            "_view_module": "@jupyter-widgets/base",
            "_view_module_version": "1.2.0",
            "_view_name": "LayoutView",
            "align_content": null,
            "align_items": null,
            "align_self": null,
            "border": null,
            "bottom": null,
            "display": null,
            "flex": null,
            "flex_flow": null,
            "grid_area": null,
            "grid_auto_columns": null,
            "grid_auto_flow": null,
            "grid_auto_rows": null,
            "grid_column": null,
            "grid_gap": null,
            "grid_row": null,
            "grid_template_areas": null,
            "grid_template_columns": null,
            "grid_template_rows": null,
            "height": null,
            "justify_content": null,
            "justify_items": null,
            "left": null,
            "margin": null,
            "max_height": null,
            "max_width": null,
            "min_height": null,
            "min_width": null,
            "object_fit": null,
            "object_position": null,
            "order": null,
            "overflow": null,
            "overflow_x": null,
            "overflow_y": null,
            "padding": null,
            "right": null,
            "top": null,
            "visibility": null,
            "width": null
          }
        },
        "6761d2fbf7f14853a4a892c717aede06": {
          "model_module": "@jupyter-widgets/base",
          "model_module_version": "1.2.0",
          "model_name": "LayoutModel",
          "state": {
            "_model_module": "@jupyter-widgets/base",
            "_model_module_version": "1.2.0",
            "_model_name": "LayoutModel",
            "_view_count": null,
            "_view_module": "@jupyter-widgets/base",
            "_view_module_version": "1.2.0",
            "_view_name": "LayoutView",
            "align_content": null,
            "align_items": null,
            "align_self": null,
            "border": null,
            "bottom": null,
            "display": null,
            "flex": null,
            "flex_flow": null,
            "grid_area": null,
            "grid_auto_columns": null,
            "grid_auto_flow": null,
            "grid_auto_rows": null,
            "grid_column": null,
            "grid_gap": null,
            "grid_row": null,
            "grid_template_areas": null,
            "grid_template_columns": null,
            "grid_template_rows": null,
            "height": null,
            "justify_content": null,
            "justify_items": null,
            "left": null,
            "margin": null,
            "max_height": null,
            "max_width": null,
            "min_height": null,
            "min_width": null,
            "object_fit": null,
            "object_position": null,
            "order": null,
            "overflow": null,
            "overflow_x": null,
            "overflow_y": null,
            "padding": null,
            "right": null,
            "top": null,
            "visibility": null,
            "width": null
          }
        },
        "698d47b46c724d3aa195dde3557f7d25": {
          "model_module": "@jupyter-widgets/controls",
          "model_module_version": "1.5.0",
          "model_name": "FloatProgressModel",
          "state": {
            "_dom_classes": [],
            "_model_module": "@jupyter-widgets/controls",
            "_model_module_version": "1.5.0",
            "_model_name": "FloatProgressModel",
            "_view_count": null,
            "_view_module": "@jupyter-widgets/controls",
            "_view_module_version": "1.5.0",
            "_view_name": "ProgressView",
            "bar_style": "success",
            "description": "",
            "description_tooltip": null,
            "layout": "IPY_MODEL_827d2d1977b04cf385f6d68e86903bf2",
            "max": 1111901,
            "min": 0,
            "orientation": "horizontal",
            "style": "IPY_MODEL_b4015ce159b54535ae5c6a7c8e7ec584",
            "value": 1111901
          }
        },
        "6c7c010d2e534bee8394cfcedc421323": {
          "model_module": "@jupyter-widgets/base",
          "model_module_version": "1.2.0",
          "model_name": "LayoutModel",
          "state": {
            "_model_module": "@jupyter-widgets/base",
            "_model_module_version": "1.2.0",
            "_model_name": "LayoutModel",
            "_view_count": null,
            "_view_module": "@jupyter-widgets/base",
            "_view_module_version": "1.2.0",
            "_view_name": "LayoutView",
            "align_content": null,
            "align_items": null,
            "align_self": null,
            "border": null,
            "bottom": null,
            "display": null,
            "flex": null,
            "flex_flow": null,
            "grid_area": null,
            "grid_auto_columns": null,
            "grid_auto_flow": null,
            "grid_auto_rows": null,
            "grid_column": null,
            "grid_gap": null,
            "grid_row": null,
            "grid_template_areas": null,
            "grid_template_columns": null,
            "grid_template_rows": null,
            "height": null,
            "justify_content": null,
            "justify_items": null,
            "left": null,
            "margin": null,
            "max_height": null,
            "max_width": null,
            "min_height": null,
            "min_width": null,
            "object_fit": null,
            "object_position": null,
            "order": null,
            "overflow": null,
            "overflow_x": null,
            "overflow_y": null,
            "padding": null,
            "right": null,
            "top": null,
            "visibility": null,
            "width": null
          }
        },
        "6cba8704e5c8490da92ca699a1860b10": {
          "model_module": "@jupyter-widgets/base",
          "model_module_version": "1.2.0",
          "model_name": "LayoutModel",
          "state": {
            "_model_module": "@jupyter-widgets/base",
            "_model_module_version": "1.2.0",
            "_model_name": "LayoutModel",
            "_view_count": null,
            "_view_module": "@jupyter-widgets/base",
            "_view_module_version": "1.2.0",
            "_view_name": "LayoutView",
            "align_content": null,
            "align_items": null,
            "align_self": null,
            "border": null,
            "bottom": null,
            "display": null,
            "flex": null,
            "flex_flow": null,
            "grid_area": null,
            "grid_auto_columns": null,
            "grid_auto_flow": null,
            "grid_auto_rows": null,
            "grid_column": null,
            "grid_gap": null,
            "grid_row": null,
            "grid_template_areas": null,
            "grid_template_columns": null,
            "grid_template_rows": null,
            "height": null,
            "justify_content": null,
            "justify_items": null,
            "left": null,
            "margin": null,
            "max_height": null,
            "max_width": null,
            "min_height": null,
            "min_width": null,
            "object_fit": null,
            "object_position": null,
            "order": null,
            "overflow": null,
            "overflow_x": null,
            "overflow_y": null,
            "padding": null,
            "right": null,
            "top": null,
            "visibility": null,
            "width": null
          }
        },
        "73ffd0a012a342fb90890397fe58e773": {
          "model_module": "@jupyter-widgets/controls",
          "model_module_version": "1.5.0",
          "model_name": "HTMLModel",
          "state": {
            "_dom_classes": [],
            "_model_module": "@jupyter-widgets/controls",
            "_model_module_version": "1.5.0",
            "_model_name": "HTMLModel",
            "_view_count": null,
            "_view_module": "@jupyter-widgets/controls",
            "_view_module_version": "1.5.0",
            "_view_name": "HTMLView",
            "description": "",
            "description_tooltip": null,
            "layout": "IPY_MODEL_d5f305aa945f46149fea575e4974cd9d",
            "placeholder": "​",
            "style": "IPY_MODEL_32b36960633f4258a889fca56cfa36ea",
            "value": "100%"
          }
        },
        "7643bc93a4a740afa4ee09bb955784fe": {
          "model_module": "@jupyter-widgets/base",
          "model_module_version": "1.2.0",
          "model_name": "LayoutModel",
          "state": {
            "_model_module": "@jupyter-widgets/base",
            "_model_module_version": "1.2.0",
            "_model_name": "LayoutModel",
            "_view_count": null,
            "_view_module": "@jupyter-widgets/base",
            "_view_module_version": "1.2.0",
            "_view_name": "LayoutView",
            "align_content": null,
            "align_items": null,
            "align_self": null,
            "border": null,
            "bottom": null,
            "display": null,
            "flex": null,
            "flex_flow": null,
            "grid_area": null,
            "grid_auto_columns": null,
            "grid_auto_flow": null,
            "grid_auto_rows": null,
            "grid_column": null,
            "grid_gap": null,
            "grid_row": null,
            "grid_template_areas": null,
            "grid_template_columns": null,
            "grid_template_rows": null,
            "height": null,
            "justify_content": null,
            "justify_items": null,
            "left": null,
            "margin": null,
            "max_height": null,
            "max_width": null,
            "min_height": null,
            "min_width": null,
            "object_fit": null,
            "object_position": null,
            "order": null,
            "overflow": null,
            "overflow_x": null,
            "overflow_y": null,
            "padding": null,
            "right": null,
            "top": null,
            "visibility": null,
            "width": null
          }
        },
        "7a6c5567edd14a0a862f2640dc23b197": {
          "model_module": "@jupyter-widgets/controls",
          "model_module_version": "1.5.0",
          "model_name": "ProgressStyleModel",
          "state": {
            "_model_module": "@jupyter-widgets/controls",
            "_model_module_version": "1.5.0",
            "_model_name": "ProgressStyleModel",
            "_view_count": null,
            "_view_module": "@jupyter-widgets/base",
            "_view_module_version": "1.2.0",
            "_view_name": "StyleView",
            "bar_color": null,
            "description_width": ""
          }
        },
        "7ebe281fe3764d06bf75b84b444744de": {
          "model_module": "@jupyter-widgets/base",
          "model_module_version": "1.2.0",
          "model_name": "LayoutModel",
          "state": {
            "_model_module": "@jupyter-widgets/base",
            "_model_module_version": "1.2.0",
            "_model_name": "LayoutModel",
            "_view_count": null,
            "_view_module": "@jupyter-widgets/base",
            "_view_module_version": "1.2.0",
            "_view_name": "LayoutView",
            "align_content": null,
            "align_items": null,
            "align_self": null,
            "border": null,
            "bottom": null,
            "display": null,
            "flex": null,
            "flex_flow": null,
            "grid_area": null,
            "grid_auto_columns": null,
            "grid_auto_flow": null,
            "grid_auto_rows": null,
            "grid_column": null,
            "grid_gap": null,
            "grid_row": null,
            "grid_template_areas": null,
            "grid_template_columns": null,
            "grid_template_rows": null,
            "height": null,
            "justify_content": null,
            "justify_items": null,
            "left": null,
            "margin": null,
            "max_height": null,
            "max_width": null,
            "min_height": null,
            "min_width": null,
            "object_fit": null,
            "object_position": null,
            "order": null,
            "overflow": null,
            "overflow_x": null,
            "overflow_y": null,
            "padding": null,
            "right": null,
            "top": null,
            "visibility": null,
            "width": null
          }
        },
        "827d2d1977b04cf385f6d68e86903bf2": {
          "model_module": "@jupyter-widgets/base",
          "model_module_version": "1.2.0",
          "model_name": "LayoutModel",
          "state": {
            "_model_module": "@jupyter-widgets/base",
            "_model_module_version": "1.2.0",
            "_model_name": "LayoutModel",
            "_view_count": null,
            "_view_module": "@jupyter-widgets/base",
            "_view_module_version": "1.2.0",
            "_view_name": "LayoutView",
            "align_content": null,
            "align_items": null,
            "align_self": null,
            "border": null,
            "bottom": null,
            "display": null,
            "flex": null,
            "flex_flow": null,
            "grid_area": null,
            "grid_auto_columns": null,
            "grid_auto_flow": null,
            "grid_auto_rows": null,
            "grid_column": null,
            "grid_gap": null,
            "grid_row": null,
            "grid_template_areas": null,
            "grid_template_columns": null,
            "grid_template_rows": null,
            "height": null,
            "justify_content": null,
            "justify_items": null,
            "left": null,
            "margin": null,
            "max_height": null,
            "max_width": null,
            "min_height": null,
            "min_width": null,
            "object_fit": null,
            "object_position": null,
            "order": null,
            "overflow": null,
            "overflow_x": null,
            "overflow_y": null,
            "padding": null,
            "right": null,
            "top": null,
            "visibility": null,
            "width": null
          }
        },
        "8411bdbf22874200ab9483d69bcebc8e": {
          "model_module": "@jupyter-widgets/controls",
          "model_module_version": "1.5.0",
          "model_name": "DescriptionStyleModel",
          "state": {
            "_model_module": "@jupyter-widgets/controls",
            "_model_module_version": "1.5.0",
            "_model_name": "DescriptionStyleModel",
            "_view_count": null,
            "_view_module": "@jupyter-widgets/base",
            "_view_module_version": "1.2.0",
            "_view_name": "StyleView",
            "description_width": ""
          }
        },
        "8af544d6bcf04d6fa258eb77fb03349b": {
          "model_module": "@jupyter-widgets/controls",
          "model_module_version": "1.5.0",
          "model_name": "FloatProgressModel",
          "state": {
            "_dom_classes": [],
            "_model_module": "@jupyter-widgets/controls",
            "_model_module_version": "1.5.0",
            "_model_name": "FloatProgressModel",
            "_view_count": null,
            "_view_module": "@jupyter-widgets/controls",
            "_view_module_version": "1.5.0",
            "_view_name": "ProgressView",
            "bar_style": "success",
            "description": "",
            "description_tooltip": null,
            "layout": "IPY_MODEL_ee1c1d2163b245488be38fa132d6e459",
            "max": 370634,
            "min": 0,
            "orientation": "horizontal",
            "style": "IPY_MODEL_c3bfee661ab847ceaeee131f334eed2f",
            "value": 370634
          }
        },
        "8bb1479610164740ac0434c39dd57e0f": {
          "model_module": "@jupyter-widgets/controls",
          "model_module_version": "1.5.0",
          "model_name": "HBoxModel",
          "state": {
            "_dom_classes": [],
            "_model_module": "@jupyter-widgets/controls",
            "_model_module_version": "1.5.0",
            "_model_name": "HBoxModel",
            "_view_count": null,
            "_view_module": "@jupyter-widgets/controls",
            "_view_module_version": "1.5.0",
            "_view_name": "HBoxView",
            "box_style": "",
            "children": [
              "IPY_MODEL_db542aa750fc45a3a70ed66fd765705b",
              "IPY_MODEL_b3021c1a7814488781b9752625d99573",
              "IPY_MODEL_568defdbff134a3581b9340a01f8f17b"
            ],
            "layout": "IPY_MODEL_25e63286e1aa4fd189f36e1bd46c3ecf"
          }
        },
        "8c12b1a555034d6fa58d887ce24e7c84": {
          "model_module": "@jupyter-widgets/base",
          "model_module_version": "1.2.0",
          "model_name": "LayoutModel",
          "state": {
            "_model_module": "@jupyter-widgets/base",
            "_model_module_version": "1.2.0",
            "_model_name": "LayoutModel",
            "_view_count": null,
            "_view_module": "@jupyter-widgets/base",
            "_view_module_version": "1.2.0",
            "_view_name": "LayoutView",
            "align_content": null,
            "align_items": null,
            "align_self": null,
            "border": null,
            "bottom": null,
            "display": null,
            "flex": null,
            "flex_flow": null,
            "grid_area": null,
            "grid_auto_columns": null,
            "grid_auto_flow": null,
            "grid_auto_rows": null,
            "grid_column": null,
            "grid_gap": null,
            "grid_row": null,
            "grid_template_areas": null,
            "grid_template_columns": null,
            "grid_template_rows": null,
            "height": null,
            "justify_content": null,
            "justify_items": null,
            "left": null,
            "margin": null,
            "max_height": null,
            "max_width": null,
            "min_height": null,
            "min_width": null,
            "object_fit": null,
            "object_position": null,
            "order": null,
            "overflow": null,
            "overflow_x": null,
            "overflow_y": null,
            "padding": null,
            "right": null,
            "top": null,
            "visibility": null,
            "width": null
          }
        },
        "8d1c2a6854e04dda9a6d42d3a2e31be1": {
          "model_module": "@jupyter-widgets/base",
          "model_module_version": "1.2.0",
          "model_name": "LayoutModel",
          "state": {
            "_model_module": "@jupyter-widgets/base",
            "_model_module_version": "1.2.0",
            "_model_name": "LayoutModel",
            "_view_count": null,
            "_view_module": "@jupyter-widgets/base",
            "_view_module_version": "1.2.0",
            "_view_name": "LayoutView",
            "align_content": null,
            "align_items": null,
            "align_self": null,
            "border": null,
            "bottom": null,
            "display": null,
            "flex": null,
            "flex_flow": null,
            "grid_area": null,
            "grid_auto_columns": null,
            "grid_auto_flow": null,
            "grid_auto_rows": null,
            "grid_column": null,
            "grid_gap": null,
            "grid_row": null,
            "grid_template_areas": null,
            "grid_template_columns": null,
            "grid_template_rows": null,
            "height": null,
            "justify_content": null,
            "justify_items": null,
            "left": null,
            "margin": null,
            "max_height": null,
            "max_width": null,
            "min_height": null,
            "min_width": null,
            "object_fit": null,
            "object_position": null,
            "order": null,
            "overflow": null,
            "overflow_x": null,
            "overflow_y": null,
            "padding": null,
            "right": null,
            "top": null,
            "visibility": null,
            "width": null
          }
        },
        "8fc7489a907b4bddafdb17f8abf13d89": {
          "model_module": "@jupyter-widgets/controls",
          "model_module_version": "1.5.0",
          "model_name": "ProgressStyleModel",
          "state": {
            "_model_module": "@jupyter-widgets/controls",
            "_model_module_version": "1.5.0",
            "_model_name": "ProgressStyleModel",
            "_view_count": null,
            "_view_module": "@jupyter-widgets/base",
            "_view_module_version": "1.2.0",
            "_view_name": "StyleView",
            "bar_color": null,
            "description_width": ""
          }
        },
        "99619acd8ed94c028abf8b8b8d12bcd8": {
          "model_module": "@jupyter-widgets/controls",
          "model_module_version": "1.5.0",
          "model_name": "HTMLModel",
          "state": {
            "_dom_classes": [],
            "_model_module": "@jupyter-widgets/controls",
            "_model_module_version": "1.5.0",
            "_model_name": "HTMLModel",
            "_view_count": null,
            "_view_module": "@jupyter-widgets/controls",
            "_view_module_version": "1.5.0",
            "_view_name": "HTMLView",
            "description": "",
            "description_tooltip": null,
            "layout": "IPY_MODEL_0b5095a172094b53bb1aa6f63ddbf232",
            "placeholder": "​",
            "style": "IPY_MODEL_f40121e54d344b699e1a16d29c55e2ef",
            "value": "100%"
          }
        },
        "9a8dd43d2597478188b866349e42486d": {
          "model_module": "@jupyter-widgets/controls",
          "model_module_version": "1.5.0",
          "model_name": "HTMLModel",
          "state": {
            "_dom_classes": [],
            "_model_module": "@jupyter-widgets/controls",
            "_model_module_version": "1.5.0",
            "_model_name": "HTMLModel",
            "_view_count": null,
            "_view_module": "@jupyter-widgets/controls",
            "_view_module_version": "1.5.0",
            "_view_name": "HTMLView",
            "description": "",
            "description_tooltip": null,
            "layout": "IPY_MODEL_1296383782fb4339b5009b0bfa052f5e",
            "placeholder": "​",
            "style": "IPY_MODEL_b81c86ad82d34da7b4bebe8380da8ff0",
            "value": " 370634/370634 [00:32&lt;00:00, 11806.65it/s]"
          }
        },
        "9d238cc109e8429985f9215451029d1b": {
          "model_module": "@jupyter-widgets/controls",
          "model_module_version": "1.5.0",
          "model_name": "DescriptionStyleModel",
          "state": {
            "_model_module": "@jupyter-widgets/controls",
            "_model_module_version": "1.5.0",
            "_model_name": "DescriptionStyleModel",
            "_view_count": null,
            "_view_module": "@jupyter-widgets/base",
            "_view_module_version": "1.2.0",
            "_view_name": "StyleView",
            "description_width": ""
          }
        },
        "a3d1d6c3bdf14f7784394f4cc2525d40": {
          "model_module": "@jupyter-widgets/controls",
          "model_module_version": "1.5.0",
          "model_name": "FloatProgressModel",
          "state": {
            "_dom_classes": [],
            "_model_module": "@jupyter-widgets/controls",
            "_model_module_version": "1.5.0",
            "_model_name": "FloatProgressModel",
            "_view_count": null,
            "_view_module": "@jupyter-widgets/controls",
            "_view_module_version": "1.5.0",
            "_view_name": "ProgressView",
            "bar_style": "success",
            "description": "",
            "description_tooltip": null,
            "layout": "IPY_MODEL_ff3f5291fc4a4c54a498814fde1beee5",
            "max": 370634,
            "min": 0,
            "orientation": "horizontal",
            "style": "IPY_MODEL_ad32ee4d25ad44c48605a9467cfd6b07",
            "value": 370634
          }
        },
        "a662e0ae970746a49e736462c5394399": {
          "model_module": "@jupyter-widgets/controls",
          "model_module_version": "1.5.0",
          "model_name": "DescriptionStyleModel",
          "state": {
            "_model_module": "@jupyter-widgets/controls",
            "_model_module_version": "1.5.0",
            "_model_name": "DescriptionStyleModel",
            "_view_count": null,
            "_view_module": "@jupyter-widgets/base",
            "_view_module_version": "1.2.0",
            "_view_name": "StyleView",
            "description_width": ""
          }
        },
        "ab53b6adf9a94112ac8f039e5e49b8ab": {
          "model_module": "@jupyter-widgets/controls",
          "model_module_version": "1.5.0",
          "model_name": "DescriptionStyleModel",
          "state": {
            "_model_module": "@jupyter-widgets/controls",
            "_model_module_version": "1.5.0",
            "_model_name": "DescriptionStyleModel",
            "_view_count": null,
            "_view_module": "@jupyter-widgets/base",
            "_view_module_version": "1.2.0",
            "_view_name": "StyleView",
            "description_width": ""
          }
        },
        "abda7ee9776a440abc8c247fb31b0b8b": {
          "model_module": "@jupyter-widgets/controls",
          "model_module_version": "1.5.0",
          "model_name": "HTMLModel",
          "state": {
            "_dom_classes": [],
            "_model_module": "@jupyter-widgets/controls",
            "_model_module_version": "1.5.0",
            "_model_name": "HTMLModel",
            "_view_count": null,
            "_view_module": "@jupyter-widgets/controls",
            "_view_module_version": "1.5.0",
            "_view_name": "HTMLView",
            "description": "",
            "description_tooltip": null,
            "layout": "IPY_MODEL_7ebe281fe3764d06bf75b84b444744de",
            "placeholder": "​",
            "style": "IPY_MODEL_ab53b6adf9a94112ac8f039e5e49b8ab",
            "value": " 1111901/1111901 [01:38&lt;00:00, 11748.21it/s]"
          }
        },
        "ad32ee4d25ad44c48605a9467cfd6b07": {
          "model_module": "@jupyter-widgets/controls",
          "model_module_version": "1.5.0",
          "model_name": "ProgressStyleModel",
          "state": {
            "_model_module": "@jupyter-widgets/controls",
            "_model_module_version": "1.5.0",
            "_model_name": "ProgressStyleModel",
            "_view_count": null,
            "_view_module": "@jupyter-widgets/base",
            "_view_module_version": "1.2.0",
            "_view_name": "StyleView",
            "bar_color": null,
            "description_width": ""
          }
        },
        "b3021c1a7814488781b9752625d99573": {
          "model_module": "@jupyter-widgets/controls",
          "model_module_version": "1.5.0",
          "model_name": "FloatProgressModel",
          "state": {
            "_dom_classes": [],
            "_model_module": "@jupyter-widgets/controls",
            "_model_module_version": "1.5.0",
            "_model_name": "FloatProgressModel",
            "_view_count": null,
            "_view_module": "@jupyter-widgets/controls",
            "_view_module_version": "1.5.0",
            "_view_name": "ProgressView",
            "bar_style": "success",
            "description": "",
            "description_tooltip": null,
            "layout": "IPY_MODEL_eaa2489f4dca43a0865011aff392586c",
            "max": 1111901,
            "min": 0,
            "orientation": "horizontal",
            "style": "IPY_MODEL_7a6c5567edd14a0a862f2640dc23b197",
            "value": 1111901
          }
        },
        "b4015ce159b54535ae5c6a7c8e7ec584": {
          "model_module": "@jupyter-widgets/controls",
          "model_module_version": "1.5.0",
          "model_name": "ProgressStyleModel",
          "state": {
            "_model_module": "@jupyter-widgets/controls",
            "_model_module_version": "1.5.0",
            "_model_name": "ProgressStyleModel",
            "_view_count": null,
            "_view_module": "@jupyter-widgets/base",
            "_view_module_version": "1.2.0",
            "_view_name": "StyleView",
            "bar_color": null,
            "description_width": ""
          }
        },
        "b81c86ad82d34da7b4bebe8380da8ff0": {
          "model_module": "@jupyter-widgets/controls",
          "model_module_version": "1.5.0",
          "model_name": "DescriptionStyleModel",
          "state": {
            "_model_module": "@jupyter-widgets/controls",
            "_model_module_version": "1.5.0",
            "_model_name": "DescriptionStyleModel",
            "_view_count": null,
            "_view_module": "@jupyter-widgets/base",
            "_view_module_version": "1.2.0",
            "_view_name": "StyleView",
            "description_width": ""
          }
        },
        "baf0610383734947b71f6459300b0c17": {
          "model_module": "@jupyter-widgets/controls",
          "model_module_version": "1.5.0",
          "model_name": "HBoxModel",
          "state": {
            "_dom_classes": [],
            "_model_module": "@jupyter-widgets/controls",
            "_model_module_version": "1.5.0",
            "_model_name": "HBoxModel",
            "_view_count": null,
            "_view_module": "@jupyter-widgets/controls",
            "_view_module_version": "1.5.0",
            "_view_name": "HBoxView",
            "box_style": "",
            "children": [
              "IPY_MODEL_73ffd0a012a342fb90890397fe58e773",
              "IPY_MODEL_f81473355e3a4117a8daba5a86c398e0",
              "IPY_MODEL_fe3b0ad9450a4b8e9e104e8c1dbb6436"
            ],
            "layout": "IPY_MODEL_6cba8704e5c8490da92ca699a1860b10"
          }
        },
        "c1e9fcb51e384ae8a4039f8329b5989c": {
          "model_module": "@jupyter-widgets/controls",
          "model_module_version": "1.5.0",
          "model_name": "HBoxModel",
          "state": {
            "_dom_classes": [],
            "_model_module": "@jupyter-widgets/controls",
            "_model_module_version": "1.5.0",
            "_model_name": "HBoxModel",
            "_view_count": null,
            "_view_module": "@jupyter-widgets/controls",
            "_view_module_version": "1.5.0",
            "_view_name": "HBoxView",
            "box_style": "",
            "children": [
              "IPY_MODEL_da0c87d2ccf1454aaaadc33ec5bc16a4",
              "IPY_MODEL_8af544d6bcf04d6fa258eb77fb03349b",
              "IPY_MODEL_ee4b8130d1e5439d9bf1d1961d1f1719"
            ],
            "layout": "IPY_MODEL_20560de6b46545a7884431d201de13a7"
          }
        },
        "c3a52a1a05c84c888f8d5ec8f589b1d7": {
          "model_module": "@jupyter-widgets/base",
          "model_module_version": "1.2.0",
          "model_name": "LayoutModel",
          "state": {
            "_model_module": "@jupyter-widgets/base",
            "_model_module_version": "1.2.0",
            "_model_name": "LayoutModel",
            "_view_count": null,
            "_view_module": "@jupyter-widgets/base",
            "_view_module_version": "1.2.0",
            "_view_name": "LayoutView",
            "align_content": null,
            "align_items": null,
            "align_self": null,
            "border": null,
            "bottom": null,
            "display": null,
            "flex": null,
            "flex_flow": null,
            "grid_area": null,
            "grid_auto_columns": null,
            "grid_auto_flow": null,
            "grid_auto_rows": null,
            "grid_column": null,
            "grid_gap": null,
            "grid_row": null,
            "grid_template_areas": null,
            "grid_template_columns": null,
            "grid_template_rows": null,
            "height": null,
            "justify_content": null,
            "justify_items": null,
            "left": null,
            "margin": null,
            "max_height": null,
            "max_width": null,
            "min_height": null,
            "min_width": null,
            "object_fit": null,
            "object_position": null,
            "order": null,
            "overflow": null,
            "overflow_x": null,
            "overflow_y": null,
            "padding": null,
            "right": null,
            "top": null,
            "visibility": null,
            "width": null
          }
        },
        "c3bfee661ab847ceaeee131f334eed2f": {
          "model_module": "@jupyter-widgets/controls",
          "model_module_version": "1.5.0",
          "model_name": "ProgressStyleModel",
          "state": {
            "_model_module": "@jupyter-widgets/controls",
            "_model_module_version": "1.5.0",
            "_model_name": "ProgressStyleModel",
            "_view_count": null,
            "_view_module": "@jupyter-widgets/base",
            "_view_module_version": "1.2.0",
            "_view_name": "StyleView",
            "bar_color": null,
            "description_width": ""
          }
        },
        "c4559ff6870f45d98e03739aafedb605": {
          "model_module": "@jupyter-widgets/controls",
          "model_module_version": "1.5.0",
          "model_name": "HTMLModel",
          "state": {
            "_dom_classes": [],
            "_model_module": "@jupyter-widgets/controls",
            "_model_module_version": "1.5.0",
            "_model_name": "HTMLModel",
            "_view_count": null,
            "_view_module": "@jupyter-widgets/controls",
            "_view_module_version": "1.5.0",
            "_view_name": "HTMLView",
            "description": "",
            "description_tooltip": null,
            "layout": "IPY_MODEL_608446f0ce284dc0a97f71eebff0b148",
            "placeholder": "​",
            "style": "IPY_MODEL_0ce99baf89254de4bb37e99af40f26db",
            "value": "100%"
          }
        },
        "c4e0872b86f7420cb1855f6bf208c9ad": {
          "model_module": "@jupyter-widgets/controls",
          "model_module_version": "1.5.0",
          "model_name": "HTMLModel",
          "state": {
            "_dom_classes": [],
            "_model_module": "@jupyter-widgets/controls",
            "_model_module_version": "1.5.0",
            "_model_name": "HTMLModel",
            "_view_count": null,
            "_view_module": "@jupyter-widgets/controls",
            "_view_module_version": "1.5.0",
            "_view_name": "HTMLView",
            "description": "",
            "description_tooltip": null,
            "layout": "IPY_MODEL_8d1c2a6854e04dda9a6d42d3a2e31be1",
            "placeholder": "​",
            "style": "IPY_MODEL_f3d0c5be09414a3c9012d295237660d1",
            "value": " 370634/370634 [00:32&lt;00:00, 10953.78it/s]"
          }
        },
        "c5400e3fc1d64a218ab06901ab4a52bb": {
          "model_module": "@jupyter-widgets/base",
          "model_module_version": "1.2.0",
          "model_name": "LayoutModel",
          "state": {
            "_model_module": "@jupyter-widgets/base",
            "_model_module_version": "1.2.0",
            "_model_name": "LayoutModel",
            "_view_count": null,
            "_view_module": "@jupyter-widgets/base",
            "_view_module_version": "1.2.0",
            "_view_name": "LayoutView",
            "align_content": null,
            "align_items": null,
            "align_self": null,
            "border": null,
            "bottom": null,
            "display": null,
            "flex": null,
            "flex_flow": null,
            "grid_area": null,
            "grid_auto_columns": null,
            "grid_auto_flow": null,
            "grid_auto_rows": null,
            "grid_column": null,
            "grid_gap": null,
            "grid_row": null,
            "grid_template_areas": null,
            "grid_template_columns": null,
            "grid_template_rows": null,
            "height": null,
            "justify_content": null,
            "justify_items": null,
            "left": null,
            "margin": null,
            "max_height": null,
            "max_width": null,
            "min_height": null,
            "min_width": null,
            "object_fit": null,
            "object_position": null,
            "order": null,
            "overflow": null,
            "overflow_x": null,
            "overflow_y": null,
            "padding": null,
            "right": null,
            "top": null,
            "visibility": null,
            "width": null
          }
        },
        "cc53a6aced34431fb5afb9de39630031": {
          "model_module": "@jupyter-widgets/base",
          "model_module_version": "1.2.0",
          "model_name": "LayoutModel",
          "state": {
            "_model_module": "@jupyter-widgets/base",
            "_model_module_version": "1.2.0",
            "_model_name": "LayoutModel",
            "_view_count": null,
            "_view_module": "@jupyter-widgets/base",
            "_view_module_version": "1.2.0",
            "_view_name": "LayoutView",
            "align_content": null,
            "align_items": null,
            "align_self": null,
            "border": null,
            "bottom": null,
            "display": null,
            "flex": null,
            "flex_flow": null,
            "grid_area": null,
            "grid_auto_columns": null,
            "grid_auto_flow": null,
            "grid_auto_rows": null,
            "grid_column": null,
            "grid_gap": null,
            "grid_row": null,
            "grid_template_areas": null,
            "grid_template_columns": null,
            "grid_template_rows": null,
            "height": null,
            "justify_content": null,
            "justify_items": null,
            "left": null,
            "margin": null,
            "max_height": null,
            "max_width": null,
            "min_height": null,
            "min_width": null,
            "object_fit": null,
            "object_position": null,
            "order": null,
            "overflow": null,
            "overflow_x": null,
            "overflow_y": null,
            "padding": null,
            "right": null,
            "top": null,
            "visibility": null,
            "width": null
          }
        },
        "cd8f721decc84a999ea0ca799b194806": {
          "model_module": "@jupyter-widgets/controls",
          "model_module_version": "1.5.0",
          "model_name": "DescriptionStyleModel",
          "state": {
            "_model_module": "@jupyter-widgets/controls",
            "_model_module_version": "1.5.0",
            "_model_name": "DescriptionStyleModel",
            "_view_count": null,
            "_view_module": "@jupyter-widgets/base",
            "_view_module_version": "1.2.0",
            "_view_name": "StyleView",
            "description_width": ""
          }
        },
        "ceea5ecbcf4e468f9dac838779bc34bc": {
          "model_module": "@jupyter-widgets/base",
          "model_module_version": "1.2.0",
          "model_name": "LayoutModel",
          "state": {
            "_model_module": "@jupyter-widgets/base",
            "_model_module_version": "1.2.0",
            "_model_name": "LayoutModel",
            "_view_count": null,
            "_view_module": "@jupyter-widgets/base",
            "_view_module_version": "1.2.0",
            "_view_name": "LayoutView",
            "align_content": null,
            "align_items": null,
            "align_self": null,
            "border": null,
            "bottom": null,
            "display": null,
            "flex": null,
            "flex_flow": null,
            "grid_area": null,
            "grid_auto_columns": null,
            "grid_auto_flow": null,
            "grid_auto_rows": null,
            "grid_column": null,
            "grid_gap": null,
            "grid_row": null,
            "grid_template_areas": null,
            "grid_template_columns": null,
            "grid_template_rows": null,
            "height": null,
            "justify_content": null,
            "justify_items": null,
            "left": null,
            "margin": null,
            "max_height": null,
            "max_width": null,
            "min_height": null,
            "min_width": null,
            "object_fit": null,
            "object_position": null,
            "order": null,
            "overflow": null,
            "overflow_x": null,
            "overflow_y": null,
            "padding": null,
            "right": null,
            "top": null,
            "visibility": null,
            "width": null
          }
        },
        "cf4d9c748bb74d9b98eac0efe7fd0bcf": {
          "model_module": "@jupyter-widgets/controls",
          "model_module_version": "1.5.0",
          "model_name": "HBoxModel",
          "state": {
            "_dom_classes": [],
            "_model_module": "@jupyter-widgets/controls",
            "_model_module_version": "1.5.0",
            "_model_name": "HBoxModel",
            "_view_count": null,
            "_view_module": "@jupyter-widgets/controls",
            "_view_module_version": "1.5.0",
            "_view_name": "HBoxView",
            "box_style": "",
            "children": [
              "IPY_MODEL_99619acd8ed94c028abf8b8b8d12bcd8",
              "IPY_MODEL_698d47b46c724d3aa195dde3557f7d25",
              "IPY_MODEL_5d2cb8d84d8e46609bbac78559530327"
            ],
            "layout": "IPY_MODEL_cc53a6aced34431fb5afb9de39630031"
          }
        },
        "d4da34a7a8964662914e768d207878a5": {
          "model_module": "@jupyter-widgets/controls",
          "model_module_version": "1.5.0",
          "model_name": "HTMLModel",
          "state": {
            "_dom_classes": [],
            "_model_module": "@jupyter-widgets/controls",
            "_model_module_version": "1.5.0",
            "_model_name": "HTMLModel",
            "_view_count": null,
            "_view_module": "@jupyter-widgets/controls",
            "_view_module_version": "1.5.0",
            "_view_name": "HTMLView",
            "description": "",
            "description_tooltip": null,
            "layout": "IPY_MODEL_223a8bbefdc94afea3b7448f821cc0bd",
            "placeholder": "​",
            "style": "IPY_MODEL_cd8f721decc84a999ea0ca799b194806",
            "value": "100%"
          }
        },
        "d5f305aa945f46149fea575e4974cd9d": {
          "model_module": "@jupyter-widgets/base",
          "model_module_version": "1.2.0",
          "model_name": "LayoutModel",
          "state": {
            "_model_module": "@jupyter-widgets/base",
            "_model_module_version": "1.2.0",
            "_model_name": "LayoutModel",
            "_view_count": null,
            "_view_module": "@jupyter-widgets/base",
            "_view_module_version": "1.2.0",
            "_view_name": "LayoutView",
            "align_content": null,
            "align_items": null,
            "align_self": null,
            "border": null,
            "bottom": null,
            "display": null,
            "flex": null,
            "flex_flow": null,
            "grid_area": null,
            "grid_auto_columns": null,
            "grid_auto_flow": null,
            "grid_auto_rows": null,
            "grid_column": null,
            "grid_gap": null,
            "grid_row": null,
            "grid_template_areas": null,
            "grid_template_columns": null,
            "grid_template_rows": null,
            "height": null,
            "justify_content": null,
            "justify_items": null,
            "left": null,
            "margin": null,
            "max_height": null,
            "max_width": null,
            "min_height": null,
            "min_width": null,
            "object_fit": null,
            "object_position": null,
            "order": null,
            "overflow": null,
            "overflow_x": null,
            "overflow_y": null,
            "padding": null,
            "right": null,
            "top": null,
            "visibility": null,
            "width": null
          }
        },
        "da0c87d2ccf1454aaaadc33ec5bc16a4": {
          "model_module": "@jupyter-widgets/controls",
          "model_module_version": "1.5.0",
          "model_name": "HTMLModel",
          "state": {
            "_dom_classes": [],
            "_model_module": "@jupyter-widgets/controls",
            "_model_module_version": "1.5.0",
            "_model_name": "HTMLModel",
            "_view_count": null,
            "_view_module": "@jupyter-widgets/controls",
            "_view_module_version": "1.5.0",
            "_view_name": "HTMLView",
            "description": "",
            "description_tooltip": null,
            "layout": "IPY_MODEL_285778e1598d40a898a23bb19e0c2242",
            "placeholder": "​",
            "style": "IPY_MODEL_203e2b766f3c491dba2191e37f0e3c3c",
            "value": "100%"
          }
        },
        "db542aa750fc45a3a70ed66fd765705b": {
          "model_module": "@jupyter-widgets/controls",
          "model_module_version": "1.5.0",
          "model_name": "HTMLModel",
          "state": {
            "_dom_classes": [],
            "_model_module": "@jupyter-widgets/controls",
            "_model_module_version": "1.5.0",
            "_model_name": "HTMLModel",
            "_view_count": null,
            "_view_module": "@jupyter-widgets/controls",
            "_view_module_version": "1.5.0",
            "_view_name": "HTMLView",
            "description": "",
            "description_tooltip": null,
            "layout": "IPY_MODEL_1bb4c78d5cf94eef8ac0c71d990a1dbf",
            "placeholder": "​",
            "style": "IPY_MODEL_fe43c93ef882474da556eca1bde14a05",
            "value": "100%"
          }
        },
        "e8bd563058274e78a7f81730e345c3d8": {
          "model_module": "@jupyter-widgets/base",
          "model_module_version": "1.2.0",
          "model_name": "LayoutModel",
          "state": {
            "_model_module": "@jupyter-widgets/base",
            "_model_module_version": "1.2.0",
            "_model_name": "LayoutModel",
            "_view_count": null,
            "_view_module": "@jupyter-widgets/base",
            "_view_module_version": "1.2.0",
            "_view_name": "LayoutView",
            "align_content": null,
            "align_items": null,
            "align_self": null,
            "border": null,
            "bottom": null,
            "display": null,
            "flex": null,
            "flex_flow": null,
            "grid_area": null,
            "grid_auto_columns": null,
            "grid_auto_flow": null,
            "grid_auto_rows": null,
            "grid_column": null,
            "grid_gap": null,
            "grid_row": null,
            "grid_template_areas": null,
            "grid_template_columns": null,
            "grid_template_rows": null,
            "height": null,
            "justify_content": null,
            "justify_items": null,
            "left": null,
            "margin": null,
            "max_height": null,
            "max_width": null,
            "min_height": null,
            "min_width": null,
            "object_fit": null,
            "object_position": null,
            "order": null,
            "overflow": null,
            "overflow_x": null,
            "overflow_y": null,
            "padding": null,
            "right": null,
            "top": null,
            "visibility": null,
            "width": null
          }
        },
        "eaa2489f4dca43a0865011aff392586c": {
          "model_module": "@jupyter-widgets/base",
          "model_module_version": "1.2.0",
          "model_name": "LayoutModel",
          "state": {
            "_model_module": "@jupyter-widgets/base",
            "_model_module_version": "1.2.0",
            "_model_name": "LayoutModel",
            "_view_count": null,
            "_view_module": "@jupyter-widgets/base",
            "_view_module_version": "1.2.0",
            "_view_name": "LayoutView",
            "align_content": null,
            "align_items": null,
            "align_self": null,
            "border": null,
            "bottom": null,
            "display": null,
            "flex": null,
            "flex_flow": null,
            "grid_area": null,
            "grid_auto_columns": null,
            "grid_auto_flow": null,
            "grid_auto_rows": null,
            "grid_column": null,
            "grid_gap": null,
            "grid_row": null,
            "grid_template_areas": null,
            "grid_template_columns": null,
            "grid_template_rows": null,
            "height": null,
            "justify_content": null,
            "justify_items": null,
            "left": null,
            "margin": null,
            "max_height": null,
            "max_width": null,
            "min_height": null,
            "min_width": null,
            "object_fit": null,
            "object_position": null,
            "order": null,
            "overflow": null,
            "overflow_x": null,
            "overflow_y": null,
            "padding": null,
            "right": null,
            "top": null,
            "visibility": null,
            "width": null
          }
        },
        "ee1c1d2163b245488be38fa132d6e459": {
          "model_module": "@jupyter-widgets/base",
          "model_module_version": "1.2.0",
          "model_name": "LayoutModel",
          "state": {
            "_model_module": "@jupyter-widgets/base",
            "_model_module_version": "1.2.0",
            "_model_name": "LayoutModel",
            "_view_count": null,
            "_view_module": "@jupyter-widgets/base",
            "_view_module_version": "1.2.0",
            "_view_name": "LayoutView",
            "align_content": null,
            "align_items": null,
            "align_self": null,
            "border": null,
            "bottom": null,
            "display": null,
            "flex": null,
            "flex_flow": null,
            "grid_area": null,
            "grid_auto_columns": null,
            "grid_auto_flow": null,
            "grid_auto_rows": null,
            "grid_column": null,
            "grid_gap": null,
            "grid_row": null,
            "grid_template_areas": null,
            "grid_template_columns": null,
            "grid_template_rows": null,
            "height": null,
            "justify_content": null,
            "justify_items": null,
            "left": null,
            "margin": null,
            "max_height": null,
            "max_width": null,
            "min_height": null,
            "min_width": null,
            "object_fit": null,
            "object_position": null,
            "order": null,
            "overflow": null,
            "overflow_x": null,
            "overflow_y": null,
            "padding": null,
            "right": null,
            "top": null,
            "visibility": null,
            "width": null
          }
        },
        "ee4b8130d1e5439d9bf1d1961d1f1719": {
          "model_module": "@jupyter-widgets/controls",
          "model_module_version": "1.5.0",
          "model_name": "HTMLModel",
          "state": {
            "_dom_classes": [],
            "_model_module": "@jupyter-widgets/controls",
            "_model_module_version": "1.5.0",
            "_model_name": "HTMLModel",
            "_view_count": null,
            "_view_module": "@jupyter-widgets/controls",
            "_view_module_version": "1.5.0",
            "_view_name": "HTMLView",
            "description": "",
            "description_tooltip": null,
            "layout": "IPY_MODEL_34db956727e74e6887eeb41fef60ca83",
            "placeholder": "​",
            "style": "IPY_MODEL_8411bdbf22874200ab9483d69bcebc8e",
            "value": " 370634/370634 [00:09&lt;00:00, 37246.76it/s]"
          }
        },
        "ee5d31cf12a5447d86a0d1570a65df3a": {
          "model_module": "@jupyter-widgets/controls",
          "model_module_version": "1.5.0",
          "model_name": "ProgressStyleModel",
          "state": {
            "_model_module": "@jupyter-widgets/controls",
            "_model_module_version": "1.5.0",
            "_model_name": "ProgressStyleModel",
            "_view_count": null,
            "_view_module": "@jupyter-widgets/base",
            "_view_module_version": "1.2.0",
            "_view_name": "StyleView",
            "bar_color": null,
            "description_width": ""
          }
        },
        "f04c4b53b31444fc86aba442896eee30": {
          "model_module": "@jupyter-widgets/controls",
          "model_module_version": "1.5.0",
          "model_name": "HBoxModel",
          "state": {
            "_dom_classes": [],
            "_model_module": "@jupyter-widgets/controls",
            "_model_module_version": "1.5.0",
            "_model_name": "HBoxModel",
            "_view_count": null,
            "_view_module": "@jupyter-widgets/controls",
            "_view_module_version": "1.5.0",
            "_view_name": "HBoxView",
            "box_style": "",
            "children": [
              "IPY_MODEL_c4559ff6870f45d98e03739aafedb605",
              "IPY_MODEL_a3d1d6c3bdf14f7784394f4cc2525d40",
              "IPY_MODEL_c4e0872b86f7420cb1855f6bf208c9ad"
            ],
            "layout": "IPY_MODEL_8c12b1a555034d6fa58d887ce24e7c84"
          }
        },
        "f3d0c5be09414a3c9012d295237660d1": {
          "model_module": "@jupyter-widgets/controls",
          "model_module_version": "1.5.0",
          "model_name": "DescriptionStyleModel",
          "state": {
            "_model_module": "@jupyter-widgets/controls",
            "_model_module_version": "1.5.0",
            "_model_name": "DescriptionStyleModel",
            "_view_count": null,
            "_view_module": "@jupyter-widgets/base",
            "_view_module_version": "1.2.0",
            "_view_name": "StyleView",
            "description_width": ""
          }
        },
        "f40121e54d344b699e1a16d29c55e2ef": {
          "model_module": "@jupyter-widgets/controls",
          "model_module_version": "1.5.0",
          "model_name": "DescriptionStyleModel",
          "state": {
            "_model_module": "@jupyter-widgets/controls",
            "_model_module_version": "1.5.0",
            "_model_name": "DescriptionStyleModel",
            "_view_count": null,
            "_view_module": "@jupyter-widgets/base",
            "_view_module_version": "1.2.0",
            "_view_name": "StyleView",
            "description_width": ""
          }
        },
        "f7558243a9134cbbaeb93af50fd5d26c": {
          "model_module": "@jupyter-widgets/controls",
          "model_module_version": "1.5.0",
          "model_name": "FloatProgressModel",
          "state": {
            "_dom_classes": [],
            "_model_module": "@jupyter-widgets/controls",
            "_model_module_version": "1.5.0",
            "_model_name": "FloatProgressModel",
            "_view_count": null,
            "_view_module": "@jupyter-widgets/controls",
            "_view_module_version": "1.5.0",
            "_view_name": "ProgressView",
            "bar_style": "success",
            "description": "",
            "description_tooltip": null,
            "layout": "IPY_MODEL_0c633cd1fe3446afaf6c117c55dc0564",
            "max": 370634,
            "min": 0,
            "orientation": "horizontal",
            "style": "IPY_MODEL_8fc7489a907b4bddafdb17f8abf13d89",
            "value": 370634
          }
        },
        "f81473355e3a4117a8daba5a86c398e0": {
          "model_module": "@jupyter-widgets/controls",
          "model_module_version": "1.5.0",
          "model_name": "FloatProgressModel",
          "state": {
            "_dom_classes": [],
            "_model_module": "@jupyter-widgets/controls",
            "_model_module_version": "1.5.0",
            "_model_name": "FloatProgressModel",
            "_view_count": null,
            "_view_module": "@jupyter-widgets/controls",
            "_view_module_version": "1.5.0",
            "_view_name": "ProgressView",
            "bar_style": "success",
            "description": "",
            "description_tooltip": null,
            "layout": "IPY_MODEL_21ea4bd257084bef94c470d98e9e8ce1",
            "max": 1111901,
            "min": 0,
            "orientation": "horizontal",
            "style": "IPY_MODEL_40cec08a9c8548a780ca15ad104798cb",
            "value": 1111901
          }
        },
        "fc936a072fa146a3a68c7feb21e55024": {
          "model_module": "@jupyter-widgets/controls",
          "model_module_version": "1.5.0",
          "model_name": "HTMLModel",
          "state": {
            "_dom_classes": [],
            "_model_module": "@jupyter-widgets/controls",
            "_model_module_version": "1.5.0",
            "_model_name": "HTMLModel",
            "_view_count": null,
            "_view_module": "@jupyter-widgets/controls",
            "_view_module_version": "1.5.0",
            "_view_name": "HTMLView",
            "description": "",
            "description_tooltip": null,
            "layout": "IPY_MODEL_633fd5a0d22248e5a6f74cdedc181e6d",
            "placeholder": "​",
            "style": "IPY_MODEL_1d744eee44344f919c21c769b5a1731c",
            "value": "100%"
          }
        },
        "fe3b0ad9450a4b8e9e104e8c1dbb6436": {
          "model_module": "@jupyter-widgets/controls",
          "model_module_version": "1.5.0",
          "model_name": "HTMLModel",
          "state": {
            "_dom_classes": [],
            "_model_module": "@jupyter-widgets/controls",
            "_model_module_version": "1.5.0",
            "_model_name": "HTMLModel",
            "_view_count": null,
            "_view_module": "@jupyter-widgets/controls",
            "_view_module_version": "1.5.0",
            "_view_name": "HTMLView",
            "description": "",
            "description_tooltip": null,
            "layout": "IPY_MODEL_7643bc93a4a740afa4ee09bb955784fe",
            "placeholder": "​",
            "style": "IPY_MODEL_5c8f22f1482145fd990617f8ce7e06cc",
            "value": " 1111901/1111901 [00:28&lt;00:00, 39242.39it/s]"
          }
        },
        "fe43c93ef882474da556eca1bde14a05": {
          "model_module": "@jupyter-widgets/controls",
          "model_module_version": "1.5.0",
          "model_name": "DescriptionStyleModel",
          "state": {
            "_model_module": "@jupyter-widgets/controls",
            "_model_module_version": "1.5.0",
            "_model_name": "DescriptionStyleModel",
            "_view_count": null,
            "_view_module": "@jupyter-widgets/base",
            "_view_module_version": "1.2.0",
            "_view_name": "StyleView",
            "description_width": ""
          }
        },
        "ff3f5291fc4a4c54a498814fde1beee5": {
          "model_module": "@jupyter-widgets/base",
          "model_module_version": "1.2.0",
          "model_name": "LayoutModel",
          "state": {
            "_model_module": "@jupyter-widgets/base",
            "_model_module_version": "1.2.0",
            "_model_name": "LayoutModel",
            "_view_count": null,
            "_view_module": "@jupyter-widgets/base",
            "_view_module_version": "1.2.0",
            "_view_name": "LayoutView",
            "align_content": null,
            "align_items": null,
            "align_self": null,
            "border": null,
            "bottom": null,
            "display": null,
            "flex": null,
            "flex_flow": null,
            "grid_area": null,
            "grid_auto_columns": null,
            "grid_auto_flow": null,
            "grid_auto_rows": null,
            "grid_column": null,
            "grid_gap": null,
            "grid_row": null,
            "grid_template_areas": null,
            "grid_template_columns": null,
            "grid_template_rows": null,
            "height": null,
            "justify_content": null,
            "justify_items": null,
            "left": null,
            "margin": null,
            "max_height": null,
            "max_width": null,
            "min_height": null,
            "min_width": null,
            "object_fit": null,
            "object_position": null,
            "order": null,
            "overflow": null,
            "overflow_x": null,
            "overflow_y": null,
            "padding": null,
            "right": null,
            "top": null,
            "visibility": null,
            "width": null
          }
        }
      }
    }
  },
  "nbformat": 4,
  "nbformat_minor": 0
}