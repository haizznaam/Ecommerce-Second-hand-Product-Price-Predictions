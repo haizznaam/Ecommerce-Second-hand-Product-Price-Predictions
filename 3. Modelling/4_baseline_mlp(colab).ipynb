{
  "nbformat": 4,
  "nbformat_minor": 0,
  "metadata": {
    "colab": {
      "provenance": [],
      "machine_shape": "hm",
      "authorship_tag": "ABX9TyPDcC4Ha7Ctl+H/iR5Td5Eh",
      "include_colab_link": true
    },
    "kernelspec": {
      "name": "python3",
      "display_name": "Python 3"
    },
    "language_info": {
      "name": "python"
    }
  },
  "cells": [
    {
      "cell_type": "markdown",
      "metadata": {
        "id": "view-in-github",
        "colab_type": "text"
      },
      "source": [
        "<a href=\"https://colab.research.google.com/github/haizznaam/Thesis-Ecommerce-Price-Prediction/blob/main/3.%20Modelling/4_baseline_mlp(colab).ipynb\" target=\"_parent\"><img src=\"https://colab.research.google.com/assets/colab-badge.svg\" alt=\"Open In Colab\"/></a>"
      ]
    },
    {
      "cell_type": "code",
      "execution_count": null,
      "metadata": {
        "colab": {
          "base_uri": "https://localhost:8080/"
        },
        "id": "qMX0Xk1L69E0",
        "outputId": "10423f53-e180-40d4-8996-119b7e59a1a3"
      },
      "outputs": [
        {
          "output_type": "stream",
          "name": "stdout",
          "text": [
            "CWD is  /content\n"
          ]
        },
        {
          "output_type": "stream",
          "name": "stderr",
          "text": [
            "WARNING:root:pydrive is deprecated and no longer maintained. We recommend that you migrate your projects to pydrive2, the maintained fork of pydrive\n"
          ]
        }
      ],
      "source": [
        "# Basic Libs..\n",
        "import warnings\n",
        "warnings.filterwarnings(\"ignore\")\n",
        "import math\n",
        "import time\n",
        "import pandas as pd\n",
        "import numpy as np\n",
        "import scipy\n",
        "import scipy.sparse\n",
        "from tqdm import tqdm,tqdm_notebook\n",
        "from prettytable import PrettyTable\n",
        "import pickle\n",
        "from IPython.display import Image\n",
        "from contextlib import contextmanager\n",
        "import os\n",
        "print('CWD is ',os.getcwd())\n",
        "\n",
        "# Vis Libs..\n",
        "import seaborn as sns\n",
        "import matplotlib.pyplot as plt\n",
        "from wordcloud import WordCloud\n",
        "\n",
        "# Text Libs..\n",
        "import re\n",
        "from gensim import corpora, models\n",
        "import gensim\n",
        "from gensim.utils import simple_preprocess\n",
        "from gensim.parsing.preprocessing import STOPWORDS\n",
        "from nltk.stem import WordNetLemmatizer, SnowballStemmer,PorterStemmer\n",
        "from nltk.stem.porter import *\n",
        "import nltk\n",
        "from nltk.sentiment.vader import SentimentIntensityAnalyzer\n",
        "from sklearn.feature_extraction import DictVectorizer\n",
        "from sklearn.feature_extraction.text import CountVectorizer,TfidfVectorizer\n",
        "from sklearn.preprocessing import LabelBinarizer\n",
        "\n",
        "# ML Libs...\n",
        "from sklearn.model_selection import train_test_split\n",
        "from sklearn.preprocessing import StandardScaler, MinMaxScaler, OneHotEncoder,FunctionTransformer\n",
        "from sklearn.linear_model import Ridge\n",
        "from sklearn.metrics import mean_squared_error\n",
        "import lightgbm as lgb\n",
        "from sklearn.feature_selection import SelectKBest,f_regression\n",
        "from sklearn.model_selection import GridSearchCV\n",
        "\n",
        "\n",
        "# DL Libs..\n",
        "from tensorflow.keras.preprocessing.text import Tokenizer\n",
        "from tensorflow.keras.preprocessing.sequence import pad_sequences\n",
        "from tensorflow.keras.layers import Dense, Input , Dropout, Flatten,concatenate,LSTM\n",
        "from tensorflow.keras.layers import Embedding\n",
        "import tensorflow.keras\n",
        "from tensorflow.keras.models import Model,load_model\n",
        "from tensorflow.keras.layers import BatchNormalization\n",
        "from tensorflow.keras.utils import plot_model\n",
        "from tensorflow.keras.callbacks import ModelCheckpoint,TensorBoard,ReduceLROnPlateau, EarlyStopping\n",
        "from tensorflow.keras import backend as K\n",
        "from tensorflow.keras import optimizers\n",
        "\n",
        "# Colab Libs...\n",
        "from pydrive.auth import GoogleAuth\n",
        "from pydrive.drive import GoogleDrive\n",
        "from google.colab import auth\n",
        "from oauth2client.client import GoogleCredentials"
      ]
    },
    {
      "cell_type": "markdown",
      "source": [
        "# 12. Baseline MLP (Colab)"
      ],
      "metadata": {
        "id": "Aer4S9fN7MIY"
      }
    },
    {
      "cell_type": "markdown",
      "source": [
        "## 12.1. Setup Colabb Environment"
      ],
      "metadata": {
        "id": "OyLgMTMM7UaI"
      }
    },
    {
      "cell_type": "markdown",
      "source": [
        "'''\n",
        "Code below sets up Google Colab to load the input files from\n",
        "Google Drive and can output files as well\n",
        "'''"
      ],
      "metadata": {
        "id": "C9SbPZJy7fOL"
      }
    },
    {
      "cell_type": "code",
      "source": [
        "auth.authenticate_user()\n",
        "gauth = GoogleAuth()\n",
        "gauth.credentials = GoogleCredentials.get_application_default()\n",
        "drive = GoogleDrive(gauth)"
      ],
      "metadata": {
        "id": "jiBWirnH7Q8C"
      },
      "execution_count": null,
      "outputs": []
    },
    {
      "cell_type": "code",
      "source": [
        "from google.colab import drive\n",
        "drive.mount('/content/gdrive')"
      ],
      "metadata": {
        "colab": {
          "base_uri": "https://localhost:8080/"
        },
        "id": "-2EfpFs47jQQ",
        "outputId": "e6e48973-24fb-4c32-8200-6ae1aaf96eaf"
      },
      "execution_count": null,
      "outputs": [
        {
          "output_type": "stream",
          "name": "stdout",
          "text": [
            "Drive already mounted at /content/gdrive; to attempt to forcibly remount, call drive.mount(\"/content/gdrive\", force_remount=True).\n"
          ]
        }
      ]
    },
    {
      "cell_type": "code",
      "source": [
        "import os\n",
        "os.chdir('/content/gdrive/MyDrive/Mercari Price Prediction')\n",
        "print(\"We are currently in the folder of \", os.getcwd())"
      ],
      "metadata": {
        "colab": {
          "base_uri": "https://localhost:8080/"
        },
        "id": "p-GxBv5g7pNx",
        "outputId": "44fc4782-d12a-42d6-b464-09c1d57aac2c"
      },
      "execution_count": null,
      "outputs": [
        {
          "output_type": "stream",
          "name": "stdout",
          "text": [
            "We are currently in the folder of  /content/gdrive/MyDrive/Mercari Price Prediction\n"
          ]
        }
      ]
    },
    {
      "cell_type": "markdown",
      "source": [
        "## 12.2 Load Data From GDrive"
      ],
      "metadata": {
        "id": "vunQf-mo8Ynl"
      }
    },
    {
      "cell_type": "code",
      "source": [
        "# /content/gdrive/MyDrive/Mercari Price Prediction\n",
        "file = open('/content/gdrive/MyDrive/Mercari Price Prediction/2. Processing/storage/df_train_model', 'rb')\n",
        "df_train_model = pickle.load(file)\n",
        "file.close()\n",
        "\n",
        "file = open('/content/gdrive/MyDrive/Mercari Price Prediction/2. Processing/storage/df_test_model', 'rb')\n",
        "df_test_model = pickle.load(file)\n",
        "file.close()\n",
        "\n",
        "print(df_train_model.shape,'\\n',df_test_model.shape)"
      ],
      "metadata": {
        "colab": {
          "base_uri": "https://localhost:8080/"
        },
        "id": "R9n8d-Vu8dNd",
        "outputId": "bdcffec1-7aaa-46ff-c3ea-6cc4272596a0"
      },
      "execution_count": null,
      "outputs": [
        {
          "output_type": "stream",
          "name": "stdout",
          "text": [
            "(1111901, 8) \n",
            " (370634, 8)\n"
          ]
        }
      ]
    },
    {
      "cell_type": "markdown",
      "source": [
        "## 12.3. Encoding data"
      ],
      "metadata": {
        "id": "gOytJhGD9CMQ"
      }
    },
    {
      "cell_type": "code",
      "source": [
        "'''\n",
        "This Function concatenates text features from item-name,brand,category,description to create\n",
        "the concatenated text feature.\n",
        "'''\n",
        "\n",
        "def data_preprocess(df):\n",
        "    df['name'] = df['name'].fillna('') + ' ' + df['brand_name'].fillna('')\n",
        "    df['text'] = (df['item_description'].fillna('') + ' ' + df['name'] + ' ' + df['category_name'].fillna(''))\n",
        "    return df[['name', 'text', 'shipping', 'item_condition_id','price']]"
      ],
      "metadata": {
        "id": "0iBv-dbn8j17"
      },
      "execution_count": null,
      "outputs": []
    },
    {
      "cell_type": "code",
      "source": [
        "'''\n",
        "This Function takes in train,test datasets as input and returns\n",
        "feature transforms - Tfidfvectorizer,Onehotencoder,etc. and\n",
        "returns concatenated feature (hstack) of X_train,X_test,y_train,y_test as output.\n",
        "'''\n",
        "def data_encoder(train,test):\n",
        "    # Text Encoding for Names...\n",
        "    vect_name = TfidfVectorizer(max_features=100000, token_pattern='\\w+', dtype=np.float32)\n",
        "    train_name  = vect_name.fit_transform(train['name'].values)\n",
        "    test_name = vect_name.transform(test['name'].values)\n",
        "\n",
        "    # Text Encoding for Text...\n",
        "    vect_text = TfidfVectorizer(max_features=100000, token_pattern='\\w+', ngram_range=(1, 2), dtype=np.float32)\n",
        "    train_text  = vect_text.fit_transform(train['text'].values)\n",
        "    test_text = vect_text.transform(test['text'].values)\n",
        "\n",
        "    # Encoding for Shipping, Item Condition ID...\n",
        "    train_dummies = scipy.sparse.csr_matrix(pd.get_dummies(train[[\"item_condition_id\", \"shipping\"]], sparse = True).values)\n",
        "    test_dummies = scipy.sparse.csr_matrix(pd.get_dummies(test[[\"item_condition_id\", \"shipping\"]], sparse = True).values)\n",
        "\n",
        "    # Final Feature Stack for X_train,X_test\n",
        "    X_train = scipy.sparse.hstack((train_name, train_text, train_dummies)).tocsr().astype('float32')\n",
        "    X_test = scipy.sparse.hstack((test_name, test_text, test_dummies)).tocsr().astype('float32')\n",
        "\n",
        "    # Final Outputs.. y_train,y_test (Standardizing the output variable price) using standardscaler...\n",
        "    global y_scaler\n",
        "    y_scaler = StandardScaler()\n",
        "    y_train = y_scaler.fit_transform(np.log1p(train['price'].values.reshape(-1, 1)))\n",
        "    y_test = y_scaler.transform(np.log1p(test['price'].values.reshape(-1, 1)))\n",
        "\n",
        "    return X_train,X_test,y_train,y_test"
      ],
      "metadata": {
        "id": "sGrrF7eZ9L6u"
      },
      "execution_count": null,
      "outputs": []
    },
    {
      "cell_type": "code",
      "source": [
        "X_train,X_test,y_train,y_test = data_encoder(data_preprocess(df_train_model),data_preprocess(df_test_model))\n",
        "print(X_train.shape,X_test.shape,y_train.shape,y_test.shape)"
      ],
      "metadata": {
        "colab": {
          "base_uri": "https://localhost:8080/"
        },
        "id": "AHnPLNrv9qu2",
        "outputId": "64c1b31c-eacf-43f3-af7a-bc4865e1c163"
      },
      "execution_count": null,
      "outputs": [
        {
          "output_type": "stream",
          "name": "stdout",
          "text": [
            "(1111901, 190491) (370634, 190491) (1111901, 1) (370634, 1)\n"
          ]
        }
      ]
    },
    {
      "cell_type": "markdown",
      "source": [
        "## 12.4. Creating MLP Model"
      ],
      "metadata": {
        "id": "fyZ6E2Xo-FMn"
      }
    },
    {
      "cell_type": "code",
      "source": [
        "'''Building a Sparse MLP model'''\n",
        "\n",
        "def build_mlp_model(train):\n",
        "    model_in = Input(shape=(train.shape[1],), dtype='float32', sparse=True)\n",
        "    out = Dense(256, activation='relu')(model_in)\n",
        "    out = Dense(64, activation='relu')(out)\n",
        "    out = Dense(64, activation='relu')(out)\n",
        "    out = Dense(32, activation='relu')(out)\n",
        "    out = Dense(1)(out)\n",
        "    model = Model(model_in, out)\n",
        "    return model"
      ],
      "metadata": {
        "id": "P_pR8vrt-HMg"
      },
      "execution_count": null,
      "outputs": []
    },
    {
      "cell_type": "code",
      "source": [
        "'''Summarizing the model built'''\n",
        "\n",
        "baseline_mlp_model = build_mlp_model(X_train)\n",
        "baseline_mlp_model.summary()"
      ],
      "metadata": {
        "colab": {
          "base_uri": "https://localhost:8080/"
        },
        "id": "9GmoKfLy-MmA",
        "outputId": "6eb3294a-1918-48d7-f598-fa9f6118ff87"
      },
      "execution_count": null,
      "outputs": [
        {
          "output_type": "stream",
          "name": "stdout",
          "text": [
            "Model: \"model\"\n",
            "_________________________________________________________________\n",
            " Layer (type)                Output Shape              Param #   \n",
            "=================================================================\n",
            " input_1 (InputLayer)        [(None, 190491)]          0         \n",
            "                                                                 \n",
            " dense (Dense)               (None, 256)               48765952  \n",
            "                                                                 \n",
            " dense_1 (Dense)             (None, 64)                16448     \n",
            "                                                                 \n",
            " dense_2 (Dense)             (None, 64)                4160      \n",
            "                                                                 \n",
            " dense_3 (Dense)             (None, 32)                2080      \n",
            "                                                                 \n",
            " dense_4 (Dense)             (None, 1)                 33        \n",
            "                                                                 \n",
            "=================================================================\n",
            "Total params: 48788673 (186.11 MB)\n",
            "Trainable params: 48788673 (186.11 MB)\n",
            "Non-trainable params: 0 (0.00 Byte)\n",
            "_________________________________________________________________\n"
          ]
        }
      ]
    },
    {
      "cell_type": "code",
      "source": [
        "'''Graphical Visualization of the Model'''\n",
        "\n",
        "plot_model(baseline_mlp_model, to_file='baseline_mlp_model.png', show_shapes=True, show_layer_names=True)\n",
        "Image(filename='baseline_mlp_model.png')"
      ],
      "metadata": {
        "colab": {
          "base_uri": "https://localhost:8080/",
          "height": 644
        },
        "id": "exYui_G8-llt",
        "outputId": "8e40c0e5-c482-4543-dad8-90979a944713"
      },
      "execution_count": null,
      "outputs": [
        {
          "output_type": "execute_result",
          "data": {
            "image/png": "[encoded data removed]",
            "text/plain": [
              "<IPython.core.display.Image object>"
            ]
          },
          "metadata": {},
          "execution_count": 11
        }
      ]
    },
    {
      "cell_type": "markdown",
      "source": [
        "## 12.5. Train Model"
      ],
      "metadata": {
        "id": "Wh4HAsPU-n5M"
      }
    },
    {
      "cell_type": "code",
      "source": [
        "'''This function builds a timer which prints time elapsed for a code section to execute'''\n",
        "\n",
        "@contextmanager\n",
        "def timer(name):\n",
        "    t0 = time.time()\n",
        "    yield\n",
        "    print(f'[{name}] done in {time.time() - t0:.0f} s')"
      ],
      "metadata": {
        "id": "Qg7azcLg-m1V"
      },
      "execution_count": null,
      "outputs": []
    },
    {
      "cell_type": "code",
      "source": [
        "'''Defining the Evaluation Metric - RMSLE'''\n",
        "\n",
        "def rmsle_score(y, y_pred):\n",
        "    assert len(y) == len(y_pred)\n",
        "    to_sum = [(math.log(y_pred[i] + 1) - math.log(y[i] + 1)) ** 2.0 for i,pred in enumerate(y_pred)]\n",
        "    return (sum(to_sum) * (1.0/len(y))) ** 0.5"
      ],
      "metadata": {
        "id": "Ym8bff-F-sGj"
      },
      "execution_count": null,
      "outputs": []
    },
    {
      "cell_type": "code",
      "source": [
        "'''Training Model'''\n",
        "\n",
        "baseline_mlp_model.compile(loss='mean_squared_error', optimizer=optimizers.Adam(lr=3e-3))\n",
        "filepath = \"baseline_mlp_model_epochs:{epoch:03d}-val_loss:{val_loss:.3f}.hdf5\"\n",
        "checkpoint = ModelCheckpoint(filepath,monitor=\"val_loss\",mode=\"min\",save_best_only = True,verbose = 1)\n",
        "tensorboard = TensorBoard(log_dir='/content/gdrive/MyDrive/Mercari Price Prediction/mlp_model')\n",
        "callbacks_list = [checkpoint,tensorboard]\n",
        "\n",
        "# Training 3 Models with incremental Batch Sizes of (256,512,1024,2049) for 1 epoch each..\n",
        "for i in range(5):\n",
        "    with timer(f'epoch {i + 1}'):\n",
        "        baseline_mlp_model.fit(x=X_train, y=y_train, batch_size=2**(8 + i), epochs=1, verbose=1, validation_data=(X_test, y_test),callbacks = callbacks_list)\n",
        "        # print('Test RMSLE after epoch = ',i,' is ',rmsle_score(np.expm1(y_test) , np.expm1(baseline_mlp_model.predict(X_test)[:, 0])),'\\n')\n",
        "\n",
        "        preds = baseline_mlp_model.predict(X_test)[:, 0]\n",
        "        y_pred = np.expm1(y_scaler.inverse_transform(preds.reshape(-1, 1))[:, 0])\n",
        "        print('Test RMSLE for batch size = ',2**(8 + i),' is ',rmsle_score(df_test_model.price.values , y_pred),'\\n')"
      ],
      "metadata": {
        "colab": {
          "base_uri": "https://localhost:8080/"
        },
        "id": "MebgzcWO-t0w",
        "outputId": "c97998d7-72cd-4bc6-bd3b-e824123b050f"
      },
      "execution_count": null,
      "outputs": [
        {
          "output_type": "stream",
          "name": "stderr",
          "text": [
            "WARNING:absl:`lr` is deprecated in Keras optimizer, please use `learning_rate` or use the legacy optimizer, e.g.,tf.keras.optimizers.legacy.Adam.\n"
          ]
        },
        {
          "output_type": "stream",
          "name": "stdout",
          "text": [
            "4344/4344 [==============================] - ETA: 0s - loss: 0.3625\n",
            "Epoch 1: val_loss improved from inf to 0.31963, saving model to baseline_mlp_model_epochs:001-val_loss:0.320.hdf5\n",
            "4344/4344 [==============================] - 2889s 664ms/step - loss: 0.3625 - val_loss: 0.3196\n",
            "11583/11583 [==============================] - 26s 2ms/step\n",
            "Test RMSLE for batch size =  256  is  0.42343225664955736 \n",
            "\n",
            "[epoch 1] done in 2944 s\n",
            "2172/2172 [==============================] - ETA: 0s - loss: 0.2198\n",
            "Epoch 1: val_loss improved from 0.31963 to 0.30813, saving model to baseline_mlp_model_epochs:001-val_loss:0.308.hdf5\n",
            "2172/2172 [==============================] - 1402s 645ms/step - loss: 0.2198 - val_loss: 0.3081\n",
            "11583/11583 [==============================] - 26s 2ms/step\n",
            "Test RMSLE for batch size =  512  is  0.415742565926576 \n",
            "\n",
            "[epoch 2] done in 1442 s\n",
            "1086/1086 [==============================] - ETA: 0s - loss: 0.1246\n",
            "Epoch 1: val_loss did not improve from 0.30813\n",
            "1086/1086 [==============================] - 715s 657ms/step - loss: 0.1246 - val_loss: 0.3158\n",
            "11583/11583 [==============================] - 26s 2ms/step\n",
            "Test RMSLE for batch size =  1024  is  0.4209041642726431 \n",
            "\n",
            "[epoch 3] done in 754 s\n",
            "543/543 [==============================] - ETA: 0s - loss: 0.0685\n",
            "Epoch 1: val_loss did not improve from 0.30813\n",
            "543/543 [==============================] - 403s 738ms/step - loss: 0.0685 - val_loss: 0.3198\n",
            "11583/11583 [==============================] - 25s 2ms/step\n",
            "Test RMSLE for batch size =  2048  is  0.4235150750874924 \n",
            "\n",
            "[epoch 4] done in 441 s\n",
            "272/272 [==============================] - ETA: 0s - loss: 0.0390\n",
            "Epoch 1: val_loss did not improve from 0.30813\n",
            "272/272 [==============================] - 200s 729ms/step - loss: 0.0390 - val_loss: 0.3248\n",
            "11583/11583 [==============================] - 25s 2ms/step\n",
            "Test RMSLE for batch size =  4096  is  0.42686120860247817 \n",
            "\n",
            "[epoch 5] done in 239 s\n",
            "136/136 [==============================] - ETA: 0s - loss: 0.0252\n",
            "Epoch 1: val_loss did not improve from 0.30813\n",
            "136/136 [==============================] - 138s 1s/step - loss: 0.0252 - val_loss: 0.3294\n",
            "11583/11583 [==============================] - 25s 2ms/step\n",
            "Test RMSLE for batch size =  8192  is  0.42984106945603323 \n",
            "\n",
            "[epoch 6] done in 175 s\n",
            "68/68 [==============================] - ETA: 0s - loss: 0.0194\n",
            "Epoch 1: val_loss did not improve from 0.30813\n",
            "68/68 [==============================] - 175s 3s/step - loss: 0.0194 - val_loss: 0.3329\n",
            "11583/11583 [==============================] - 26s 2ms/step\n",
            "Test RMSLE for batch size =  16384  is  0.4321592852778536 \n",
            "\n",
            "[epoch 7] done in 213 s\n",
            "34/34 [==============================] - ETA: 0s - loss: 0.0169\n",
            "Epoch 1: val_loss did not improve from 0.30813\n",
            "34/34 [==============================] - 88s 3s/step - loss: 0.0169 - val_loss: 0.3336\n",
            "11583/11583 [==============================] - 25s 2ms/step\n",
            "Test RMSLE for batch size =  32768  is  0.4325603819022069 \n",
            "\n",
            "[epoch 8] done in 126 s\n",
            "17/17 [==============================] - ETA: 0s - loss: 0.0158\n",
            "Epoch 1: val_loss did not improve from 0.30813\n",
            "17/17 [==============================] - 82s 5s/step - loss: 0.0158 - val_loss: 0.3344\n",
            "11583/11583 [==============================] - 28s 2ms/step\n",
            "Test RMSLE for batch size =  65536  is  0.4331050837466494 \n",
            "\n",
            "[epoch 9] done in 123 s\n",
            "9/9 [==============================] - ETA: 0s - loss: 0.0153\n",
            "Epoch 1: val_loss did not improve from 0.30813\n",
            "9/9 [==============================] - 79s 8s/step - loss: 0.0153 - val_loss: 0.3347\n",
            "11583/11583 [==============================] - 25s 2ms/step\n",
            "Test RMSLE for batch size =  131072  is  0.4332864115409114 \n",
            "\n",
            "[epoch 10] done in 116 s\n"
          ]
        }
      ]
    },
    {
      "cell_type": "markdown",
      "source": [
        "**Results - Model with batch size = 512 gave the best results**"
      ],
      "metadata": {
        "id": "u_tlnOgPVnCs"
      }
    },
    {
      "cell_type": "markdown",
      "source": [
        "## 12.6. Test Model"
      ],
      "metadata": {
        "id": "bX3zKtu5VsBz"
      }
    },
    {
      "cell_type": "code",
      "source": [
        "best_model = load_model('/content/gdrive/MyDrive/Mercari Price Prediction/baseline_mlp_model_epochs:001-val_loss:0.308.hdf5')\n",
        "\n",
        "preds = best_model.predict(X_test)[:, 0]\n",
        "y_pred = np.expm1(y_scaler.inverse_transform(preds.reshape(-1, 1))[:, 0])\n",
        "\n",
        "print('RMSLE of Test set is ',rmsle_score(df_test_model.price.values , y_pred))"
      ],
      "metadata": {
        "colab": {
          "base_uri": "https://localhost:8080/"
        },
        "id": "ZcysXHUo-yjE",
        "outputId": "e94d4ce0-e13d-4855-ae59-73de42928c42"
      },
      "execution_count": null,
      "outputs": [
        {
          "output_type": "stream",
          "name": "stdout",
          "text": [
            "11583/11583 [==============================] - 25s 2ms/step\n",
            "RMSLE of Test set is  0.415742565926576\n"
          ]
        }
      ]
    },
    {
      "cell_type": "markdown",
      "source": [
        "\n",
        "\n",
        "---\n",
        "\n",
        "\n",
        "**Summary - We obtain a Test RMSLE of 0.4157, the best Model so far obtained**"
      ],
      "metadata": {
        "id": "sL5zt-EmW2Pw"
      }
    }
  ]
}